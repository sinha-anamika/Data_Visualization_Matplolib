{
 "cells": [
  {
   "cell_type": "code",
   "execution_count": 2,
   "metadata": {
    "collapsed": false
   },
   "outputs": [
    {
     "name": "stdout",
     "output_type": "stream",
     "text": [
      "3.6.0 |Anaconda 4.3.1 (x86_64)| (default, Dec 23 2016, 13:19:00) \n",
      "[GCC 4.2.1 Compatible Apple LLVM 6.0 (clang-600.0.57)]\n",
      "1.11.3\n",
      "0.19.2\n"
     ]
    }
   ],
   "source": [
    "%matplotlib inline\n",
    "import sys\n",
    "print(sys.version)\n",
    "import numpy as np\n",
    "print(np.__version__)\n",
    "import pandas as pd\n",
    "print(pd.__version__)\n",
    "import matplotlib.pyplot as plt\n",
    "from datetime import datetime"
   ]
  },
  {
   "cell_type": "code",
   "execution_count": 44,
   "metadata": {
    "collapsed": false
   },
   "outputs": [
    {
     "data": {
      "text/html": [
       "<div>\n",
       "<table border=\"1\" class=\"dataframe\">\n",
       "  <thead>\n",
       "    <tr style=\"text-align: right;\">\n",
       "      <th></th>\n",
       "      <th>id</th>\n",
       "      <th>wp_identifier</th>\n",
       "      <th>network</th>\n",
       "      <th>location</th>\n",
       "      <th>program</th>\n",
       "      <th>program_type</th>\n",
       "      <th>start_time</th>\n",
       "      <th>end_time</th>\n",
       "      <th>archive_id</th>\n",
       "      <th>embed_url</th>\n",
       "      <th>...</th>\n",
       "      <th>cycle</th>\n",
       "      <th>subjects</th>\n",
       "      <th>candidates</th>\n",
       "      <th>type</th>\n",
       "      <th>message</th>\n",
       "      <th>date_created</th>\n",
       "      <th>ad_duration_secs</th>\n",
       "      <th>metro_area_state</th>\n",
       "      <th>state</th>\n",
       "      <th>metro_area</th>\n",
       "    </tr>\n",
       "  </thead>\n",
       "  <tbody>\n",
       "    <tr>\n",
       "      <th>0</th>\n",
       "      <td>1</td>\n",
       "      <td>5643</td>\n",
       "      <td>KLAS</td>\n",
       "      <td>Las Vegas, NV</td>\n",
       "      <td>8 News Now at 5 PM</td>\n",
       "      <td>news</td>\n",
       "      <td>2016-09-09 00:12:59</td>\n",
       "      <td>2016-09-09 00:13:29</td>\n",
       "      <td>PolAd_HillaryClinton_f1h3j</td>\n",
       "      <td>https://archive.org/embed/PolAd_HillaryClinton...</td>\n",
       "      <td>...</td>\n",
       "      <td>2016.0</td>\n",
       "      <td>Energy, China, Jobs</td>\n",
       "      <td>Hillary Clinton</td>\n",
       "      <td>campaign</td>\n",
       "      <td>pro</td>\n",
       "      <td>2016-09-12 14:49:00</td>\n",
       "      <td>30.0</td>\n",
       "      <td>[Las Vegas,  NV]</td>\n",
       "      <td>NV</td>\n",
       "      <td>Las Vegas</td>\n",
       "    </tr>\n",
       "    <tr>\n",
       "      <th>1</th>\n",
       "      <td>2</td>\n",
       "      <td>5643</td>\n",
       "      <td>WNCN</td>\n",
       "      <td>Raleigh-Durham-Fayetteville,  NC</td>\n",
       "      <td>North Carolina News at 500PM</td>\n",
       "      <td>news</td>\n",
       "      <td>2016-09-06 21:58:25</td>\n",
       "      <td>2016-09-06 21:58:55</td>\n",
       "      <td>PolAd_HillaryClinton_f1h3j</td>\n",
       "      <td>https://archive.org/embed/PolAd_HillaryClinton...</td>\n",
       "      <td>...</td>\n",
       "      <td>2016.0</td>\n",
       "      <td>Energy, China, Jobs</td>\n",
       "      <td>Hillary Clinton</td>\n",
       "      <td>campaign</td>\n",
       "      <td>pro</td>\n",
       "      <td>2016-09-12 14:49:00</td>\n",
       "      <td>30.0</td>\n",
       "      <td>[Raleigh-Durham-Fayetteville,   NC]</td>\n",
       "      <td>NC</td>\n",
       "      <td>Raleigh-Durham-Fayetteville</td>\n",
       "    </tr>\n",
       "    <tr>\n",
       "      <th>2</th>\n",
       "      <td>3</td>\n",
       "      <td>5643</td>\n",
       "      <td>KLAS</td>\n",
       "      <td>Las Vegas, NV</td>\n",
       "      <td>Face the Nation</td>\n",
       "      <td>news</td>\n",
       "      <td>2016-09-04 16:24:25</td>\n",
       "      <td>2016-09-04 16:24:55</td>\n",
       "      <td>PolAd_HillaryClinton_f1h3j</td>\n",
       "      <td>https://archive.org/embed/PolAd_HillaryClinton...</td>\n",
       "      <td>...</td>\n",
       "      <td>2016.0</td>\n",
       "      <td>Energy, China, Jobs</td>\n",
       "      <td>Hillary Clinton</td>\n",
       "      <td>campaign</td>\n",
       "      <td>pro</td>\n",
       "      <td>2016-09-12 14:49:00</td>\n",
       "      <td>30.0</td>\n",
       "      <td>[Las Vegas,  NV]</td>\n",
       "      <td>NV</td>\n",
       "      <td>Las Vegas</td>\n",
       "    </tr>\n",
       "    <tr>\n",
       "      <th>3</th>\n",
       "      <td>4</td>\n",
       "      <td>5643</td>\n",
       "      <td>WFLA</td>\n",
       "      <td>Tampa-St. Petersburg, FL</td>\n",
       "      <td>Days of Our Lives</td>\n",
       "      <td>not news</td>\n",
       "      <td>2016-08-30 17:59:20</td>\n",
       "      <td>2016-08-30 17:59:50</td>\n",
       "      <td>PolAd_HillaryClinton_f1h3j</td>\n",
       "      <td>https://archive.org/embed/PolAd_HillaryClinton...</td>\n",
       "      <td>...</td>\n",
       "      <td>2016.0</td>\n",
       "      <td>Energy, China, Jobs</td>\n",
       "      <td>Hillary Clinton</td>\n",
       "      <td>campaign</td>\n",
       "      <td>pro</td>\n",
       "      <td>2016-09-12 14:49:00</td>\n",
       "      <td>30.0</td>\n",
       "      <td>[Tampa-St. Petersburg,  FL]</td>\n",
       "      <td>FL</td>\n",
       "      <td>Tampa-St. Petersburg</td>\n",
       "    </tr>\n",
       "    <tr>\n",
       "      <th>4</th>\n",
       "      <td>5</td>\n",
       "      <td>5643</td>\n",
       "      <td>KSNV</td>\n",
       "      <td>Las Vegas, NV</td>\n",
       "      <td>The Tonight Show Starring Jimmy Fallon</td>\n",
       "      <td>news</td>\n",
       "      <td>2016-09-06 07:02:22</td>\n",
       "      <td>2016-09-06 07:02:52</td>\n",
       "      <td>PolAd_HillaryClinton_f1h3j</td>\n",
       "      <td>https://archive.org/embed/PolAd_HillaryClinton...</td>\n",
       "      <td>...</td>\n",
       "      <td>2016.0</td>\n",
       "      <td>Energy, China, Jobs</td>\n",
       "      <td>Hillary Clinton</td>\n",
       "      <td>campaign</td>\n",
       "      <td>pro</td>\n",
       "      <td>2016-09-12 14:49:00</td>\n",
       "      <td>30.0</td>\n",
       "      <td>[Las Vegas,  NV]</td>\n",
       "      <td>NV</td>\n",
       "      <td>Las Vegas</td>\n",
       "    </tr>\n",
       "  </tbody>\n",
       "</table>\n",
       "<p>5 rows × 23 columns</p>\n",
       "</div>"
      ],
      "text/plain": [
       "   id  wp_identifier network                          location  \\\n",
       "0   1           5643    KLAS                     Las Vegas, NV   \n",
       "1   2           5643    WNCN  Raleigh-Durham-Fayetteville,  NC   \n",
       "2   3           5643    KLAS                     Las Vegas, NV   \n",
       "3   4           5643    WFLA          Tampa-St. Petersburg, FL   \n",
       "4   5           5643    KSNV                     Las Vegas, NV   \n",
       "\n",
       "                                  program program_type          start_time  \\\n",
       "0                      8 News Now at 5 PM         news 2016-09-09 00:12:59   \n",
       "1            North Carolina News at 500PM         news 2016-09-06 21:58:25   \n",
       "2                         Face the Nation         news 2016-09-04 16:24:25   \n",
       "3                       Days of Our Lives     not news 2016-08-30 17:59:20   \n",
       "4  The Tonight Show Starring Jimmy Fallon         news 2016-09-06 07:02:22   \n",
       "\n",
       "             end_time                  archive_id  \\\n",
       "0 2016-09-09 00:13:29  PolAd_HillaryClinton_f1h3j   \n",
       "1 2016-09-06 21:58:55  PolAd_HillaryClinton_f1h3j   \n",
       "2 2016-09-04 16:24:55  PolAd_HillaryClinton_f1h3j   \n",
       "3 2016-08-30 17:59:50  PolAd_HillaryClinton_f1h3j   \n",
       "4 2016-09-06 07:02:52  PolAd_HillaryClinton_f1h3j   \n",
       "\n",
       "                                           embed_url  \\\n",
       "0  https://archive.org/embed/PolAd_HillaryClinton...   \n",
       "1  https://archive.org/embed/PolAd_HillaryClinton...   \n",
       "2  https://archive.org/embed/PolAd_HillaryClinton...   \n",
       "3  https://archive.org/embed/PolAd_HillaryClinton...   \n",
       "4  https://archive.org/embed/PolAd_HillaryClinton...   \n",
       "\n",
       "              ...                cycle             subjects       candidates  \\\n",
       "0             ...               2016.0  Energy, China, Jobs  Hillary Clinton   \n",
       "1             ...               2016.0  Energy, China, Jobs  Hillary Clinton   \n",
       "2             ...               2016.0  Energy, China, Jobs  Hillary Clinton   \n",
       "3             ...               2016.0  Energy, China, Jobs  Hillary Clinton   \n",
       "4             ...               2016.0  Energy, China, Jobs  Hillary Clinton   \n",
       "\n",
       "       type message        date_created ad_duration_secs  \\\n",
       "0  campaign     pro 2016-09-12 14:49:00             30.0   \n",
       "1  campaign     pro 2016-09-12 14:49:00             30.0   \n",
       "2  campaign     pro 2016-09-12 14:49:00             30.0   \n",
       "3  campaign     pro 2016-09-12 14:49:00             30.0   \n",
       "4  campaign     pro 2016-09-12 14:49:00             30.0   \n",
       "\n",
       "                      metro_area_state state                   metro_area  \n",
       "0                     [Las Vegas,  NV]    NV                    Las Vegas  \n",
       "1  [Raleigh-Durham-Fayetteville,   NC]    NC  Raleigh-Durham-Fayetteville  \n",
       "2                     [Las Vegas,  NV]    NV                    Las Vegas  \n",
       "3          [Tampa-St. Petersburg,  FL]    FL         Tampa-St. Petersburg  \n",
       "4                     [Las Vegas,  NV]    NV                    Las Vegas  \n",
       "\n",
       "[5 rows x 23 columns]"
      ]
     },
     "execution_count": 44,
     "metadata": {},
     "output_type": "execute_result"
    }
   ],
   "source": [
    "#Read the entire dataset\n",
    "#Using date parser to convert all dates into datetime\n",
    "df_ad_state_metro_1 = pd.read_pickle('./data/TV_AD_AIRINGS_STATE_METRO_AREA_5.pkl')\n",
    "df_ad_state_metro_1.head(5)"
   ]
  },
  {
   "cell_type": "code",
   "execution_count": 45,
   "metadata": {
    "collapsed": false
   },
   "outputs": [
    {
     "data": {
      "text/plain": [
       "array(['NV', 'NC', 'FL', 'OH', 'IA', 'PA', 'CO', 'WI', 'National', 'AZ',\n",
       "       'NH', 'VA', 'NY'], dtype=object)"
      ]
     },
     "execution_count": 45,
     "metadata": {},
     "output_type": "execute_result"
    }
   ],
   "source": [
    "#Checking states again\n",
    "df_ad_state_metro_1['state'].unique()"
   ]
  },
  {
   "cell_type": "code",
   "execution_count": 46,
   "metadata": {
    "collapsed": false
   },
   "outputs": [
    {
     "data": {
      "text/plain": [
       "<matplotlib.axes._subplots.AxesSubplot at 0x11a4b72e8>"
      ]
     },
     "execution_count": 46,
     "metadata": {},
     "output_type": "execute_result"
    },
    {
     "data": {
      "image/png": "[encoded data removed]",
      "text/plain": [
       "<matplotlib.figure.Figure at 0x11a4a66a0>"
      ]
     },
     "metadata": {},
     "output_type": "display_data"
    }
   ],
   "source": [
    "#First plot\n",
    "#Number of ads by state\n",
    "\n",
    "\n",
    "df_ad_state_metro_1['state'].value_counts().plot(kind='bar')"
   ]
  },
  {
   "cell_type": "code",
   "execution_count": 47,
   "metadata": {
    "collapsed": false
   },
   "outputs": [
    {
     "data": {
      "text/plain": [
       "array([  30.,   93.,   36.,   89.,   57.,   80.,   15.,   70.,   60.,\n",
       "         68.,   42.,   43.,   38.,   45.,   63.,   28.,   86.,   69.,\n",
       "         81.,   59.,   31.,  105.,  103.,  118.,   88.,   19.,   76.,\n",
       "         61.,   79.,   32.,   29.,   71.,  125.,  137.,  124.,   67.,\n",
       "         56.,   55.,   33.,   94.,   37.,   91.,   35.,   87.,   65.,\n",
       "         66.,   50.,  184.,   97.,   54.,  180.,  140.,  161.,   18.,\n",
       "         40.,   83.,   78.,   84.,   85.,   62.,  120.,   75.])"
      ]
     },
     "execution_count": 47,
     "metadata": {},
     "output_type": "execute_result"
    }
   ],
   "source": [
    "#Checking the variability in ad duration to see if we need to consider it to \n",
    "#determine ad volume\n",
    "df_ad_state_metro_1['ad_duration_secs'].unique()"
   ]
  },
  {
   "cell_type": "code",
   "execution_count": 48,
   "metadata": {
    "collapsed": false
   },
   "outputs": [
    {
     "data": {
      "text/plain": [
       "2825647.0"
      ]
     },
     "execution_count": 48,
     "metadata": {},
     "output_type": "execute_result"
    }
   ],
   "source": [
    "df_ad_state_metro_1['ad_duration_secs'].sum()"
   ]
  },
  {
   "cell_type": "code",
   "execution_count": 49,
   "metadata": {
    "collapsed": false
   },
   "outputs": [
    {
     "data": {
      "text/plain": [
       "30.0     65870\n",
       "60.0      5850\n",
       "29.0      4890\n",
       "31.0      2666\n",
       "32.0      2552\n",
       "15.0       840\n",
       "62.0       559\n",
       "61.0       294\n",
       "84.0       232\n",
       "91.0       193\n",
       "120.0      141\n",
       "63.0       115\n",
       "37.0       108\n",
       "85.0        91\n",
       "54.0        85\n",
       "70.0        62\n",
       "93.0        57\n",
       "36.0        53\n",
       "81.0        46\n",
       "75.0        38\n",
       "124.0       33\n",
       "55.0        25\n",
       "69.0        25\n",
       "43.0        22\n",
       "180.0       21\n",
       "65.0        20\n",
       "88.0        19\n",
       "89.0        18\n",
       "19.0        18\n",
       "57.0        16\n",
       "         ...  \n",
       "86.0        14\n",
       "67.0        12\n",
       "40.0        12\n",
       "161.0       10\n",
       "97.0         8\n",
       "68.0         7\n",
       "76.0         6\n",
       "137.0        6\n",
       "59.0         6\n",
       "33.0         6\n",
       "71.0         5\n",
       "35.0         5\n",
       "140.0        5\n",
       "28.0         5\n",
       "125.0        4\n",
       "56.0         4\n",
       "83.0         3\n",
       "94.0         3\n",
       "105.0        3\n",
       "184.0        3\n",
       "103.0        2\n",
       "42.0         2\n",
       "87.0         2\n",
       "78.0         1\n",
       "50.0         1\n",
       "18.0         1\n",
       "66.0         1\n",
       "38.0         1\n",
       "79.0         1\n",
       "80.0         1\n",
       "Name: ad_duration_secs, dtype: int64"
      ]
     },
     "execution_count": 49,
     "metadata": {},
     "output_type": "execute_result"
    }
   ],
   "source": [
    "df_ad_state_metro_1['ad_duration_secs'].value_counts()\n",
    "#Since there are ads with varying duration, will have to include duration "
   ]
  },
  {
   "cell_type": "code",
   "execution_count": 50,
   "metadata": {
    "collapsed": false
   },
   "outputs": [],
   "source": [
    "\n",
    "#Since there are ads with varying duration, will have to include duration \n",
    "df_ad_state_metro_2 = df_ad_state_metro_1.copy().groupby('state')['ad_duration_secs'].sum().reset_index()\n",
    "df_ad_state_metro_2.sort_values('ad_duration_secs', ascending=False, inplace=True)"
   ]
  },
  {
   "cell_type": "code",
   "execution_count": 51,
   "metadata": {
    "collapsed": false
   },
   "outputs": [
    {
     "data": {
      "text/html": [
       "<div>\n",
       "<table border=\"1\" class=\"dataframe\">\n",
       "  <thead>\n",
       "    <tr style=\"text-align: right;\">\n",
       "      <th></th>\n",
       "      <th>state</th>\n",
       "      <th>ad_duration_secs</th>\n",
       "    </tr>\n",
       "  </thead>\n",
       "  <tbody>\n",
       "    <tr>\n",
       "      <th>2</th>\n",
       "      <td>FL</td>\n",
       "      <td>434766.0</td>\n",
       "    </tr>\n",
       "    <tr>\n",
       "      <th>10</th>\n",
       "      <td>PA</td>\n",
       "      <td>387274.0</td>\n",
       "    </tr>\n",
       "    <tr>\n",
       "      <th>6</th>\n",
       "      <td>NV</td>\n",
       "      <td>370905.0</td>\n",
       "    </tr>\n",
       "    <tr>\n",
       "      <th>9</th>\n",
       "      <td>OH</td>\n",
       "      <td>351404.0</td>\n",
       "    </tr>\n",
       "    <tr>\n",
       "      <th>8</th>\n",
       "      <td>National</td>\n",
       "      <td>279262.0</td>\n",
       "    </tr>\n",
       "    <tr>\n",
       "      <th>4</th>\n",
       "      <td>NC</td>\n",
       "      <td>214829.0</td>\n",
       "    </tr>\n",
       "    <tr>\n",
       "      <th>3</th>\n",
       "      <td>IA</td>\n",
       "      <td>179859.0</td>\n",
       "    </tr>\n",
       "    <tr>\n",
       "      <th>5</th>\n",
       "      <td>NH</td>\n",
       "      <td>161872.0</td>\n",
       "    </tr>\n",
       "    <tr>\n",
       "      <th>1</th>\n",
       "      <td>CO</td>\n",
       "      <td>152241.0</td>\n",
       "    </tr>\n",
       "    <tr>\n",
       "      <th>12</th>\n",
       "      <td>WI</td>\n",
       "      <td>132487.0</td>\n",
       "    </tr>\n",
       "    <tr>\n",
       "      <th>0</th>\n",
       "      <td>AZ</td>\n",
       "      <td>107263.0</td>\n",
       "    </tr>\n",
       "    <tr>\n",
       "      <th>11</th>\n",
       "      <td>VA</td>\n",
       "      <td>51810.0</td>\n",
       "    </tr>\n",
       "    <tr>\n",
       "      <th>7</th>\n",
       "      <td>NY</td>\n",
       "      <td>1675.0</td>\n",
       "    </tr>\n",
       "  </tbody>\n",
       "</table>\n",
       "</div>"
      ],
      "text/plain": [
       "       state  ad_duration_secs\n",
       "2         FL          434766.0\n",
       "10        PA          387274.0\n",
       "6         NV          370905.0\n",
       "9         OH          351404.0\n",
       "8   National          279262.0\n",
       "4         NC          214829.0\n",
       "3         IA          179859.0\n",
       "5         NH          161872.0\n",
       "1         CO          152241.0\n",
       "12        WI          132487.0\n",
       "0         AZ          107263.0\n",
       "11        VA           51810.0\n",
       "7         NY            1675.0"
      ]
     },
     "execution_count": 51,
     "metadata": {},
     "output_type": "execute_result"
    }
   ],
   "source": [
    "df_ad_state_metro_2"
   ]
  },
  {
   "cell_type": "code",
   "execution_count": 13,
   "metadata": {
    "collapsed": false
   },
   "outputs": [
    {
     "data": {
      "text/plain": [
       "<matplotlib.axes._subplots.AxesSubplot at 0x106483ac8>"
      ]
     },
     "execution_count": 13,
     "metadata": {},
     "output_type": "execute_result"
    },
    {
     "data": {
      "image/png": "[encoded data removed]",
      "text/plain": [
       "<matplotlib.figure.Figure at 0x10f17ec50>"
      ]
     },
     "metadata": {},
     "output_type": "display_data"
    }
   ],
   "source": [
    "df_ad_state_metro_2.plot(x='state', y='ad_duration_secs', kind='bar')"
   ]
  },
  {
   "cell_type": "markdown",
   "metadata": {},
   "source": [
    "From above, it is known that the states line up in the same order in terms of count of ads and total duration of ads."
   ]
  },
  {
   "cell_type": "code",
   "execution_count": 52,
   "metadata": {
    "collapsed": false
   },
   "outputs": [
    {
     "data": {
      "text/plain": [
       "Donald Trump                                                                                               41012\n",
       "Hillary Clinton                                                                                            21727\n",
       "Donald Trump, Hillary Clinton                                                                              20765\n",
       "Marco Rubio, Patrick Murphy                                                                                  552\n",
       "Marco Rubio                                                                                                  348\n",
       "Donald Trump, Gary Johnson, Gary Johnson, Hillary Clinton                                                    274\n",
       "Donald Trump, Rob Portman, Ted Strickland                                                                    259\n",
       "Gary Johnson, Gary Johnson                                                                                    78\n",
       "Alan Grayson, Hillary Clinton, Marco Rubio, Pat Murphy                                                        66\n",
       "Donald Trump, John McCain, Kelly Ayotte, Marco Rubio, Richard Burr, Rob Portman, Ron Johnson, Roy Blunt       20\n",
       "Donald Trump, John McCain                                                                                      8\n",
       "Donald Trump, Gary Johnson, Gary Johnson                                                                       5\n",
       "Ann Kirkpatrick, Donald Trump, John McCain                                                                     5\n",
       "Hillary Clinton, Tim Kaine                                                                                     3\n",
       "Jill Stein                                                                                                     3\n",
       "Catherine Cortez Masto, Hillary Clinton, Katie McGinty, Patrick Murphy, Ted Strickland                         2\n",
       "Name: candidates, dtype: int64"
      ]
     },
     "execution_count": 52,
     "metadata": {},
     "output_type": "execute_result"
    }
   ],
   "source": [
    "#Looking up candidates remaining in the dataset. Expecting to get \n",
    "#Hillary Clinton,Donald Trump, Jill Stein & Gary Johnson since this is after 8/1/2016.\n",
    "#But find others clubbed along. Need to investigate this\n",
    "df_ad_state_metro_1['candidates'].value_counts()"
   ]
  },
  {
   "cell_type": "code",
   "execution_count": 15,
   "metadata": {
    "collapsed": false
   },
   "outputs": [
    {
     "data": {
      "text/html": [
       "<div>\n",
       "<table border=\"1\" class=\"dataframe\">\n",
       "  <thead>\n",
       "    <tr style=\"text-align: right;\">\n",
       "      <th></th>\n",
       "      <th>id</th>\n",
       "      <th>wp_identifier</th>\n",
       "      <th>network</th>\n",
       "      <th>location</th>\n",
       "      <th>program</th>\n",
       "      <th>program_type</th>\n",
       "      <th>start_time</th>\n",
       "      <th>end_time</th>\n",
       "      <th>archive_id</th>\n",
       "      <th>embed_url</th>\n",
       "      <th>...</th>\n",
       "      <th>cycle</th>\n",
       "      <th>subjects</th>\n",
       "      <th>candidates</th>\n",
       "      <th>type</th>\n",
       "      <th>message</th>\n",
       "      <th>date_created</th>\n",
       "      <th>ad_duration_secs</th>\n",
       "      <th>metro_area_state</th>\n",
       "      <th>state</th>\n",
       "      <th>metro_area</th>\n",
       "    </tr>\n",
       "  </thead>\n",
       "  <tbody>\n",
       "    <tr>\n",
       "      <th>4226</th>\n",
       "      <td>5538</td>\n",
       "      <td>5183</td>\n",
       "      <td>KFXA</td>\n",
       "      <td>Ceder Rapids-Waterloo-Iowa City-Dublin, Iowa</td>\n",
       "      <td>Panther Sports Talk</td>\n",
       "      <td>not news</td>\n",
       "      <td>2016-09-10 03:29:45</td>\n",
       "      <td>2016-09-10 03:30:15</td>\n",
       "      <td>PolAd_HillaryClinton_DonaldTrump_o5dtl</td>\n",
       "      <td>https://archive.org/embed/PolAd_HillaryClinton...</td>\n",
       "      <td>...</td>\n",
       "      <td>2016.0</td>\n",
       "      <td>Economy, Jobs, Federal Budget, Taxes, Families</td>\n",
       "      <td>Donald Trump, Hillary Clinton</td>\n",
       "      <td>campaign</td>\n",
       "      <td>mixed</td>\n",
       "      <td>2016-09-12 14:49:00</td>\n",
       "      <td>30.0</td>\n",
       "      <td>[Ceder Rapids-Waterloo-Iowa City-Dublin,  Iowa]</td>\n",
       "      <td>IA</td>\n",
       "      <td>Ceder Rapids-Waterloo-Iowa City-Dublin</td>\n",
       "    </tr>\n",
       "    <tr>\n",
       "      <th>4227</th>\n",
       "      <td>5539</td>\n",
       "      <td>5183</td>\n",
       "      <td>KSNV</td>\n",
       "      <td>Las Vegas, NV</td>\n",
       "      <td>Today</td>\n",
       "      <td>news</td>\n",
       "      <td>2016-09-09 09:40:47</td>\n",
       "      <td>2016-09-09 09:41:17</td>\n",
       "      <td>PolAd_HillaryClinton_DonaldTrump_o5dtl</td>\n",
       "      <td>https://archive.org/embed/PolAd_HillaryClinton...</td>\n",
       "      <td>...</td>\n",
       "      <td>2016.0</td>\n",
       "      <td>Economy, Jobs, Federal Budget, Taxes, Families</td>\n",
       "      <td>Donald Trump, Hillary Clinton</td>\n",
       "      <td>campaign</td>\n",
       "      <td>mixed</td>\n",
       "      <td>2016-09-12 14:49:00</td>\n",
       "      <td>30.0</td>\n",
       "      <td>[Las Vegas,  NV]</td>\n",
       "      <td>NV</td>\n",
       "      <td>Las Vegas</td>\n",
       "    </tr>\n",
       "    <tr>\n",
       "      <th>4228</th>\n",
       "      <td>5540</td>\n",
       "      <td>5183</td>\n",
       "      <td>KTNV</td>\n",
       "      <td>Las Vegas, NV</td>\n",
       "      <td>World News Now</td>\n",
       "      <td>news</td>\n",
       "      <td>2016-09-09 09:59:13</td>\n",
       "      <td>2016-09-09 09:59:43</td>\n",
       "      <td>PolAd_HillaryClinton_DonaldTrump_o5dtl</td>\n",
       "      <td>https://archive.org/embed/PolAd_HillaryClinton...</td>\n",
       "      <td>...</td>\n",
       "      <td>2016.0</td>\n",
       "      <td>Economy, Jobs, Federal Budget, Taxes, Families</td>\n",
       "      <td>Donald Trump, Hillary Clinton</td>\n",
       "      <td>campaign</td>\n",
       "      <td>mixed</td>\n",
       "      <td>2016-09-12 14:49:00</td>\n",
       "      <td>30.0</td>\n",
       "      <td>[Las Vegas,  NV]</td>\n",
       "      <td>NV</td>\n",
       "      <td>Las Vegas</td>\n",
       "    </tr>\n",
       "    <tr>\n",
       "      <th>4229</th>\n",
       "      <td>5541</td>\n",
       "      <td>5183</td>\n",
       "      <td>WNCN</td>\n",
       "      <td>Raleigh-Durham-Fayetteville,  NC</td>\n",
       "      <td>North Carolina News at 500PM</td>\n",
       "      <td>news</td>\n",
       "      <td>2016-08-30 21:49:29</td>\n",
       "      <td>2016-08-30 21:49:59</td>\n",
       "      <td>PolAd_HillaryClinton_DonaldTrump_o5dtl</td>\n",
       "      <td>https://archive.org/embed/PolAd_HillaryClinton...</td>\n",
       "      <td>...</td>\n",
       "      <td>2016.0</td>\n",
       "      <td>Economy, Jobs, Federal Budget, Taxes, Families</td>\n",
       "      <td>Donald Trump, Hillary Clinton</td>\n",
       "      <td>campaign</td>\n",
       "      <td>mixed</td>\n",
       "      <td>2016-09-12 14:49:00</td>\n",
       "      <td>30.0</td>\n",
       "      <td>[Raleigh-Durham-Fayetteville,   NC]</td>\n",
       "      <td>NC</td>\n",
       "      <td>Raleigh-Durham-Fayetteville</td>\n",
       "    </tr>\n",
       "    <tr>\n",
       "      <th>4230</th>\n",
       "      <td>5542</td>\n",
       "      <td>5183</td>\n",
       "      <td>KSNV</td>\n",
       "      <td>Las Vegas, NV</td>\n",
       "      <td>News 3 Live Today</td>\n",
       "      <td>news</td>\n",
       "      <td>2016-09-09 11:58:05</td>\n",
       "      <td>2016-09-09 11:58:35</td>\n",
       "      <td>PolAd_HillaryClinton_DonaldTrump_o5dtl</td>\n",
       "      <td>https://archive.org/embed/PolAd_HillaryClinton...</td>\n",
       "      <td>...</td>\n",
       "      <td>2016.0</td>\n",
       "      <td>Economy, Jobs, Federal Budget, Taxes, Families</td>\n",
       "      <td>Donald Trump, Hillary Clinton</td>\n",
       "      <td>campaign</td>\n",
       "      <td>mixed</td>\n",
       "      <td>2016-09-12 14:49:00</td>\n",
       "      <td>30.0</td>\n",
       "      <td>[Las Vegas,  NV]</td>\n",
       "      <td>NV</td>\n",
       "      <td>Las Vegas</td>\n",
       "    </tr>\n",
       "  </tbody>\n",
       "</table>\n",
       "<p>5 rows × 23 columns</p>\n",
       "</div>"
      ],
      "text/plain": [
       "        id  wp_identifier network  \\\n",
       "4226  5538           5183    KFXA   \n",
       "4227  5539           5183    KSNV   \n",
       "4228  5540           5183    KTNV   \n",
       "4229  5541           5183    WNCN   \n",
       "4230  5542           5183    KSNV   \n",
       "\n",
       "                                          location  \\\n",
       "4226  Ceder Rapids-Waterloo-Iowa City-Dublin, Iowa   \n",
       "4227                                 Las Vegas, NV   \n",
       "4228                                 Las Vegas, NV   \n",
       "4229              Raleigh-Durham-Fayetteville,  NC   \n",
       "4230                                 Las Vegas, NV   \n",
       "\n",
       "                           program program_type          start_time  \\\n",
       "4226           Panther Sports Talk     not news 2016-09-10 03:29:45   \n",
       "4227                         Today         news 2016-09-09 09:40:47   \n",
       "4228                World News Now         news 2016-09-09 09:59:13   \n",
       "4229  North Carolina News at 500PM         news 2016-08-30 21:49:29   \n",
       "4230             News 3 Live Today         news 2016-09-09 11:58:05   \n",
       "\n",
       "                end_time                              archive_id  \\\n",
       "4226 2016-09-10 03:30:15  PolAd_HillaryClinton_DonaldTrump_o5dtl   \n",
       "4227 2016-09-09 09:41:17  PolAd_HillaryClinton_DonaldTrump_o5dtl   \n",
       "4228 2016-09-09 09:59:43  PolAd_HillaryClinton_DonaldTrump_o5dtl   \n",
       "4229 2016-08-30 21:49:59  PolAd_HillaryClinton_DonaldTrump_o5dtl   \n",
       "4230 2016-09-09 11:58:35  PolAd_HillaryClinton_DonaldTrump_o5dtl   \n",
       "\n",
       "                                              embed_url  \\\n",
       "4226  https://archive.org/embed/PolAd_HillaryClinton...   \n",
       "4227  https://archive.org/embed/PolAd_HillaryClinton...   \n",
       "4228  https://archive.org/embed/PolAd_HillaryClinton...   \n",
       "4229  https://archive.org/embed/PolAd_HillaryClinton...   \n",
       "4230  https://archive.org/embed/PolAd_HillaryClinton...   \n",
       "\n",
       "                       ...                     cycle  \\\n",
       "4226                   ...                    2016.0   \n",
       "4227                   ...                    2016.0   \n",
       "4228                   ...                    2016.0   \n",
       "4229                   ...                    2016.0   \n",
       "4230                   ...                    2016.0   \n",
       "\n",
       "                                            subjects  \\\n",
       "4226  Economy, Jobs, Federal Budget, Taxes, Families   \n",
       "4227  Economy, Jobs, Federal Budget, Taxes, Families   \n",
       "4228  Economy, Jobs, Federal Budget, Taxes, Families   \n",
       "4229  Economy, Jobs, Federal Budget, Taxes, Families   \n",
       "4230  Economy, Jobs, Federal Budget, Taxes, Families   \n",
       "\n",
       "                         candidates      type message        date_created  \\\n",
       "4226  Donald Trump, Hillary Clinton  campaign   mixed 2016-09-12 14:49:00   \n",
       "4227  Donald Trump, Hillary Clinton  campaign   mixed 2016-09-12 14:49:00   \n",
       "4228  Donald Trump, Hillary Clinton  campaign   mixed 2016-09-12 14:49:00   \n",
       "4229  Donald Trump, Hillary Clinton  campaign   mixed 2016-09-12 14:49:00   \n",
       "4230  Donald Trump, Hillary Clinton  campaign   mixed 2016-09-12 14:49:00   \n",
       "\n",
       "     ad_duration_secs                                 metro_area_state state  \\\n",
       "4226             30.0  [Ceder Rapids-Waterloo-Iowa City-Dublin,  Iowa]    IA   \n",
       "4227             30.0                                 [Las Vegas,  NV]    NV   \n",
       "4228             30.0                                 [Las Vegas,  NV]    NV   \n",
       "4229             30.0              [Raleigh-Durham-Fayetteville,   NC]    NC   \n",
       "4230             30.0                                 [Las Vegas,  NV]    NV   \n",
       "\n",
       "                                  metro_area  \n",
       "4226  Ceder Rapids-Waterloo-Iowa City-Dublin  \n",
       "4227                               Las Vegas  \n",
       "4228                               Las Vegas  \n",
       "4229             Raleigh-Durham-Fayetteville  \n",
       "4230                               Las Vegas  \n",
       "\n",
       "[5 rows x 23 columns]"
      ]
     },
     "execution_count": 15,
     "metadata": {},
     "output_type": "execute_result"
    }
   ],
   "source": [
    "#Researching ads where both candidates are there \n",
    "df_ad_state_metro_1[df_ad_state_metro_1['candidates'] =='Donald Trump, Hillary Clinton'].head(5)"
   ]
  },
  {
   "cell_type": "markdown",
   "metadata": {},
   "source": [
    "Used the archive_id to view one of the ads where the candidates is 'Donald Trump, Hillary Clinton' and \n",
    "found that it was an ad by Donald Trump. So cannot go by candidates. Instead will have to go by sponsor and sponsortype.The field 'candidates' merely says the names of candidates mentioned in the ad.\n"
   ]
  },
  {
   "cell_type": "code",
   "execution_count": 53,
   "metadata": {
    "collapsed": false
   },
   "outputs": [
    {
     "data": {
      "text/plain": [
       "Hillary for America                     37589\n",
       "Donald J Trump For President            22398\n",
       "Priorities USA Action                   11201\n",
       "Rebuilding America Now                   2408\n",
       "NextGen California Action Committee      1767\n",
       "Women Vote!                              1102\n",
       "Future45                                  960\n",
       "NRA Institute for Legislative Action      791\n",
       "Reform America Fund                       778\n",
       "45 Committee                              766\n",
       "National Rifle Assn                       634\n",
       "Friends of Patrick Murphy                 553\n",
       "Donald J. Trump For President             520\n",
       "Internet Archive                          511\n",
       "Stop Hillary PAC                          470\n",
       "Great America PAC                         453\n",
       "Marco Rubio For Senate 2016               412\n",
       "MoveOn.org                                412\n",
       "Purple PAC                                274\n",
       "Strickland for Senate                     259\n",
       "Democratic National Cmte                  206\n",
       "Correct The Record                        122\n",
       "American Bridge 21st Century               97\n",
       "Gary Johnson 2016                          82\n",
       "Republican National Cmte                   72\n",
       "iAmerica Action                            58\n",
       "America Rising PAC                         44\n",
       "Ready for Hillary                          32\n",
       "Hillary Victory Fund                       28\n",
       "NextGen Climate Action                     24\n",
       "Save the Day PAC                           21\n",
       "Democratic Senatorial Campaign Cmte        20\n",
       "Make America Number One                    18\n",
       "Kirkpatrick For Senate                     13\n",
       "Fifty Second Street Fund                    7\n",
       "Reclaim America PAC                         6\n",
       "Victory 2016 Committee                      5\n",
       "Local Voices                                3\n",
       "Jill Stein for President                    3\n",
       "National Republican Senatorial Cmte         2\n",
       "Free the Delegates                          2\n",
       "Our Principles PAC                          1\n",
       "American Crossroads                         1\n",
       "NARAL Pro-Choice America                    1\n",
       "Fenton Communications Inc                   1\n",
       "Name: sponsors, dtype: int64"
      ]
     },
     "execution_count": 53,
     "metadata": {},
     "output_type": "execute_result"
    }
   ],
   "source": [
    "#Investigating sponsor\n",
    "df_ad_state_metro_1['sponsors'].value_counts()"
   ]
  },
  {
   "cell_type": "markdown",
   "metadata": {
    "collapsed": true
   },
   "source": [
    "From above it seems like sponsor field will lead us to who the ad was for."
   ]
  },
  {
   "cell_type": "code",
   "execution_count": 17,
   "metadata": {
    "collapsed": false
   },
   "outputs": [
    {
     "data": {
      "text/plain": [
       "Multiple                       37613\n",
       "Candidate Committee            23720\n",
       "Super PAC                      18690\n",
       "Non Profit                      1615\n",
       "Hybrid Super PAC                1457\n",
       "Unknown                         1063\n",
       "PAC                              940\n",
       "Joint Fundraising Committee       28\n",
       "Corporation                        1\n",
       "Name: sponsor_types, dtype: int64"
      ]
     },
     "execution_count": 17,
     "metadata": {},
     "output_type": "execute_result"
    }
   ],
   "source": [
    "#Investigating sponsor_types\n",
    "df_ad_state_metro_1['sponsor_types'].value_counts()"
   ]
  },
  {
   "cell_type": "markdown",
   "metadata": {},
   "source": [
    "From above, Sponsor_types field will not help in determining whether the ad was in favor of the name in 'candidates'\n",
    "field or against."
   ]
  },
  {
   "cell_type": "code",
   "execution_count": 38,
   "metadata": {
    "collapsed": false
   },
   "outputs": [
    {
     "data": {
      "text/html": [
       "<div>\n",
       "<table border=\"1\" class=\"dataframe\">\n",
       "  <thead>\n",
       "    <tr style=\"text-align: right;\">\n",
       "      <th></th>\n",
       "      <th>state</th>\n",
       "      <th>winner</th>\n",
       "      <th>Percent margin</th>\n",
       "    </tr>\n",
       "  </thead>\n",
       "  <tbody>\n",
       "    <tr>\n",
       "      <th>0</th>\n",
       "      <td>NV</td>\n",
       "      <td>Hillary Clinton</td>\n",
       "      <td>2.42</td>\n",
       "    </tr>\n",
       "    <tr>\n",
       "      <th>1</th>\n",
       "      <td>NC</td>\n",
       "      <td>Donald Trump</td>\n",
       "      <td>3.66</td>\n",
       "    </tr>\n",
       "    <tr>\n",
       "      <th>2</th>\n",
       "      <td>FL</td>\n",
       "      <td>Donald Trump</td>\n",
       "      <td>1.19</td>\n",
       "    </tr>\n",
       "    <tr>\n",
       "      <th>3</th>\n",
       "      <td>OH</td>\n",
       "      <td>Donald Trump</td>\n",
       "      <td>8.07</td>\n",
       "    </tr>\n",
       "    <tr>\n",
       "      <th>4</th>\n",
       "      <td>IA</td>\n",
       "      <td>Donald Trump</td>\n",
       "      <td>9.41</td>\n",
       "    </tr>\n",
       "    <tr>\n",
       "      <th>5</th>\n",
       "      <td>PA</td>\n",
       "      <td>Donald Trump</td>\n",
       "      <td>0.72</td>\n",
       "    </tr>\n",
       "    <tr>\n",
       "      <th>6</th>\n",
       "      <td>CO</td>\n",
       "      <td>Hillary Clinton</td>\n",
       "      <td>4.91</td>\n",
       "    </tr>\n",
       "    <tr>\n",
       "      <th>7</th>\n",
       "      <td>WI</td>\n",
       "      <td>Donald Trump</td>\n",
       "      <td>0.76</td>\n",
       "    </tr>\n",
       "    <tr>\n",
       "      <th>8</th>\n",
       "      <td>CA</td>\n",
       "      <td>Hillary Clinton</td>\n",
       "      <td>29.99</td>\n",
       "    </tr>\n",
       "    <tr>\n",
       "      <th>9</th>\n",
       "      <td>AZ</td>\n",
       "      <td>Donald Trump</td>\n",
       "      <td>3.50</td>\n",
       "    </tr>\n",
       "    <tr>\n",
       "      <th>10</th>\n",
       "      <td>NH</td>\n",
       "      <td>Hillary Clinton</td>\n",
       "      <td>0.37</td>\n",
       "    </tr>\n",
       "    <tr>\n",
       "      <th>11</th>\n",
       "      <td>VA</td>\n",
       "      <td>Hillary Clinton</td>\n",
       "      <td>5.32</td>\n",
       "    </tr>\n",
       "    <tr>\n",
       "      <th>12</th>\n",
       "      <td>NY</td>\n",
       "      <td>Hillary Clinton</td>\n",
       "      <td>22.49</td>\n",
       "    </tr>\n",
       "  </tbody>\n",
       "</table>\n",
       "</div>"
      ],
      "text/plain": [
       "   state           winner  Percent margin\n",
       "0     NV  Hillary Clinton            2.42\n",
       "1     NC     Donald Trump            3.66\n",
       "2     FL     Donald Trump            1.19\n",
       "3     OH     Donald Trump            8.07\n",
       "4     IA     Donald Trump            9.41\n",
       "5     PA     Donald Trump            0.72\n",
       "6     CO  Hillary Clinton            4.91\n",
       "7     WI     Donald Trump            0.76\n",
       "8     CA  Hillary Clinton           29.99\n",
       "9     AZ     Donald Trump            3.50\n",
       "10    NH  Hillary Clinton            0.37\n",
       "11    VA  Hillary Clinton            5.32\n",
       "12    NY  Hillary Clinton           22.49"
      ]
     },
     "execution_count": 38,
     "metadata": {},
     "output_type": "execute_result"
    }
   ],
   "source": [
    "#Pulling in state victory margins data \n",
    "#df_state_victory_margins = pd.read_csv('./state_victory_margins_data.csv')\n",
    "df_state_victory_margins = pd.read_csv('./data/state_victory_margins_data.csv')\n",
    "df_state_victory_margins"
   ]
  },
  {
   "cell_type": "code",
   "execution_count": 39,
   "metadata": {
    "collapsed": false
   },
   "outputs": [],
   "source": [
    "df_state_victory_margins.sort_values('Percent margin', ascending=False, inplace=True)"
   ]
  },
  {
   "cell_type": "code",
   "execution_count": 40,
   "metadata": {
    "collapsed": false
   },
   "outputs": [
    {
     "data": {
      "text/html": [
       "<div>\n",
       "<table border=\"1\" class=\"dataframe\">\n",
       "  <thead>\n",
       "    <tr style=\"text-align: right;\">\n",
       "      <th></th>\n",
       "      <th>state</th>\n",
       "      <th>winner</th>\n",
       "      <th>Percent margin</th>\n",
       "    </tr>\n",
       "  </thead>\n",
       "  <tbody>\n",
       "    <tr>\n",
       "      <th>8</th>\n",
       "      <td>CA</td>\n",
       "      <td>Hillary Clinton</td>\n",
       "      <td>29.99</td>\n",
       "    </tr>\n",
       "    <tr>\n",
       "      <th>12</th>\n",
       "      <td>NY</td>\n",
       "      <td>Hillary Clinton</td>\n",
       "      <td>22.49</td>\n",
       "    </tr>\n",
       "    <tr>\n",
       "      <th>4</th>\n",
       "      <td>IA</td>\n",
       "      <td>Donald Trump</td>\n",
       "      <td>9.41</td>\n",
       "    </tr>\n",
       "    <tr>\n",
       "      <th>3</th>\n",
       "      <td>OH</td>\n",
       "      <td>Donald Trump</td>\n",
       "      <td>8.07</td>\n",
       "    </tr>\n",
       "    <tr>\n",
       "      <th>11</th>\n",
       "      <td>VA</td>\n",
       "      <td>Hillary Clinton</td>\n",
       "      <td>5.32</td>\n",
       "    </tr>\n",
       "    <tr>\n",
       "      <th>6</th>\n",
       "      <td>CO</td>\n",
       "      <td>Hillary Clinton</td>\n",
       "      <td>4.91</td>\n",
       "    </tr>\n",
       "    <tr>\n",
       "      <th>1</th>\n",
       "      <td>NC</td>\n",
       "      <td>Donald Trump</td>\n",
       "      <td>3.66</td>\n",
       "    </tr>\n",
       "    <tr>\n",
       "      <th>9</th>\n",
       "      <td>AZ</td>\n",
       "      <td>Donald Trump</td>\n",
       "      <td>3.50</td>\n",
       "    </tr>\n",
       "    <tr>\n",
       "      <th>0</th>\n",
       "      <td>NV</td>\n",
       "      <td>Hillary Clinton</td>\n",
       "      <td>2.42</td>\n",
       "    </tr>\n",
       "    <tr>\n",
       "      <th>2</th>\n",
       "      <td>FL</td>\n",
       "      <td>Donald Trump</td>\n",
       "      <td>1.19</td>\n",
       "    </tr>\n",
       "    <tr>\n",
       "      <th>7</th>\n",
       "      <td>WI</td>\n",
       "      <td>Donald Trump</td>\n",
       "      <td>0.76</td>\n",
       "    </tr>\n",
       "    <tr>\n",
       "      <th>5</th>\n",
       "      <td>PA</td>\n",
       "      <td>Donald Trump</td>\n",
       "      <td>0.72</td>\n",
       "    </tr>\n",
       "    <tr>\n",
       "      <th>10</th>\n",
       "      <td>NH</td>\n",
       "      <td>Hillary Clinton</td>\n",
       "      <td>0.37</td>\n",
       "    </tr>\n",
       "  </tbody>\n",
       "</table>\n",
       "</div>"
      ],
      "text/plain": [
       "   state           winner  Percent margin\n",
       "8     CA  Hillary Clinton           29.99\n",
       "12    NY  Hillary Clinton           22.49\n",
       "4     IA     Donald Trump            9.41\n",
       "3     OH     Donald Trump            8.07\n",
       "11    VA  Hillary Clinton            5.32\n",
       "6     CO  Hillary Clinton            4.91\n",
       "1     NC     Donald Trump            3.66\n",
       "9     AZ     Donald Trump            3.50\n",
       "0     NV  Hillary Clinton            2.42\n",
       "2     FL     Donald Trump            1.19\n",
       "7     WI     Donald Trump            0.76\n",
       "5     PA     Donald Trump            0.72\n",
       "10    NH  Hillary Clinton            0.37"
      ]
     },
     "execution_count": 40,
     "metadata": {},
     "output_type": "execute_result"
    }
   ],
   "source": [
    "df_state_victory_margins"
   ]
  },
  {
   "cell_type": "code",
   "execution_count": 41,
   "metadata": {
    "collapsed": false
   },
   "outputs": [
    {
     "data": {
      "text/plain": [
       "<matplotlib.axes._subplots.AxesSubplot at 0x117c44710>"
      ]
     },
     "execution_count": 41,
     "metadata": {},
     "output_type": "execute_result"
    },
    {
     "data": {
      "image/png": "[encoded data removed]",
      "text/plain": [
       "<matplotlib.figure.Figure at 0x11792ff60>"
      ]
     },
     "metadata": {},
     "output_type": "display_data"
    }
   ],
   "source": [
    "df_state_victory_margins.plot(x='state', y='Percent margin', kind='bar')"
   ]
  },
  {
   "cell_type": "code",
   "execution_count": 54,
   "metadata": {
    "collapsed": false
   },
   "outputs": [
    {
     "data": {
      "text/plain": [
       "<matplotlib.axes._subplots.AxesSubplot at 0x11181b7f0>"
      ]
     },
     "execution_count": 54,
     "metadata": {},
     "output_type": "execute_result"
    },
    {
     "data": {
      "image/png": "[encoded data removed]",
      "text/plain": [
       "<matplotlib.figure.Figure at 0x1111278d0>"
      ]
     },
     "metadata": {},
     "output_type": "display_data"
    },
    {
     "data": {
      "image/png": "[encoded data removed]",
      "text/plain": [
       "<matplotlib.figure.Figure at 0x11119d940>"
      ]
     },
     "metadata": {},
     "output_type": "display_data"
    }
   ],
   "source": [
    "df_ad_state_metro_2.plot(x='state', y='ad_duration_secs', kind='bar')\n",
    "df_state_victory_margins.plot(x='state', y='Percent margin', kind='bar')\n",
    "#df_state_victory_margins.plot(x='state', secondary_y=True, y='Percent margin', kind='bar')"
   ]
  },
  {
   "cell_type": "code",
   "execution_count": 55,
   "metadata": {
    "collapsed": true
   },
   "outputs": [],
   "source": [
    "#Setting index to state in both dataframes for join \n",
    "df_ad_state_metro_2.set_index('state', inplace=True)\n",
    "df_state_victory_margins.set_index('state', inplace=True)"
   ]
  },
  {
   "cell_type": "code",
   "execution_count": 56,
   "metadata": {
    "collapsed": false
   },
   "outputs": [],
   "source": [
    "#joining two tables\n",
    "merged_df = df_ad_state_metro_2.join(df_state_victory_margins)"
   ]
  },
  {
   "cell_type": "code",
   "execution_count": 57,
   "metadata": {
    "collapsed": false
   },
   "outputs": [
    {
     "data": {
      "text/html": [
       "<div>\n",
       "<table border=\"1\" class=\"dataframe\">\n",
       "  <thead>\n",
       "    <tr style=\"text-align: right;\">\n",
       "      <th></th>\n",
       "      <th>ad_duration_secs</th>\n",
       "      <th>winner</th>\n",
       "      <th>Percent margin</th>\n",
       "    </tr>\n",
       "    <tr>\n",
       "      <th>state</th>\n",
       "      <th></th>\n",
       "      <th></th>\n",
       "      <th></th>\n",
       "    </tr>\n",
       "  </thead>\n",
       "  <tbody>\n",
       "    <tr>\n",
       "      <th>FL</th>\n",
       "      <td>434766.0</td>\n",
       "      <td>Donald Trump</td>\n",
       "      <td>1.19</td>\n",
       "    </tr>\n",
       "    <tr>\n",
       "      <th>PA</th>\n",
       "      <td>387274.0</td>\n",
       "      <td>Donald Trump</td>\n",
       "      <td>0.72</td>\n",
       "    </tr>\n",
       "    <tr>\n",
       "      <th>NV</th>\n",
       "      <td>370905.0</td>\n",
       "      <td>Hillary Clinton</td>\n",
       "      <td>2.42</td>\n",
       "    </tr>\n",
       "    <tr>\n",
       "      <th>OH</th>\n",
       "      <td>351404.0</td>\n",
       "      <td>Donald Trump</td>\n",
       "      <td>8.07</td>\n",
       "    </tr>\n",
       "    <tr>\n",
       "      <th>National</th>\n",
       "      <td>279262.0</td>\n",
       "      <td>NaN</td>\n",
       "      <td>NaN</td>\n",
       "    </tr>\n",
       "    <tr>\n",
       "      <th>NC</th>\n",
       "      <td>214829.0</td>\n",
       "      <td>Donald Trump</td>\n",
       "      <td>3.66</td>\n",
       "    </tr>\n",
       "    <tr>\n",
       "      <th>IA</th>\n",
       "      <td>179859.0</td>\n",
       "      <td>Donald Trump</td>\n",
       "      <td>9.41</td>\n",
       "    </tr>\n",
       "    <tr>\n",
       "      <th>NH</th>\n",
       "      <td>161872.0</td>\n",
       "      <td>Hillary Clinton</td>\n",
       "      <td>0.37</td>\n",
       "    </tr>\n",
       "    <tr>\n",
       "      <th>CO</th>\n",
       "      <td>152241.0</td>\n",
       "      <td>Hillary Clinton</td>\n",
       "      <td>4.91</td>\n",
       "    </tr>\n",
       "    <tr>\n",
       "      <th>WI</th>\n",
       "      <td>132487.0</td>\n",
       "      <td>Donald Trump</td>\n",
       "      <td>0.76</td>\n",
       "    </tr>\n",
       "    <tr>\n",
       "      <th>AZ</th>\n",
       "      <td>107263.0</td>\n",
       "      <td>Donald Trump</td>\n",
       "      <td>3.50</td>\n",
       "    </tr>\n",
       "    <tr>\n",
       "      <th>VA</th>\n",
       "      <td>51810.0</td>\n",
       "      <td>Hillary Clinton</td>\n",
       "      <td>5.32</td>\n",
       "    </tr>\n",
       "    <tr>\n",
       "      <th>NY</th>\n",
       "      <td>1675.0</td>\n",
       "      <td>Hillary Clinton</td>\n",
       "      <td>22.49</td>\n",
       "    </tr>\n",
       "  </tbody>\n",
       "</table>\n",
       "</div>"
      ],
      "text/plain": [
       "          ad_duration_secs           winner  Percent margin\n",
       "state                                                      \n",
       "FL                434766.0     Donald Trump            1.19\n",
       "PA                387274.0     Donald Trump            0.72\n",
       "NV                370905.0  Hillary Clinton            2.42\n",
       "OH                351404.0     Donald Trump            8.07\n",
       "National          279262.0              NaN             NaN\n",
       "NC                214829.0     Donald Trump            3.66\n",
       "IA                179859.0     Donald Trump            9.41\n",
       "NH                161872.0  Hillary Clinton            0.37\n",
       "CO                152241.0  Hillary Clinton            4.91\n",
       "WI                132487.0     Donald Trump            0.76\n",
       "AZ                107263.0     Donald Trump            3.50\n",
       "VA                 51810.0  Hillary Clinton            5.32\n",
       "NY                  1675.0  Hillary Clinton           22.49"
      ]
     },
     "execution_count": 57,
     "metadata": {},
     "output_type": "execute_result"
    }
   ],
   "source": [
    "merged_df"
   ]
  },
  {
   "cell_type": "code",
   "execution_count": 58,
   "metadata": {
    "collapsed": false
   },
   "outputs": [],
   "source": [
    "merged_df.reset_index('state', inplace=True)"
   ]
  },
  {
   "cell_type": "code",
   "execution_count": 76,
   "metadata": {
    "collapsed": false
   },
   "outputs": [
    {
     "data": {
      "text/plain": [
       "RangeIndex(start=0, stop=13, step=1)"
      ]
     },
     "execution_count": 76,
     "metadata": {},
     "output_type": "execute_result"
    }
   ],
   "source": [
    "merged_df.index"
   ]
  },
  {
   "cell_type": "code",
   "execution_count": 59,
   "metadata": {
    "collapsed": false
   },
   "outputs": [
    {
     "data": {
      "text/html": [
       "<div>\n",
       "<table border=\"1\" class=\"dataframe\">\n",
       "  <thead>\n",
       "    <tr style=\"text-align: right;\">\n",
       "      <th></th>\n",
       "      <th>state</th>\n",
       "      <th>ad_duration_secs</th>\n",
       "      <th>winner</th>\n",
       "      <th>Percent margin</th>\n",
       "    </tr>\n",
       "  </thead>\n",
       "  <tbody>\n",
       "    <tr>\n",
       "      <th>0</th>\n",
       "      <td>FL</td>\n",
       "      <td>434766.0</td>\n",
       "      <td>Donald Trump</td>\n",
       "      <td>1.19</td>\n",
       "    </tr>\n",
       "    <tr>\n",
       "      <th>1</th>\n",
       "      <td>PA</td>\n",
       "      <td>387274.0</td>\n",
       "      <td>Donald Trump</td>\n",
       "      <td>0.72</td>\n",
       "    </tr>\n",
       "    <tr>\n",
       "      <th>2</th>\n",
       "      <td>NV</td>\n",
       "      <td>370905.0</td>\n",
       "      <td>Hillary Clinton</td>\n",
       "      <td>2.42</td>\n",
       "    </tr>\n",
       "    <tr>\n",
       "      <th>3</th>\n",
       "      <td>OH</td>\n",
       "      <td>351404.0</td>\n",
       "      <td>Donald Trump</td>\n",
       "      <td>8.07</td>\n",
       "    </tr>\n",
       "    <tr>\n",
       "      <th>4</th>\n",
       "      <td>National</td>\n",
       "      <td>279262.0</td>\n",
       "      <td>NaN</td>\n",
       "      <td>NaN</td>\n",
       "    </tr>\n",
       "    <tr>\n",
       "      <th>5</th>\n",
       "      <td>NC</td>\n",
       "      <td>214829.0</td>\n",
       "      <td>Donald Trump</td>\n",
       "      <td>3.66</td>\n",
       "    </tr>\n",
       "    <tr>\n",
       "      <th>6</th>\n",
       "      <td>IA</td>\n",
       "      <td>179859.0</td>\n",
       "      <td>Donald Trump</td>\n",
       "      <td>9.41</td>\n",
       "    </tr>\n",
       "    <tr>\n",
       "      <th>7</th>\n",
       "      <td>NH</td>\n",
       "      <td>161872.0</td>\n",
       "      <td>Hillary Clinton</td>\n",
       "      <td>0.37</td>\n",
       "    </tr>\n",
       "    <tr>\n",
       "      <th>8</th>\n",
       "      <td>CO</td>\n",
       "      <td>152241.0</td>\n",
       "      <td>Hillary Clinton</td>\n",
       "      <td>4.91</td>\n",
       "    </tr>\n",
       "    <tr>\n",
       "      <th>9</th>\n",
       "      <td>WI</td>\n",
       "      <td>132487.0</td>\n",
       "      <td>Donald Trump</td>\n",
       "      <td>0.76</td>\n",
       "    </tr>\n",
       "    <tr>\n",
       "      <th>10</th>\n",
       "      <td>AZ</td>\n",
       "      <td>107263.0</td>\n",
       "      <td>Donald Trump</td>\n",
       "      <td>3.50</td>\n",
       "    </tr>\n",
       "    <tr>\n",
       "      <th>11</th>\n",
       "      <td>VA</td>\n",
       "      <td>51810.0</td>\n",
       "      <td>Hillary Clinton</td>\n",
       "      <td>5.32</td>\n",
       "    </tr>\n",
       "    <tr>\n",
       "      <th>12</th>\n",
       "      <td>NY</td>\n",
       "      <td>1675.0</td>\n",
       "      <td>Hillary Clinton</td>\n",
       "      <td>22.49</td>\n",
       "    </tr>\n",
       "  </tbody>\n",
       "</table>\n",
       "</div>"
      ],
      "text/plain": [
       "       state  ad_duration_secs           winner  Percent margin\n",
       "0         FL          434766.0     Donald Trump            1.19\n",
       "1         PA          387274.0     Donald Trump            0.72\n",
       "2         NV          370905.0  Hillary Clinton            2.42\n",
       "3         OH          351404.0     Donald Trump            8.07\n",
       "4   National          279262.0              NaN             NaN\n",
       "5         NC          214829.0     Donald Trump            3.66\n",
       "6         IA          179859.0     Donald Trump            9.41\n",
       "7         NH          161872.0  Hillary Clinton            0.37\n",
       "8         CO          152241.0  Hillary Clinton            4.91\n",
       "9         WI          132487.0     Donald Trump            0.76\n",
       "10        AZ          107263.0     Donald Trump            3.50\n",
       "11        VA           51810.0  Hillary Clinton            5.32\n",
       "12        NY            1675.0  Hillary Clinton           22.49"
      ]
     },
     "execution_count": 59,
     "metadata": {},
     "output_type": "execute_result"
    }
   ],
   "source": [
    "merged_df"
   ]
  },
  {
   "cell_type": "code",
   "execution_count": 60,
   "metadata": {
    "collapsed": false
   },
   "outputs": [
    {
     "data": {
      "text/plain": [
       "<matplotlib.axes._subplots.AxesSubplot at 0x11b0a0208>"
      ]
     },
     "execution_count": 60,
     "metadata": {},
     "output_type": "execute_result"
    },
    {
     "data": {
      "image/png": "[encoded data removed]",
      "text/plain": [
       "<matplotlib.figure.Figure at 0x1118b44a8>"
      ]
     },
     "metadata": {},
     "output_type": "display_data"
    },
    {
     "data": {
      "image/png": "[encoded data removed]",
      "text/plain": [
       "<matplotlib.figure.Figure at 0x115bc7358>"
      ]
     },
     "metadata": {},
     "output_type": "display_data"
    }
   ],
   "source": [
    "merged_df.plot(x='state', y='Percent margin',  kind='bar')\n",
    "merged_df.plot(x='state', y='ad_duration_secs',  kind='bar')"
   ]
  },
  {
   "cell_type": "markdown",
   "metadata": {},
   "source": [
    "Realized that since the scale of the two variables are different, "
   ]
  },
  {
   "cell_type": "code",
   "execution_count": 61,
   "metadata": {
    "collapsed": false
   },
   "outputs": [
    {
     "data": {
      "text/plain": [
       "<matplotlib.axes._subplots.AxesSubplot at 0x11b37f588>"
      ]
     },
     "execution_count": 61,
     "metadata": {},
     "output_type": "execute_result"
    },
    {
     "data": {
      "image/png": "[encoded data removed]",
      "text/plain": [
       "<matplotlib.figure.Figure at 0x11b0eed68>"
      ]
     },
     "metadata": {},
     "output_type": "display_data"
    },
    {
     "data": {
      "image/png": "[encoded data removed]",
      "text/plain": [
       "<matplotlib.figure.Figure at 0x11b286f60>"
      ]
     },
     "metadata": {},
     "output_type": "display_data"
    }
   ],
   "source": [
    "merged_df.plot(x='state', y='Percent margin',  kind='bar')\n",
    "merged_df.plot(x='state', secondary_y=True, y='ad_duration_secs',  kind='bar')"
   ]
  }
 ],
 "metadata": {
  "kernelspec": {
   "display_name": "Python 3",
   "language": "python",
   "name": "python3"
  },
  "language_info": {
   "codemirror_mode": {
    "name": "ipython",
    "version": 3
   },
   "file_extension": ".py",
   "mimetype": "text/x-python",
   "name": "python",
   "nbconvert_exporter": "python",
   "pygments_lexer": "ipython3",
   "version": "3.6.0"
  }
 },
 "nbformat": 4,
 "nbformat_minor": 2
}
