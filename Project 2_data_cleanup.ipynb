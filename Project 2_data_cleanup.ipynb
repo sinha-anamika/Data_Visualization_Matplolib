{
 "cells": [
  {
   "cell_type": "code",
   "execution_count": 50,
   "metadata": {
    "collapsed": false
   },
   "outputs": [
    {
     "name": "stdout",
     "output_type": "stream",
     "text": [
      "3.6.0 |Anaconda 4.3.1 (x86_64)| (default, Dec 23 2016, 13:19:00) \n",
      "[GCC 4.2.1 Compatible Apple LLVM 6.0 (clang-600.0.57)]\n",
      "1.11.3\n",
      "0.19.2\n"
     ]
    }
   ],
   "source": [
    "%matplotlib inline\n",
    "import sys\n",
    "print(sys.version)\n",
    "import numpy as np\n",
    "print(np.__version__)\n",
    "import pandas as pd\n",
    "print(pd.__version__)\n",
    "import matplotlib.pyplot as plt\n",
    "from datetime import datetime"
   ]
  },
  {
   "cell_type": "code",
   "execution_count": 2,
   "metadata": {
    "collapsed": false
   },
   "outputs": [
    {
     "data": {
      "text/html": [
       "<div>\n",
       "<table border=\"1\" class=\"dataframe\">\n",
       "  <thead>\n",
       "    <tr style=\"text-align: right;\">\n",
       "      <th></th>\n",
       "      <th>id</th>\n",
       "      <th>wp_identifier</th>\n",
       "      <th>network</th>\n",
       "      <th>location</th>\n",
       "      <th>program</th>\n",
       "      <th>program_type</th>\n",
       "      <th>start_time</th>\n",
       "      <th>end_time</th>\n",
       "      <th>archive_id</th>\n",
       "      <th>embed_url</th>\n",
       "      <th>sponsors</th>\n",
       "      <th>sponsor_types</th>\n",
       "      <th>race</th>\n",
       "      <th>cycle</th>\n",
       "      <th>subjects</th>\n",
       "      <th>candidates</th>\n",
       "      <th>type</th>\n",
       "      <th>message</th>\n",
       "      <th>date_created</th>\n",
       "    </tr>\n",
       "  </thead>\n",
       "  <tbody>\n",
       "    <tr>\n",
       "      <th>0</th>\n",
       "      <td>1</td>\n",
       "      <td>5643</td>\n",
       "      <td>KLAS</td>\n",
       "      <td>Las Vegas, NV</td>\n",
       "      <td>8 News Now at 5 PM</td>\n",
       "      <td>news</td>\n",
       "      <td>2016-09-09 00:12:59</td>\n",
       "      <td>2016-09-09 00:13:29</td>\n",
       "      <td>PolAd_HillaryClinton_f1h3j</td>\n",
       "      <td>https://archive.org/embed/PolAd_HillaryClinton...</td>\n",
       "      <td>Hillary for America</td>\n",
       "      <td>Multiple</td>\n",
       "      <td>PRES</td>\n",
       "      <td>2016.0</td>\n",
       "      <td>Energy, China, Jobs</td>\n",
       "      <td>Hillary Clinton</td>\n",
       "      <td>campaign</td>\n",
       "      <td>pro</td>\n",
       "      <td>2016-09-12 14:49:00</td>\n",
       "    </tr>\n",
       "    <tr>\n",
       "      <th>1</th>\n",
       "      <td>2</td>\n",
       "      <td>5643</td>\n",
       "      <td>WNCN</td>\n",
       "      <td>Raleigh-Durham-Fayetteville,  NC</td>\n",
       "      <td>North Carolina News at 500PM</td>\n",
       "      <td>news</td>\n",
       "      <td>2016-09-06 21:58:25</td>\n",
       "      <td>2016-09-06 21:58:55</td>\n",
       "      <td>PolAd_HillaryClinton_f1h3j</td>\n",
       "      <td>https://archive.org/embed/PolAd_HillaryClinton...</td>\n",
       "      <td>Hillary for America</td>\n",
       "      <td>Multiple</td>\n",
       "      <td>PRES</td>\n",
       "      <td>2016.0</td>\n",
       "      <td>Energy, China, Jobs</td>\n",
       "      <td>Hillary Clinton</td>\n",
       "      <td>campaign</td>\n",
       "      <td>pro</td>\n",
       "      <td>2016-09-12 14:49:00</td>\n",
       "    </tr>\n",
       "    <tr>\n",
       "      <th>2</th>\n",
       "      <td>3</td>\n",
       "      <td>5643</td>\n",
       "      <td>KLAS</td>\n",
       "      <td>Las Vegas, NV</td>\n",
       "      <td>Face the Nation</td>\n",
       "      <td>news</td>\n",
       "      <td>2016-09-04 16:24:25</td>\n",
       "      <td>2016-09-04 16:24:55</td>\n",
       "      <td>PolAd_HillaryClinton_f1h3j</td>\n",
       "      <td>https://archive.org/embed/PolAd_HillaryClinton...</td>\n",
       "      <td>Hillary for America</td>\n",
       "      <td>Multiple</td>\n",
       "      <td>PRES</td>\n",
       "      <td>2016.0</td>\n",
       "      <td>Energy, China, Jobs</td>\n",
       "      <td>Hillary Clinton</td>\n",
       "      <td>campaign</td>\n",
       "      <td>pro</td>\n",
       "      <td>2016-09-12 14:49:00</td>\n",
       "    </tr>\n",
       "    <tr>\n",
       "      <th>3</th>\n",
       "      <td>4</td>\n",
       "      <td>5643</td>\n",
       "      <td>WFLA</td>\n",
       "      <td>Tampa-St. Petersburg, FL</td>\n",
       "      <td>Days of Our Lives</td>\n",
       "      <td>not news</td>\n",
       "      <td>2016-08-30 17:59:20</td>\n",
       "      <td>2016-08-30 17:59:50</td>\n",
       "      <td>PolAd_HillaryClinton_f1h3j</td>\n",
       "      <td>https://archive.org/embed/PolAd_HillaryClinton...</td>\n",
       "      <td>Hillary for America</td>\n",
       "      <td>Multiple</td>\n",
       "      <td>PRES</td>\n",
       "      <td>2016.0</td>\n",
       "      <td>Energy, China, Jobs</td>\n",
       "      <td>Hillary Clinton</td>\n",
       "      <td>campaign</td>\n",
       "      <td>pro</td>\n",
       "      <td>2016-09-12 14:49:00</td>\n",
       "    </tr>\n",
       "    <tr>\n",
       "      <th>4</th>\n",
       "      <td>5</td>\n",
       "      <td>5643</td>\n",
       "      <td>KSNV</td>\n",
       "      <td>Las Vegas, NV</td>\n",
       "      <td>The Tonight Show Starring Jimmy Fallon</td>\n",
       "      <td>news</td>\n",
       "      <td>2016-09-06 07:02:22</td>\n",
       "      <td>2016-09-06 07:02:52</td>\n",
       "      <td>PolAd_HillaryClinton_f1h3j</td>\n",
       "      <td>https://archive.org/embed/PolAd_HillaryClinton...</td>\n",
       "      <td>Hillary for America</td>\n",
       "      <td>Multiple</td>\n",
       "      <td>PRES</td>\n",
       "      <td>2016.0</td>\n",
       "      <td>Energy, China, Jobs</td>\n",
       "      <td>Hillary Clinton</td>\n",
       "      <td>campaign</td>\n",
       "      <td>pro</td>\n",
       "      <td>2016-09-12 14:49:00</td>\n",
       "    </tr>\n",
       "  </tbody>\n",
       "</table>\n",
       "</div>"
      ],
      "text/plain": [
       "   id  wp_identifier network                          location  \\\n",
       "0   1           5643    KLAS                     Las Vegas, NV   \n",
       "1   2           5643    WNCN  Raleigh-Durham-Fayetteville,  NC   \n",
       "2   3           5643    KLAS                     Las Vegas, NV   \n",
       "3   4           5643    WFLA          Tampa-St. Petersburg, FL   \n",
       "4   5           5643    KSNV                     Las Vegas, NV   \n",
       "\n",
       "                                  program program_type          start_time  \\\n",
       "0                      8 News Now at 5 PM         news 2016-09-09 00:12:59   \n",
       "1            North Carolina News at 500PM         news 2016-09-06 21:58:25   \n",
       "2                         Face the Nation         news 2016-09-04 16:24:25   \n",
       "3                       Days of Our Lives     not news 2016-08-30 17:59:20   \n",
       "4  The Tonight Show Starring Jimmy Fallon         news 2016-09-06 07:02:22   \n",
       "\n",
       "             end_time                  archive_id  \\\n",
       "0 2016-09-09 00:13:29  PolAd_HillaryClinton_f1h3j   \n",
       "1 2016-09-06 21:58:55  PolAd_HillaryClinton_f1h3j   \n",
       "2 2016-09-04 16:24:55  PolAd_HillaryClinton_f1h3j   \n",
       "3 2016-08-30 17:59:50  PolAd_HillaryClinton_f1h3j   \n",
       "4 2016-09-06 07:02:52  PolAd_HillaryClinton_f1h3j   \n",
       "\n",
       "                                           embed_url             sponsors  \\\n",
       "0  https://archive.org/embed/PolAd_HillaryClinton...  Hillary for America   \n",
       "1  https://archive.org/embed/PolAd_HillaryClinton...  Hillary for America   \n",
       "2  https://archive.org/embed/PolAd_HillaryClinton...  Hillary for America   \n",
       "3  https://archive.org/embed/PolAd_HillaryClinton...  Hillary for America   \n",
       "4  https://archive.org/embed/PolAd_HillaryClinton...  Hillary for America   \n",
       "\n",
       "  sponsor_types  race   cycle             subjects       candidates      type  \\\n",
       "0      Multiple  PRES  2016.0  Energy, China, Jobs  Hillary Clinton  campaign   \n",
       "1      Multiple  PRES  2016.0  Energy, China, Jobs  Hillary Clinton  campaign   \n",
       "2      Multiple  PRES  2016.0  Energy, China, Jobs  Hillary Clinton  campaign   \n",
       "3      Multiple  PRES  2016.0  Energy, China, Jobs  Hillary Clinton  campaign   \n",
       "4      Multiple  PRES  2016.0  Energy, China, Jobs  Hillary Clinton  campaign   \n",
       "\n",
       "  message        date_created  \n",
       "0     pro 2016-09-12 14:49:00  \n",
       "1     pro 2016-09-12 14:49:00  \n",
       "2     pro 2016-09-12 14:49:00  \n",
       "3     pro 2016-09-12 14:49:00  \n",
       "4     pro 2016-09-12 14:49:00  "
      ]
     },
     "execution_count": 2,
     "metadata": {},
     "output_type": "execute_result"
    }
   ],
   "source": [
    "#Read the entire dataset\n",
    "#Using date parser to convert all dates into datetime\n",
    "df_ad_airings = pd.read_csv('./TV_AD_AIRINGS_ENTIRE_DATASET.csv', parse_dates=['start_time','end_time','date_created'])\n",
    "df_ad_airings.head(5)"
   ]
  },
  {
   "cell_type": "code",
   "execution_count": 5,
   "metadata": {
    "collapsed": false
   },
   "outputs": [
    {
     "data": {
      "text/plain": [
       "(364718, 19)"
      ]
     },
     "execution_count": 5,
     "metadata": {},
     "output_type": "execute_result"
    }
   ],
   "source": [
    "#Number of rows and columns in the original dataset\n",
    "df_ad_airings.shape"
   ]
  },
  {
   "cell_type": "code",
   "execution_count": 8,
   "metadata": {
    "collapsed": false
   },
   "outputs": [
    {
     "data": {
      "text/html": [
       "<div>\n",
       "<table border=\"1\" class=\"dataframe\">\n",
       "  <thead>\n",
       "    <tr style=\"text-align: right;\">\n",
       "      <th></th>\n",
       "      <th>id</th>\n",
       "      <th>wp_identifier</th>\n",
       "      <th>cycle</th>\n",
       "    </tr>\n",
       "  </thead>\n",
       "  <tbody>\n",
       "    <tr>\n",
       "      <th>count</th>\n",
       "      <td>364718.000000</td>\n",
       "      <td>364718.000000</td>\n",
       "      <td>335617.0</td>\n",
       "    </tr>\n",
       "    <tr>\n",
       "      <th>mean</th>\n",
       "      <td>237070.526862</td>\n",
       "      <td>4078.856336</td>\n",
       "      <td>2016.0</td>\n",
       "    </tr>\n",
       "    <tr>\n",
       "      <th>std</th>\n",
       "      <td>139393.647930</td>\n",
       "      <td>2709.646714</td>\n",
       "      <td>0.0</td>\n",
       "    </tr>\n",
       "    <tr>\n",
       "      <th>min</th>\n",
       "      <td>1.000000</td>\n",
       "      <td>232.000000</td>\n",
       "      <td>2016.0</td>\n",
       "    </tr>\n",
       "    <tr>\n",
       "      <th>25%</th>\n",
       "      <td>114419.250000</td>\n",
       "      <td>1213.000000</td>\n",
       "      <td>2016.0</td>\n",
       "    </tr>\n",
       "    <tr>\n",
       "      <th>50%</th>\n",
       "      <td>222862.500000</td>\n",
       "      <td>4685.000000</td>\n",
       "      <td>2016.0</td>\n",
       "    </tr>\n",
       "    <tr>\n",
       "      <th>75%</th>\n",
       "      <td>372456.750000</td>\n",
       "      <td>6714.000000</td>\n",
       "      <td>2016.0</td>\n",
       "    </tr>\n",
       "    <tr>\n",
       "      <th>max</th>\n",
       "      <td>464741.000000</td>\n",
       "      <td>8404.000000</td>\n",
       "      <td>2016.0</td>\n",
       "    </tr>\n",
       "  </tbody>\n",
       "</table>\n",
       "</div>"
      ],
      "text/plain": [
       "                  id  wp_identifier     cycle\n",
       "count  364718.000000  364718.000000  335617.0\n",
       "mean   237070.526862    4078.856336    2016.0\n",
       "std    139393.647930    2709.646714       0.0\n",
       "min         1.000000     232.000000    2016.0\n",
       "25%    114419.250000    1213.000000    2016.0\n",
       "50%    222862.500000    4685.000000    2016.0\n",
       "75%    372456.750000    6714.000000    2016.0\n",
       "max    464741.000000    8404.000000    2016.0"
      ]
     },
     "execution_count": 8,
     "metadata": {},
     "output_type": "execute_result"
    }
   ],
   "source": [
    "df_ad_airings.describe()"
   ]
  },
  {
   "cell_type": "code",
   "execution_count": 9,
   "metadata": {
    "collapsed": false
   },
   "outputs": [
    {
     "name": "stdout",
     "output_type": "stream",
     "text": [
      "<class 'pandas.core.frame.DataFrame'>\n",
      "RangeIndex: 364718 entries, 0 to 364717\n",
      "Data columns (total 19 columns):\n",
      "id               364718 non-null int64\n",
      "wp_identifier    364718 non-null int64\n",
      "network          364718 non-null object\n",
      "location         364693 non-null object\n",
      "program          364704 non-null object\n",
      "program_type     364718 non-null object\n",
      "start_time       364718 non-null datetime64[ns]\n",
      "end_time         364718 non-null datetime64[ns]\n",
      "archive_id       364718 non-null object\n",
      "embed_url        364718 non-null object\n",
      "sponsors         363556 non-null object\n",
      "sponsor_types    363556 non-null object\n",
      "race             334846 non-null object\n",
      "cycle            335617 non-null float64\n",
      "subjects         343932 non-null object\n",
      "candidates       339591 non-null object\n",
      "type             364718 non-null object\n",
      "message          364718 non-null object\n",
      "date_created     364718 non-null datetime64[ns]\n",
      "dtypes: datetime64[ns](3), float64(1), int64(2), object(13)\n",
      "memory usage: 52.9+ MB\n"
     ]
    }
   ],
   "source": [
    "df_ad_airings.info()"
   ]
  },
  {
   "cell_type": "code",
   "execution_count": 10,
   "metadata": {
    "collapsed": false
   },
   "outputs": [
    {
     "data": {
      "text/plain": [
       "id                        int64\n",
       "wp_identifier             int64\n",
       "network                  object\n",
       "location                 object\n",
       "program                  object\n",
       "program_type             object\n",
       "start_time       datetime64[ns]\n",
       "end_time         datetime64[ns]\n",
       "archive_id               object\n",
       "embed_url                object\n",
       "sponsors                 object\n",
       "sponsor_types            object\n",
       "race                     object\n",
       "cycle                   float64\n",
       "subjects                 object\n",
       "candidates               object\n",
       "type                     object\n",
       "message                  object\n",
       "date_created     datetime64[ns]\n",
       "dtype: object"
      ]
     },
     "execution_count": 10,
     "metadata": {},
     "output_type": "execute_result"
    }
   ],
   "source": [
    "df_ad_airings.dtypes\n",
    "#All dates are now datetime"
   ]
  },
  {
   "cell_type": "code",
   "execution_count": 4,
   "metadata": {
    "collapsed": false
   },
   "outputs": [
    {
     "data": {
      "text/plain": [
       "Donald Trump                                                                                               56157\n",
       "Hillary Clinton                                                                                            49537\n",
       "Bernie Sanders                                                                                             31886\n",
       "Donald Trump, Hillary Clinton                                                                              21943\n",
       "Marco Rubio                                                                                                21131\n",
       "Kelly Ayotte                                                                                               10289\n",
       "Catherine Cortez Masto                                                                                      9735\n",
       "Pat Toomey                                                                                                  9179\n",
       "Katie McGinty                                                                                               7811\n",
       "Joe Heck                                                                                                    7693\n",
       "Maggie Hassan                                                                                               6460\n",
       "Jeb Bush                                                                                                    5698\n",
       "Russ Feingold                                                                                               5181\n",
       "Katie McGinty, Pat Toomey                                                                                   3948\n",
       "Ron Johnson                                                                                                 3521\n",
       "Patrick Murphy                                                                                              3452\n",
       "Ted Strickland                                                                                              3445\n",
       "Rob Portman                                                                                                 3249\n",
       "Hillary Clinton, Marco Rubio                                                                                3109\n",
       "Ted Cruz                                                                                                    3106\n",
       "Donald Trump, Kelly Ayotte                                                                                  3057\n",
       "Richard Burr                                                                                                3030\n",
       "Jeb Bush, Marco Rubio                                                                                       2866\n",
       "David Trone                                                                                                 2347\n",
       "Joe Sestak                                                                                                  2135\n",
       "Michael Bennet                                                                                              1966\n",
       "none                                                                                                        1882\n",
       "Kelly Ayotte, Maggie Hassan                                                                                 1874\n",
       "Marco Rubio, Patrick Murphy                                                                                 1840\n",
       "Kathleen Matthews                                                                                           1829\n",
       "                                                                                                           ...  \n",
       "Donald Trump, Jeb Bush, Marco Rubio                                                                           66\n",
       "Gerald Daugherty                                                                                              62\n",
       "Hillary Clinton, Warren Davidson                                                                              46\n",
       "Jim Gilmore                                                                                                   30\n",
       "Bernie Sanders, Hillary Clinton                                                                               23\n",
       "Donald Trump, John McCain, Kelly Ayotte, Marco Rubio, Richard Burr, Rob Portman, Ron Johnson, Roy Blunt       20\n",
       "Bernie Sanders, Donald Trump, Hillary Clinton                                                                 19\n",
       "Tim Huelskamp                                                                                                 17\n",
       "Ben Carson, Hillary Clinton, John Kasich, Ted Cruz                                                            12\n",
       "Chris Christie, Marco Rubio                                                                                   11\n",
       "Hillary Clinton, John Kasich, Marco Rubio                                                                     10\n",
       "Mark R Meadows                                                                                                 8\n",
       "Donald Trump, John McCain                                                                                      8\n",
       "Paul Nehlen, Paul Ryan                                                                                         6\n",
       "John Fetterman                                                                                                 6\n",
       "Donald Trump, Mark Kirk                                                                                        5\n",
       "Donald Trump, Gary Johnson, Gary Johnson                                                                       5\n",
       "Donald Trump, Hillary Clinton, Mike Coffman                                                                    5\n",
       "Evan Bayh                                                                                                      4\n",
       "Hillary Clinton, Tim Kaine                                                                                     3\n",
       "Jill Stein                                                                                                     3\n",
       "Chris Christie, John Kasich                                                                                    2\n",
       "Catherine Cortez Masto, Hillary Clinton, Katie McGinty, Patrick Murphy, Ted Strickland                         2\n",
       "Donald Trump, Hillary Clinton, John Kasich, Ted Cruz                                                           2\n",
       "Todd Young                                                                                                     2\n",
       "Jeb Bush, Marco Rubio, Ted Cruz                                                                                2\n",
       "Ben Carson, Donald Trump, Jeb Bush, Marco Rubio, Ted Cruz                                                      1\n",
       "Donald Trump, Gary Johnson, Gary Johnson, Hillary Clinton, Jill Stein                                          1\n",
       "Ben Carson                                                                                                     1\n",
       "Donald Trump, Hillary Clinton, Jeb Bush, Marco Rubio, Ted Cruz, Carson                                         1\n",
       "Name: candidates, dtype: int64"
      ]
     },
     "execution_count": 4,
     "metadata": {},
     "output_type": "execute_result"
    }
   ],
   "source": [
    "df_ad_airings['candidates'].value_counts()\n",
    "#Explore candidates\n",
    "#Interesting that candidates appear individually as well as in groups"
   ]
  },
  {
   "cell_type": "code",
   "execution_count": 42,
   "metadata": {
    "collapsed": false
   },
   "outputs": [
    {
     "data": {
      "text/plain": [
       "PRES    213097\n",
       "PAS1     26088\n",
       "NHS1     21680\n",
       "NVS2     19451\n",
       "WIS2     11061\n",
       "OHS2      8048\n",
       "NCS2      6668\n",
       "FLS2      6404\n",
       "MD08      5392\n",
       "AZS1      4745\n",
       "COS1      2521\n",
       "MDS2      2202\n",
       "IAS1      1628\n",
       "MD04      1448\n",
       "PA08      1198\n",
       "OH08       830\n",
       "AZ05       713\n",
       "CAS1       437\n",
       "OH14       336\n",
       "NJ03       211\n",
       "NC02       208\n",
       "PA02       168\n",
       "ILS2       149\n",
       "WI01       127\n",
       "KS01        17\n",
       "NC11         8\n",
       "INS2         6\n",
       "CO06         5\n",
       "Name: race, dtype: int64"
      ]
     },
     "execution_count": 42,
     "metadata": {},
     "output_type": "execute_result"
    }
   ],
   "source": [
    "df_ad_airings['race'].value_counts()\n",
    "#Dataset has all kinds of races. We will need to filter on 'PRES'"
   ]
  },
  {
   "cell_type": "code",
   "execution_count": 43,
   "metadata": {
    "collapsed": false
   },
   "outputs": [
    {
     "data": {
      "text/plain": [
       "Boston, MA/Manchester, NH                            50303\n",
       "Philadelphia, PA                                     44135\n",
       "Las Vegas, NV                                        42091\n",
       "Tampa-St. Petersburg, FL                             24195\n",
       "Ceder Rapids-Waterloo-Iowa City-Dublin, Iowa         22862\n",
       "Cleveland, Ohio                                      22740\n",
       "San Francisco-Oakland-San Jose, CA                   20295\n",
       "Raleigh-Durham-Fayetteville,  NC                     17221\n",
       "Des Moines-Ames, Iowa                                16128\n",
       "Milwaukee, WI                                        15423\n",
       "Phoenix-Prescott, AZ                                 12900\n",
       "Washington, DC/Hagerstown, MD                        12313\n",
       "Sioux City, Iowa                                     11218\n",
       "Denver, CO                                           10889\n",
       "Columbia, SC                                          9445\n",
       "Greenville-Spartanburg, SC/Asheville-Anderson, NC     7472\n",
       "Reno, NV                                              5887\n",
       "Orlando-Daytona Beach-Melbourne, FL                   4890\n",
       "Cincinnati, OH                                        3658\n",
       "Miami-Fort Lauderdale, FL                             2537\n",
       "Charlotte, NC                                         2155\n",
       "New York City, NY                                     2000\n",
       "Norfolk-Portsmouth-Newport News, NC                   1498\n",
       "Colorado Springs-Pueblo, CO                           1474\n",
       "Roanoke-Lynchburg, VA                                  964\n",
       "Name: location, dtype: int64"
      ]
     },
     "execution_count": 43,
     "metadata": {},
     "output_type": "execute_result"
    }
   ],
   "source": [
    "df_ad_airings['location'].value_counts()"
   ]
  },
  {
   "cell_type": "code",
   "execution_count": 15,
   "metadata": {
    "collapsed": false
   },
   "outputs": [
    {
     "data": {
      "text/plain": [
       "(201445, 19)"
      ]
     },
     "execution_count": 15,
     "metadata": {},
     "output_type": "execute_result"
    }
   ],
   "source": [
    "df_ad_airings[df_ad_airings['start_time'] > '8/1/2016'].shape"
   ]
  },
  {
   "cell_type": "code",
   "execution_count": 48,
   "metadata": {
    "collapsed": false
   },
   "outputs": [
    {
     "data": {
      "text/plain": [
       "PRES    213097\n",
       "Name: race, dtype: int64"
      ]
     },
     "execution_count": 48,
     "metadata": {},
     "output_type": "execute_result"
    }
   ],
   "source": [
    "df_ad_airings.race[df_ad_airings.race =='PRES'].value_counts()"
   ]
  },
  {
   "cell_type": "code",
   "execution_count": 20,
   "metadata": {
    "collapsed": true
   },
   "outputs": [],
   "source": [
    "df_ad_airings.to_csv('./TV_AD_AIRINGS_ENTIRE_DATASET_DATES_FIXED.csv')"
   ]
  },
  {
   "cell_type": "code",
   "execution_count": 22,
   "metadata": {
    "collapsed": false
   },
   "outputs": [],
   "source": [
    "df_ad_airings_1 = pd.read_csv('./TV_AD_AIRINGS_ENTIRE_DATASET_DATES_FIXED.csv')"
   ]
  },
  {
   "cell_type": "code",
   "execution_count": 29,
   "metadata": {
    "collapsed": false
   },
   "outputs": [
    {
     "data": {
      "text/plain": [
       "Unnamed: 0         int64\n",
       "id                 int64\n",
       "wp_identifier      int64\n",
       "network           object\n",
       "location          object\n",
       "program           object\n",
       "program_type      object\n",
       "start_time        object\n",
       "end_time          object\n",
       "archive_id        object\n",
       "embed_url         object\n",
       "sponsors          object\n",
       "sponsor_types     object\n",
       "race              object\n",
       "cycle            float64\n",
       "subjects          object\n",
       "candidates        object\n",
       "type              object\n",
       "message           object\n",
       "date_created      object\n",
       "dtype: object"
      ]
     },
     "execution_count": 29,
     "metadata": {},
     "output_type": "execute_result"
    }
   ],
   "source": [
    "#Tried saving and reading from csv and datetime is lost\n",
    "df_ad_airings_1.dtypes"
   ]
  },
  {
   "cell_type": "code",
   "execution_count": 30,
   "metadata": {
    "collapsed": true
   },
   "outputs": [],
   "source": [
    "#So saving and reading as a pickle file\n",
    "df_ad_airings.to_pickle('./TV_AD_AIRINGS_ENTIRE_DATASET_DATES_FIXED.pkl')"
   ]
  },
  {
   "cell_type": "code",
   "execution_count": 33,
   "metadata": {
    "collapsed": false
   },
   "outputs": [],
   "source": [
    "#Reading back from the pickle file\n",
    "df_ad_airings_2 = pd.read_pickle('./TV_AD_AIRINGS_ENTIRE_DATASET_DATES_FIXED.pkl')"
   ]
  },
  {
   "cell_type": "code",
   "execution_count": 35,
   "metadata": {
    "collapsed": false
   },
   "outputs": [
    {
     "data": {
      "text/plain": [
       "id                        int64\n",
       "wp_identifier             int64\n",
       "network                  object\n",
       "location                 object\n",
       "program                  object\n",
       "program_type             object\n",
       "start_time       datetime64[ns]\n",
       "end_time         datetime64[ns]\n",
       "archive_id               object\n",
       "embed_url                object\n",
       "sponsors                 object\n",
       "sponsor_types            object\n",
       "race                     object\n",
       "cycle                   float64\n",
       "subjects                 object\n",
       "candidates               object\n",
       "type                     object\n",
       "message                  object\n",
       "date_created     datetime64[ns]\n",
       "dtype: object"
      ]
     },
     "execution_count": 35,
     "metadata": {},
     "output_type": "execute_result"
    }
   ],
   "source": [
    "df_ad_airings_2.dtypes\n",
    "#checked that all dates are datetime "
   ]
  },
  {
   "cell_type": "markdown",
   "metadata": {},
   "source": [
    "# Data filtering\n",
    "\n",
    "1. Filter on start_time > '8/1/2016' to have data after republican convention\n",
    "2. Filter on race='PRES'"
   ]
  },
  {
   "cell_type": "code",
   "execution_count": 61,
   "metadata": {
    "collapsed": true
   },
   "outputs": [],
   "source": [
    "#Making a copy before modifying \n",
    "df_ad_airings_filter_3 = df_ad_airings_2.copy()"
   ]
  },
  {
   "cell_type": "code",
   "execution_count": 62,
   "metadata": {
    "collapsed": false
   },
   "outputs": [],
   "source": [
    "df_ad_airings_filter_3 = df_ad_airings_filter_3[df_ad_airings_filter_3['start_time'] > '8/1/2016']"
   ]
  },
  {
   "cell_type": "code",
   "execution_count": 63,
   "metadata": {
    "collapsed": false
   },
   "outputs": [
    {
     "data": {
      "text/html": [
       "<div>\n",
       "<table border=\"1\" class=\"dataframe\">\n",
       "  <thead>\n",
       "    <tr style=\"text-align: right;\">\n",
       "      <th></th>\n",
       "      <th>id</th>\n",
       "      <th>wp_identifier</th>\n",
       "      <th>network</th>\n",
       "      <th>location</th>\n",
       "      <th>program</th>\n",
       "      <th>program_type</th>\n",
       "      <th>start_time</th>\n",
       "      <th>end_time</th>\n",
       "      <th>archive_id</th>\n",
       "      <th>embed_url</th>\n",
       "      <th>sponsors</th>\n",
       "      <th>sponsor_types</th>\n",
       "      <th>race</th>\n",
       "      <th>cycle</th>\n",
       "      <th>subjects</th>\n",
       "      <th>candidates</th>\n",
       "      <th>type</th>\n",
       "      <th>message</th>\n",
       "      <th>date_created</th>\n",
       "    </tr>\n",
       "  </thead>\n",
       "  <tbody>\n",
       "    <tr>\n",
       "      <th>0</th>\n",
       "      <td>1</td>\n",
       "      <td>5643</td>\n",
       "      <td>KLAS</td>\n",
       "      <td>Las Vegas, NV</td>\n",
       "      <td>8 News Now at 5 PM</td>\n",
       "      <td>news</td>\n",
       "      <td>2016-09-09 00:12:59</td>\n",
       "      <td>2016-09-09 00:13:29</td>\n",
       "      <td>PolAd_HillaryClinton_f1h3j</td>\n",
       "      <td>https://archive.org/embed/PolAd_HillaryClinton...</td>\n",
       "      <td>Hillary for America</td>\n",
       "      <td>Multiple</td>\n",
       "      <td>PRES</td>\n",
       "      <td>2016.0</td>\n",
       "      <td>Energy, China, Jobs</td>\n",
       "      <td>Hillary Clinton</td>\n",
       "      <td>campaign</td>\n",
       "      <td>pro</td>\n",
       "      <td>2016-09-12 14:49:00</td>\n",
       "    </tr>\n",
       "    <tr>\n",
       "      <th>1</th>\n",
       "      <td>2</td>\n",
       "      <td>5643</td>\n",
       "      <td>WNCN</td>\n",
       "      <td>Raleigh-Durham-Fayetteville,  NC</td>\n",
       "      <td>North Carolina News at 500PM</td>\n",
       "      <td>news</td>\n",
       "      <td>2016-09-06 21:58:25</td>\n",
       "      <td>2016-09-06 21:58:55</td>\n",
       "      <td>PolAd_HillaryClinton_f1h3j</td>\n",
       "      <td>https://archive.org/embed/PolAd_HillaryClinton...</td>\n",
       "      <td>Hillary for America</td>\n",
       "      <td>Multiple</td>\n",
       "      <td>PRES</td>\n",
       "      <td>2016.0</td>\n",
       "      <td>Energy, China, Jobs</td>\n",
       "      <td>Hillary Clinton</td>\n",
       "      <td>campaign</td>\n",
       "      <td>pro</td>\n",
       "      <td>2016-09-12 14:49:00</td>\n",
       "    </tr>\n",
       "  </tbody>\n",
       "</table>\n",
       "</div>"
      ],
      "text/plain": [
       "   id  wp_identifier network                          location  \\\n",
       "0   1           5643    KLAS                     Las Vegas, NV   \n",
       "1   2           5643    WNCN  Raleigh-Durham-Fayetteville,  NC   \n",
       "\n",
       "                        program program_type          start_time  \\\n",
       "0            8 News Now at 5 PM         news 2016-09-09 00:12:59   \n",
       "1  North Carolina News at 500PM         news 2016-09-06 21:58:25   \n",
       "\n",
       "             end_time                  archive_id  \\\n",
       "0 2016-09-09 00:13:29  PolAd_HillaryClinton_f1h3j   \n",
       "1 2016-09-06 21:58:55  PolAd_HillaryClinton_f1h3j   \n",
       "\n",
       "                                           embed_url             sponsors  \\\n",
       "0  https://archive.org/embed/PolAd_HillaryClinton...  Hillary for America   \n",
       "1  https://archive.org/embed/PolAd_HillaryClinton...  Hillary for America   \n",
       "\n",
       "  sponsor_types  race   cycle             subjects       candidates      type  \\\n",
       "0      Multiple  PRES  2016.0  Energy, China, Jobs  Hillary Clinton  campaign   \n",
       "1      Multiple  PRES  2016.0  Energy, China, Jobs  Hillary Clinton  campaign   \n",
       "\n",
       "  message        date_created  \n",
       "0     pro 2016-09-12 14:49:00  \n",
       "1     pro 2016-09-12 14:49:00  "
      ]
     },
     "execution_count": 63,
     "metadata": {},
     "output_type": "execute_result"
    }
   ],
   "source": [
    "df_ad_airings_filter_3.head(2)"
   ]
  },
  {
   "cell_type": "code",
   "execution_count": 64,
   "metadata": {
    "collapsed": false
   },
   "outputs": [
    {
     "data": {
      "text/plain": [
       "(201445, 19)"
      ]
     },
     "execution_count": 64,
     "metadata": {},
     "output_type": "execute_result"
    }
   ],
   "source": [
    "df_ad_airings_filter_3.shape"
   ]
  },
  {
   "cell_type": "markdown",
   "metadata": {},
   "source": [
    "Compared the above to df_ad_airings[df_ad_airings['start_time'] > '8/1/2016'].shape to make sure the numbers match"
   ]
  },
  {
   "cell_type": "code",
   "execution_count": 65,
   "metadata": {
    "collapsed": false
   },
   "outputs": [
    {
     "data": {
      "text/plain": [
       "Timestamp('2016-08-01 00:35:22')"
      ]
     },
     "execution_count": 65,
     "metadata": {},
     "output_type": "execute_result"
    }
   ],
   "source": [
    "df_ad_airings_filter_3['start_time'].min()"
   ]
  },
  {
   "cell_type": "code",
   "execution_count": 66,
   "metadata": {
    "collapsed": false
   },
   "outputs": [
    {
     "data": {
      "text/plain": [
       "Timestamp('2016-11-29 18:44:37')"
      ]
     },
     "execution_count": 66,
     "metadata": {},
     "output_type": "execute_result"
    }
   ],
   "source": [
    "df_ad_airings_filter_3['start_time'].max()\n",
    "#Strange that there are dates in the dataset beyong the election day. \n",
    "#Probably because of other non presidential races\n",
    "#This will need to be filtered."
   ]
  },
  {
   "cell_type": "code",
   "execution_count": 67,
   "metadata": {
    "collapsed": false
   },
   "outputs": [],
   "source": [
    "#Removing dates greater than 11/8/2016(election day)\n",
    "df_ad_airings_filter_3 = df_ad_airings_filter_3[df_ad_airings_filter_3['start_time'] <=  datetime(2016, 11, 8, 23, 59, 59)]"
   ]
  },
  {
   "cell_type": "code",
   "execution_count": 68,
   "metadata": {
    "collapsed": false
   },
   "outputs": [
    {
     "data": {
      "text/plain": [
       "(201283, 19)"
      ]
     },
     "execution_count": 68,
     "metadata": {},
     "output_type": "execute_result"
    }
   ],
   "source": [
    "df_ad_airings_filter_3.shape"
   ]
  },
  {
   "cell_type": "code",
   "execution_count": 69,
   "metadata": {
    "collapsed": false
   },
   "outputs": [
    {
     "data": {
      "text/plain": [
       "Timestamp('2016-11-08 23:58:46')"
      ]
     },
     "execution_count": 69,
     "metadata": {},
     "output_type": "execute_result"
    }
   ],
   "source": [
    "df_ad_airings_filter_3['start_time'].max()\n",
    "#Checking the last ad in the dataset is before the end of elections"
   ]
  },
  {
   "cell_type": "code",
   "execution_count": 70,
   "metadata": {
    "collapsed": true
   },
   "outputs": [],
   "source": [
    "#Applying the filter to keep ads related to presidential race only\n",
    "df_ad_airings_filter_3 = df_ad_airings_filter_3[df_ad_airings_filter_3['race'] == 'PRES']"
   ]
  },
  {
   "cell_type": "code",
   "execution_count": 71,
   "metadata": {
    "collapsed": false
   },
   "outputs": [
    {
     "data": {
      "text/plain": [
       "(85152, 19)"
      ]
     },
     "execution_count": 71,
     "metadata": {},
     "output_type": "execute_result"
    }
   ],
   "source": [
    "df_ad_airings_filter_3.shape"
   ]
  },
  {
   "cell_type": "code",
   "execution_count": 72,
   "metadata": {
    "collapsed": false
   },
   "outputs": [
    {
     "data": {
      "text/plain": [
       "PRES    85152\n",
       "Name: race, dtype: int64"
      ]
     },
     "execution_count": 72,
     "metadata": {},
     "output_type": "execute_result"
    }
   ],
   "source": [
    "#Checking that only presidential race ads are left in the dataset\n",
    "df_ad_airings_filter_3['race'].value_counts()"
   ]
  },
  {
   "cell_type": "code",
   "execution_count": 73,
   "metadata": {
    "collapsed": true
   },
   "outputs": [],
   "source": [
    "#Saving the dataset in a file\n",
    "df_ad_airings_filter_3.to_pickle('./TV_AD_AIRINGS_FILTER_DATASET_2.pkl')"
   ]
  },
  {
   "cell_type": "markdown",
   "metadata": {},
   "source": []
  },
  {
   "cell_type": "code",
   "execution_count": 146,
   "metadata": {
    "collapsed": true
   },
   "outputs": [],
   "source": [
    "#Reading from the saved file\n",
    "df_ad_airings_4 = pd.read_pickle('./TV_AD_AIRINGS_FILTER_DATASET_2.pkl')"
   ]
  },
  {
   "cell_type": "code",
   "execution_count": 147,
   "metadata": {
    "collapsed": false
   },
   "outputs": [
    {
     "data": {
      "text/plain": [
       "id                        int64\n",
       "wp_identifier             int64\n",
       "network                  object\n",
       "location                 object\n",
       "program                  object\n",
       "program_type             object\n",
       "start_time       datetime64[ns]\n",
       "end_time         datetime64[ns]\n",
       "archive_id               object\n",
       "embed_url                object\n",
       "sponsors                 object\n",
       "sponsor_types            object\n",
       "race                     object\n",
       "cycle                   float64\n",
       "subjects                 object\n",
       "candidates               object\n",
       "type                     object\n",
       "message                  object\n",
       "date_created     datetime64[ns]\n",
       "dtype: object"
      ]
     },
     "execution_count": 147,
     "metadata": {},
     "output_type": "execute_result"
    }
   ],
   "source": [
    "#checking dtypes\n",
    "df_ad_airings_4.dtypes"
   ]
  },
  {
   "cell_type": "code",
   "execution_count": 148,
   "metadata": {
    "collapsed": false
   },
   "outputs": [
    {
     "data": {
      "text/plain": [
       "(85152, 19)"
      ]
     },
     "execution_count": 148,
     "metadata": {},
     "output_type": "execute_result"
    }
   ],
   "source": [
    "#checking shape\n",
    "df_ad_airings_4.shape"
   ]
  },
  {
   "cell_type": "markdown",
   "metadata": {},
   "source": [
    "# Data modifications\n",
    "To analyze ad volume, we will need to consider duration of ad.\n",
    "1. In order to calculate the ad duration, we need to subtract the start_time from the end_time\n",
    "   and store it as a column.\n",
    "   "
   ]
  },
  {
   "cell_type": "code",
   "execution_count": 149,
   "metadata": {
    "collapsed": false
   },
   "outputs": [
    {
     "name": "stdout",
     "output_type": "stream",
     "text": [
      "2016-09-09 00:12:59\n"
     ]
    }
   ],
   "source": [
    "start = df_ad_airings_4['start_time'][0]\n",
    "print(start)"
   ]
  },
  {
   "cell_type": "code",
   "execution_count": 150,
   "metadata": {
    "collapsed": false
   },
   "outputs": [
    {
     "name": "stdout",
     "output_type": "stream",
     "text": [
      "2016-09-09 00:13:29\n"
     ]
    }
   ],
   "source": [
    "end = df_ad_airings_4['end_time'][0]\n",
    "print(end)"
   ]
  },
  {
   "cell_type": "code",
   "execution_count": 151,
   "metadata": {
    "collapsed": false
   },
   "outputs": [],
   "source": [
    "def duration(time_dur):\n",
    "    diff_in_secs =  time_dur.total_seconds()\n",
    "    return round(diff_in_secs,2)"
   ]
  },
  {
   "cell_type": "code",
   "execution_count": 153,
   "metadata": {
    "collapsed": false
   },
   "outputs": [
    {
     "data": {
      "text/plain": [
       "30.0"
      ]
     },
     "execution_count": 153,
     "metadata": {},
     "output_type": "execute_result"
    }
   ],
   "source": [
    "duration(end-start)"
   ]
  },
  {
   "cell_type": "code",
   "execution_count": 154,
   "metadata": {
    "collapsed": false,
    "scrolled": false
   },
   "outputs": [
    {
     "data": {
      "text/html": [
       "<div>\n",
       "<table border=\"1\" class=\"dataframe\">\n",
       "  <thead>\n",
       "    <tr style=\"text-align: right;\">\n",
       "      <th></th>\n",
       "      <th>id</th>\n",
       "      <th>wp_identifier</th>\n",
       "      <th>network</th>\n",
       "      <th>location</th>\n",
       "      <th>program</th>\n",
       "      <th>program_type</th>\n",
       "      <th>start_time</th>\n",
       "      <th>end_time</th>\n",
       "      <th>archive_id</th>\n",
       "      <th>embed_url</th>\n",
       "      <th>sponsors</th>\n",
       "      <th>sponsor_types</th>\n",
       "      <th>race</th>\n",
       "      <th>cycle</th>\n",
       "      <th>subjects</th>\n",
       "      <th>candidates</th>\n",
       "      <th>type</th>\n",
       "      <th>message</th>\n",
       "      <th>date_created</th>\n",
       "    </tr>\n",
       "  </thead>\n",
       "  <tbody>\n",
       "    <tr>\n",
       "      <th>0</th>\n",
       "      <td>1</td>\n",
       "      <td>5643</td>\n",
       "      <td>KLAS</td>\n",
       "      <td>Las Vegas, NV</td>\n",
       "      <td>8 News Now at 5 PM</td>\n",
       "      <td>news</td>\n",
       "      <td>2016-09-09 00:12:59</td>\n",
       "      <td>2016-09-09 00:13:29</td>\n",
       "      <td>PolAd_HillaryClinton_f1h3j</td>\n",
       "      <td>https://archive.org/embed/PolAd_HillaryClinton...</td>\n",
       "      <td>Hillary for America</td>\n",
       "      <td>Multiple</td>\n",
       "      <td>PRES</td>\n",
       "      <td>2016.0</td>\n",
       "      <td>Energy, China, Jobs</td>\n",
       "      <td>Hillary Clinton</td>\n",
       "      <td>campaign</td>\n",
       "      <td>pro</td>\n",
       "      <td>2016-09-12 14:49:00</td>\n",
       "    </tr>\n",
       "  </tbody>\n",
       "</table>\n",
       "</div>"
      ],
      "text/plain": [
       "   id  wp_identifier network       location             program program_type  \\\n",
       "0   1           5643    KLAS  Las Vegas, NV  8 News Now at 5 PM         news   \n",
       "\n",
       "           start_time            end_time                  archive_id  \\\n",
       "0 2016-09-09 00:12:59 2016-09-09 00:13:29  PolAd_HillaryClinton_f1h3j   \n",
       "\n",
       "                                           embed_url             sponsors  \\\n",
       "0  https://archive.org/embed/PolAd_HillaryClinton...  Hillary for America   \n",
       "\n",
       "  sponsor_types  race   cycle             subjects       candidates      type  \\\n",
       "0      Multiple  PRES  2016.0  Energy, China, Jobs  Hillary Clinton  campaign   \n",
       "\n",
       "  message        date_created  \n",
       "0     pro 2016-09-12 14:49:00  "
      ]
     },
     "execution_count": 154,
     "metadata": {},
     "output_type": "execute_result"
    }
   ],
   "source": [
    "df_ad_airings_4.head(1)"
   ]
  },
  {
   "cell_type": "code",
   "execution_count": 103,
   "metadata": {
    "collapsed": false
   },
   "outputs": [],
   "source": [
    "df_ad_airings_4['ad_duration'] = df_ad_airings_4['end_time'] - df_ad_airings_4['start_time']"
   ]
  },
  {
   "cell_type": "code",
   "execution_count": 115,
   "metadata": {
    "collapsed": false
   },
   "outputs": [],
   "source": [
    "df_ad_airings_4.drop('ad_duration',inplace=True, axis=1)"
   ]
  },
  {
   "cell_type": "code",
   "execution_count": 155,
   "metadata": {
    "collapsed": false
   },
   "outputs": [
    {
     "data": {
      "text/plain": [
       "Index(['id', 'wp_identifier', 'network', 'location', 'program', 'program_type',\n",
       "       'start_time', 'end_time', 'archive_id', 'embed_url', 'sponsors',\n",
       "       'sponsor_types', 'race', 'cycle', 'subjects', 'candidates', 'type',\n",
       "       'message', 'date_created'],\n",
       "      dtype='object')"
      ]
     },
     "execution_count": 155,
     "metadata": {},
     "output_type": "execute_result"
    }
   ],
   "source": [
    "df_ad_airings_4.columns"
   ]
  },
  {
   "cell_type": "code",
   "execution_count": 156,
   "metadata": {
    "collapsed": false
   },
   "outputs": [],
   "source": [
    "df_ad_airings_4['ad_duration_secs'] = (df_ad_airings_4['end_time'] - df_ad_airings_4['start_time']).map(duration)"
   ]
  },
  {
   "cell_type": "code",
   "execution_count": 157,
   "metadata": {
    "collapsed": false
   },
   "outputs": [
    {
     "data": {
      "text/html": [
       "<div>\n",
       "<table border=\"1\" class=\"dataframe\">\n",
       "  <thead>\n",
       "    <tr style=\"text-align: right;\">\n",
       "      <th></th>\n",
       "      <th>id</th>\n",
       "      <th>wp_identifier</th>\n",
       "      <th>network</th>\n",
       "      <th>location</th>\n",
       "      <th>program</th>\n",
       "      <th>program_type</th>\n",
       "      <th>start_time</th>\n",
       "      <th>end_time</th>\n",
       "      <th>archive_id</th>\n",
       "      <th>embed_url</th>\n",
       "      <th>sponsors</th>\n",
       "      <th>sponsor_types</th>\n",
       "      <th>race</th>\n",
       "      <th>cycle</th>\n",
       "      <th>subjects</th>\n",
       "      <th>candidates</th>\n",
       "      <th>type</th>\n",
       "      <th>message</th>\n",
       "      <th>date_created</th>\n",
       "      <th>ad_duration_secs</th>\n",
       "    </tr>\n",
       "  </thead>\n",
       "  <tbody>\n",
       "    <tr>\n",
       "      <th>0</th>\n",
       "      <td>1</td>\n",
       "      <td>5643</td>\n",
       "      <td>KLAS</td>\n",
       "      <td>Las Vegas, NV</td>\n",
       "      <td>8 News Now at 5 PM</td>\n",
       "      <td>news</td>\n",
       "      <td>2016-09-09 00:12:59</td>\n",
       "      <td>2016-09-09 00:13:29</td>\n",
       "      <td>PolAd_HillaryClinton_f1h3j</td>\n",
       "      <td>https://archive.org/embed/PolAd_HillaryClinton...</td>\n",
       "      <td>Hillary for America</td>\n",
       "      <td>Multiple</td>\n",
       "      <td>PRES</td>\n",
       "      <td>2016.0</td>\n",
       "      <td>Energy, China, Jobs</td>\n",
       "      <td>Hillary Clinton</td>\n",
       "      <td>campaign</td>\n",
       "      <td>pro</td>\n",
       "      <td>2016-09-12 14:49:00</td>\n",
       "      <td>30.0</td>\n",
       "    </tr>\n",
       "    <tr>\n",
       "      <th>1</th>\n",
       "      <td>2</td>\n",
       "      <td>5643</td>\n",
       "      <td>WNCN</td>\n",
       "      <td>Raleigh-Durham-Fayetteville,  NC</td>\n",
       "      <td>North Carolina News at 500PM</td>\n",
       "      <td>news</td>\n",
       "      <td>2016-09-06 21:58:25</td>\n",
       "      <td>2016-09-06 21:58:55</td>\n",
       "      <td>PolAd_HillaryClinton_f1h3j</td>\n",
       "      <td>https://archive.org/embed/PolAd_HillaryClinton...</td>\n",
       "      <td>Hillary for America</td>\n",
       "      <td>Multiple</td>\n",
       "      <td>PRES</td>\n",
       "      <td>2016.0</td>\n",
       "      <td>Energy, China, Jobs</td>\n",
       "      <td>Hillary Clinton</td>\n",
       "      <td>campaign</td>\n",
       "      <td>pro</td>\n",
       "      <td>2016-09-12 14:49:00</td>\n",
       "      <td>30.0</td>\n",
       "    </tr>\n",
       "    <tr>\n",
       "      <th>2</th>\n",
       "      <td>3</td>\n",
       "      <td>5643</td>\n",
       "      <td>KLAS</td>\n",
       "      <td>Las Vegas, NV</td>\n",
       "      <td>Face the Nation</td>\n",
       "      <td>news</td>\n",
       "      <td>2016-09-04 16:24:25</td>\n",
       "      <td>2016-09-04 16:24:55</td>\n",
       "      <td>PolAd_HillaryClinton_f1h3j</td>\n",
       "      <td>https://archive.org/embed/PolAd_HillaryClinton...</td>\n",
       "      <td>Hillary for America</td>\n",
       "      <td>Multiple</td>\n",
       "      <td>PRES</td>\n",
       "      <td>2016.0</td>\n",
       "      <td>Energy, China, Jobs</td>\n",
       "      <td>Hillary Clinton</td>\n",
       "      <td>campaign</td>\n",
       "      <td>pro</td>\n",
       "      <td>2016-09-12 14:49:00</td>\n",
       "      <td>30.0</td>\n",
       "    </tr>\n",
       "  </tbody>\n",
       "</table>\n",
       "</div>"
      ],
      "text/plain": [
       "   id  wp_identifier network                          location  \\\n",
       "0   1           5643    KLAS                     Las Vegas, NV   \n",
       "1   2           5643    WNCN  Raleigh-Durham-Fayetteville,  NC   \n",
       "2   3           5643    KLAS                     Las Vegas, NV   \n",
       "\n",
       "                        program program_type          start_time  \\\n",
       "0            8 News Now at 5 PM         news 2016-09-09 00:12:59   \n",
       "1  North Carolina News at 500PM         news 2016-09-06 21:58:25   \n",
       "2               Face the Nation         news 2016-09-04 16:24:25   \n",
       "\n",
       "             end_time                  archive_id  \\\n",
       "0 2016-09-09 00:13:29  PolAd_HillaryClinton_f1h3j   \n",
       "1 2016-09-06 21:58:55  PolAd_HillaryClinton_f1h3j   \n",
       "2 2016-09-04 16:24:55  PolAd_HillaryClinton_f1h3j   \n",
       "\n",
       "                                           embed_url             sponsors  \\\n",
       "0  https://archive.org/embed/PolAd_HillaryClinton...  Hillary for America   \n",
       "1  https://archive.org/embed/PolAd_HillaryClinton...  Hillary for America   \n",
       "2  https://archive.org/embed/PolAd_HillaryClinton...  Hillary for America   \n",
       "\n",
       "  sponsor_types  race   cycle             subjects       candidates      type  \\\n",
       "0      Multiple  PRES  2016.0  Energy, China, Jobs  Hillary Clinton  campaign   \n",
       "1      Multiple  PRES  2016.0  Energy, China, Jobs  Hillary Clinton  campaign   \n",
       "2      Multiple  PRES  2016.0  Energy, China, Jobs  Hillary Clinton  campaign   \n",
       "\n",
       "  message        date_created  ad_duration_secs  \n",
       "0     pro 2016-09-12 14:49:00              30.0  \n",
       "1     pro 2016-09-12 14:49:00              30.0  \n",
       "2     pro 2016-09-12 14:49:00              30.0  "
      ]
     },
     "execution_count": 157,
     "metadata": {},
     "output_type": "execute_result"
    }
   ],
   "source": [
    "df_ad_airings_4.head(3)"
   ]
  },
  {
   "cell_type": "code",
   "execution_count": 119,
   "metadata": {
    "collapsed": true
   },
   "outputs": [],
   "source": [
    "#Saving the dataset in a file\n",
    "df_ad_airings_4.to_pickle('./TV_AD_AIRINGS_FILTER_DATASET_3.pkl')"
   ]
  },
  {
   "cell_type": "code",
   "execution_count": 158,
   "metadata": {
    "collapsed": true
   },
   "outputs": [],
   "source": [
    "#Reading from the saved file\n",
    "df_ad_airings_5 = pd.read_pickle('./TV_AD_AIRINGS_FILTER_DATASET_3.pkl')"
   ]
  },
  {
   "cell_type": "code",
   "execution_count": 159,
   "metadata": {
    "collapsed": false
   },
   "outputs": [
    {
     "data": {
      "text/plain": [
       "Tampa-St. Petersburg, FL                        13248\n",
       "Philadelphia, PA                                11949\n",
       "Las Vegas, NV                                   10953\n",
       "Cleveland, Ohio                                 10604\n",
       "San Francisco-Oakland-San Jose, CA               7546\n",
       "Raleigh-Durham-Fayetteville,  NC                 6731\n",
       "Ceder Rapids-Waterloo-Iowa City-Dublin, Iowa     5295\n",
       "Boston, MA/Manchester, NH                        5008\n",
       "Denver, CO                                       4710\n",
       "Milwaukee, WI                                    4097\n",
       "Phoenix-Prescott, AZ                             3244\n",
       "Washington, DC/Hagerstown, MD                    1695\n",
       "New York City, NY                                  47\n",
       "Name: location, dtype: int64"
      ]
     },
     "execution_count": 159,
     "metadata": {},
     "output_type": "execute_result"
    }
   ],
   "source": [
    "df_ad_airings_5['location'].value_counts()"
   ]
  },
  {
   "cell_type": "code",
   "execution_count": 160,
   "metadata": {
    "collapsed": false
   },
   "outputs": [
    {
     "name": "stdout",
     "output_type": "stream",
     "text": [
      "<class 'pandas.core.frame.DataFrame'>\n",
      "Int64Index: 85152 entries, 0 to 364184\n",
      "Data columns (total 20 columns):\n",
      "id                  85152 non-null int64\n",
      "wp_identifier       85152 non-null int64\n",
      "network             85152 non-null object\n",
      "location            85127 non-null object\n",
      "program             85152 non-null object\n",
      "program_type        85152 non-null object\n",
      "start_time          85152 non-null datetime64[ns]\n",
      "end_time            85152 non-null datetime64[ns]\n",
      "archive_id          85152 non-null object\n",
      "embed_url           85152 non-null object\n",
      "sponsors            85152 non-null object\n",
      "sponsor_types       85152 non-null object\n",
      "race                85152 non-null object\n",
      "cycle               85152 non-null float64\n",
      "subjects            84561 non-null object\n",
      "candidates          85152 non-null object\n",
      "type                85152 non-null object\n",
      "message             85152 non-null object\n",
      "date_created        85152 non-null datetime64[ns]\n",
      "ad_duration_secs    85152 non-null float64\n",
      "dtypes: datetime64[ns](3), float64(2), int64(2), object(13)\n",
      "memory usage: 13.6+ MB\n"
     ]
    }
   ],
   "source": [
    "#Doing info to check for NaN values\n",
    "df_ad_airings_5.info()\n",
    "#Info reveals that location and subjects do not have 85152 values."
   ]
  },
  {
   "cell_type": "code",
   "execution_count": 161,
   "metadata": {
    "collapsed": false
   },
   "outputs": [
    {
     "data": {
      "text/plain": [
       "id                  False\n",
       "wp_identifier       False\n",
       "network             False\n",
       "location             True\n",
       "program             False\n",
       "program_type        False\n",
       "start_time          False\n",
       "end_time            False\n",
       "archive_id          False\n",
       "embed_url           False\n",
       "sponsors            False\n",
       "sponsor_types       False\n",
       "race                False\n",
       "cycle               False\n",
       "subjects             True\n",
       "candidates          False\n",
       "type                False\n",
       "message             False\n",
       "date_created        False\n",
       "ad_duration_secs    False\n",
       "dtype: bool"
      ]
     },
     "execution_count": 161,
     "metadata": {},
     "output_type": "execute_result"
    }
   ],
   "source": [
    "#The presence of NaNs in location and subjects columns is confirmed by the below too\n",
    "df_ad_airings_5.isnull().any()"
   ]
  },
  {
   "cell_type": "code",
   "execution_count": 162,
   "metadata": {
    "collapsed": false
   },
   "outputs": [
    {
     "data": {
      "text/plain": [
       "25"
      ]
     },
     "execution_count": 162,
     "metadata": {},
     "output_type": "execute_result"
    }
   ],
   "source": [
    "#Getting the count of NaNs in location column\n",
    "#isnull() gives boollean values and sum() counts the True values\n",
    "df_ad_airings_5['location'].isnull().sum()"
   ]
  },
  {
   "cell_type": "code",
   "execution_count": 163,
   "metadata": {
    "collapsed": false
   },
   "outputs": [
    {
     "data": {
      "text/html": [
       "<div>\n",
       "<table border=\"1\" class=\"dataframe\">\n",
       "  <thead>\n",
       "    <tr style=\"text-align: right;\">\n",
       "      <th></th>\n",
       "      <th>id</th>\n",
       "      <th>wp_identifier</th>\n",
       "      <th>network</th>\n",
       "      <th>location</th>\n",
       "      <th>program</th>\n",
       "      <th>program_type</th>\n",
       "      <th>start_time</th>\n",
       "      <th>end_time</th>\n",
       "      <th>archive_id</th>\n",
       "      <th>embed_url</th>\n",
       "      <th>sponsors</th>\n",
       "      <th>sponsor_types</th>\n",
       "      <th>race</th>\n",
       "      <th>cycle</th>\n",
       "      <th>subjects</th>\n",
       "      <th>candidates</th>\n",
       "      <th>type</th>\n",
       "      <th>message</th>\n",
       "      <th>date_created</th>\n",
       "      <th>ad_duration_secs</th>\n",
       "    </tr>\n",
       "  </thead>\n",
       "  <tbody>\n",
       "    <tr>\n",
       "      <th>202308</th>\n",
       "      <td>254156</td>\n",
       "      <td>5735</td>\n",
       "      <td>WFTS</td>\n",
       "      <td>NaN</td>\n",
       "      <td>Good Morning America</td>\n",
       "      <td>news</td>\n",
       "      <td>2016-09-16 12:40:15</td>\n",
       "      <td>2016-09-16 12:40:45</td>\n",
       "      <td>PolAd_DonaldTrump_nzt7u</td>\n",
       "      <td>https://archive.org/embed/PolAd_DonaldTrump_nzt7u</td>\n",
       "      <td>Priorities USA Action</td>\n",
       "      <td>Super PAC</td>\n",
       "      <td>PRES</td>\n",
       "      <td>2016.0</td>\n",
       "      <td>Civil Rights, Veterans, Candidate Biography</td>\n",
       "      <td>Donald Trump</td>\n",
       "      <td>campaign</td>\n",
       "      <td>con</td>\n",
       "      <td>2016-09-16 22:44:00</td>\n",
       "      <td>30.0</td>\n",
       "    </tr>\n",
       "    <tr>\n",
       "      <th>202309</th>\n",
       "      <td>254157</td>\n",
       "      <td>5735</td>\n",
       "      <td>WTVT</td>\n",
       "      <td>NaN</td>\n",
       "      <td>Good Day Tampa Bay 8AM</td>\n",
       "      <td>news</td>\n",
       "      <td>2016-09-16 12:10:09</td>\n",
       "      <td>2016-09-16 12:10:39</td>\n",
       "      <td>PolAd_DonaldTrump_nzt7u</td>\n",
       "      <td>https://archive.org/embed/PolAd_DonaldTrump_nzt7u</td>\n",
       "      <td>Priorities USA Action</td>\n",
       "      <td>Super PAC</td>\n",
       "      <td>PRES</td>\n",
       "      <td>2016.0</td>\n",
       "      <td>Civil Rights, Veterans, Candidate Biography</td>\n",
       "      <td>Donald Trump</td>\n",
       "      <td>campaign</td>\n",
       "      <td>con</td>\n",
       "      <td>2016-09-16 22:44:00</td>\n",
       "      <td>30.0</td>\n",
       "    </tr>\n",
       "    <tr>\n",
       "      <th>202310</th>\n",
       "      <td>254161</td>\n",
       "      <td>5702</td>\n",
       "      <td>WFLA</td>\n",
       "      <td>NaN</td>\n",
       "      <td>Today</td>\n",
       "      <td>news</td>\n",
       "      <td>2016-09-16 13:54:01</td>\n",
       "      <td>2016-09-16 13:54:31</td>\n",
       "      <td>PolAd_HillaryClinton_DonaldTrump_95xch</td>\n",
       "      <td>https://archive.org/embed/PolAd_HillaryClinton...</td>\n",
       "      <td>Hillary for America</td>\n",
       "      <td>Multiple</td>\n",
       "      <td>PRES</td>\n",
       "      <td>2016.0</td>\n",
       "      <td>Bipartisanship, Health Care, Terrorism, Nuclea...</td>\n",
       "      <td>Donald Trump, Hillary Clinton</td>\n",
       "      <td>campaign</td>\n",
       "      <td>mixed</td>\n",
       "      <td>2016-09-16 22:44:00</td>\n",
       "      <td>30.0</td>\n",
       "    </tr>\n",
       "    <tr>\n",
       "      <th>202311</th>\n",
       "      <td>254162</td>\n",
       "      <td>5702</td>\n",
       "      <td>WFLA</td>\n",
       "      <td>NaN</td>\n",
       "      <td>Today</td>\n",
       "      <td>news</td>\n",
       "      <td>2016-09-16 11:29:35</td>\n",
       "      <td>2016-09-16 11:30:05</td>\n",
       "      <td>PolAd_HillaryClinton_DonaldTrump_95xch</td>\n",
       "      <td>https://archive.org/embed/PolAd_HillaryClinton...</td>\n",
       "      <td>Hillary for America</td>\n",
       "      <td>Multiple</td>\n",
       "      <td>PRES</td>\n",
       "      <td>2016.0</td>\n",
       "      <td>Bipartisanship, Health Care, Terrorism, Nuclea...</td>\n",
       "      <td>Donald Trump, Hillary Clinton</td>\n",
       "      <td>campaign</td>\n",
       "      <td>mixed</td>\n",
       "      <td>2016-09-16 22:44:00</td>\n",
       "      <td>30.0</td>\n",
       "    </tr>\n",
       "    <tr>\n",
       "      <th>202312</th>\n",
       "      <td>254163</td>\n",
       "      <td>5702</td>\n",
       "      <td>WFTS</td>\n",
       "      <td>NaN</td>\n",
       "      <td>Good Morning America</td>\n",
       "      <td>news</td>\n",
       "      <td>2016-09-16 12:39:15</td>\n",
       "      <td>2016-09-16 12:39:45</td>\n",
       "      <td>PolAd_HillaryClinton_DonaldTrump_95xch</td>\n",
       "      <td>https://archive.org/embed/PolAd_HillaryClinton...</td>\n",
       "      <td>Hillary for America</td>\n",
       "      <td>Multiple</td>\n",
       "      <td>PRES</td>\n",
       "      <td>2016.0</td>\n",
       "      <td>Bipartisanship, Health Care, Terrorism, Nuclea...</td>\n",
       "      <td>Donald Trump, Hillary Clinton</td>\n",
       "      <td>campaign</td>\n",
       "      <td>mixed</td>\n",
       "      <td>2016-09-16 22:44:00</td>\n",
       "      <td>30.0</td>\n",
       "    </tr>\n",
       "    <tr>\n",
       "      <th>202313</th>\n",
       "      <td>254164</td>\n",
       "      <td>5702</td>\n",
       "      <td>WFTS</td>\n",
       "      <td>NaN</td>\n",
       "      <td>Good Morning America</td>\n",
       "      <td>news</td>\n",
       "      <td>2016-09-16 11:24:40</td>\n",
       "      <td>2016-09-16 11:25:10</td>\n",
       "      <td>PolAd_HillaryClinton_DonaldTrump_95xch</td>\n",
       "      <td>https://archive.org/embed/PolAd_HillaryClinton...</td>\n",
       "      <td>Hillary for America</td>\n",
       "      <td>Multiple</td>\n",
       "      <td>PRES</td>\n",
       "      <td>2016.0</td>\n",
       "      <td>Bipartisanship, Health Care, Terrorism, Nuclea...</td>\n",
       "      <td>Donald Trump, Hillary Clinton</td>\n",
       "      <td>campaign</td>\n",
       "      <td>mixed</td>\n",
       "      <td>2016-09-16 22:44:00</td>\n",
       "      <td>30.0</td>\n",
       "    </tr>\n",
       "    <tr>\n",
       "      <th>202314</th>\n",
       "      <td>254165</td>\n",
       "      <td>5702</td>\n",
       "      <td>KSNV</td>\n",
       "      <td>NaN</td>\n",
       "      <td>News 3 Live Today</td>\n",
       "      <td>news</td>\n",
       "      <td>2016-09-16 11:44:04</td>\n",
       "      <td>2016-09-16 11:44:34</td>\n",
       "      <td>PolAd_HillaryClinton_DonaldTrump_95xch</td>\n",
       "      <td>https://archive.org/embed/PolAd_HillaryClinton...</td>\n",
       "      <td>Hillary for America</td>\n",
       "      <td>Multiple</td>\n",
       "      <td>PRES</td>\n",
       "      <td>2016.0</td>\n",
       "      <td>Bipartisanship, Health Care, Terrorism, Nuclea...</td>\n",
       "      <td>Donald Trump, Hillary Clinton</td>\n",
       "      <td>campaign</td>\n",
       "      <td>mixed</td>\n",
       "      <td>2016-09-16 22:44:00</td>\n",
       "      <td>30.0</td>\n",
       "    </tr>\n",
       "    <tr>\n",
       "      <th>202315</th>\n",
       "      <td>254166</td>\n",
       "      <td>5702</td>\n",
       "      <td>KFXA</td>\n",
       "      <td>NaN</td>\n",
       "      <td>FOX 28 Morning Live</td>\n",
       "      <td>not news</td>\n",
       "      <td>2016-09-16 12:28:08</td>\n",
       "      <td>2016-09-16 12:28:38</td>\n",
       "      <td>PolAd_HillaryClinton_DonaldTrump_95xch</td>\n",
       "      <td>https://archive.org/embed/PolAd_HillaryClinton...</td>\n",
       "      <td>Hillary for America</td>\n",
       "      <td>Multiple</td>\n",
       "      <td>PRES</td>\n",
       "      <td>2016.0</td>\n",
       "      <td>Bipartisanship, Health Care, Terrorism, Nuclea...</td>\n",
       "      <td>Donald Trump, Hillary Clinton</td>\n",
       "      <td>campaign</td>\n",
       "      <td>mixed</td>\n",
       "      <td>2016-09-16 22:44:00</td>\n",
       "      <td>30.0</td>\n",
       "    </tr>\n",
       "    <tr>\n",
       "      <th>202316</th>\n",
       "      <td>254167</td>\n",
       "      <td>5702</td>\n",
       "      <td>WNCN</td>\n",
       "      <td>NaN</td>\n",
       "      <td>The Price Is Right</td>\n",
       "      <td>not news</td>\n",
       "      <td>2016-09-16 15:59:33</td>\n",
       "      <td>2016-09-16 16:00:03</td>\n",
       "      <td>PolAd_HillaryClinton_DonaldTrump_95xch</td>\n",
       "      <td>https://archive.org/embed/PolAd_HillaryClinton...</td>\n",
       "      <td>Hillary for America</td>\n",
       "      <td>Multiple</td>\n",
       "      <td>PRES</td>\n",
       "      <td>2016.0</td>\n",
       "      <td>Bipartisanship, Health Care, Terrorism, Nuclea...</td>\n",
       "      <td>Donald Trump, Hillary Clinton</td>\n",
       "      <td>campaign</td>\n",
       "      <td>mixed</td>\n",
       "      <td>2016-09-16 22:44:00</td>\n",
       "      <td>30.0</td>\n",
       "    </tr>\n",
       "    <tr>\n",
       "      <th>202317</th>\n",
       "      <td>254170</td>\n",
       "      <td>5421</td>\n",
       "      <td>WFLA</td>\n",
       "      <td>NaN</td>\n",
       "      <td>Today</td>\n",
       "      <td>news</td>\n",
       "      <td>2016-09-16 12:37:06</td>\n",
       "      <td>2016-09-16 12:37:36</td>\n",
       "      <td>PolAd_MarcoRubio_PatrickMurphy_6sw4o</td>\n",
       "      <td>https://archive.org/embed/PolAd_MarcoRubio_Pat...</td>\n",
       "      <td>Friends of Patrick Murphy</td>\n",
       "      <td>Candidate Committee</td>\n",
       "      <td>PRES</td>\n",
       "      <td>2016.0</td>\n",
       "      <td>Candidate Biography, Voting Record, Health Car...</td>\n",
       "      <td>Marco Rubio, Patrick Murphy</td>\n",
       "      <td>campaign</td>\n",
       "      <td>mixed</td>\n",
       "      <td>2016-09-16 22:44:00</td>\n",
       "      <td>30.0</td>\n",
       "    </tr>\n",
       "    <tr>\n",
       "      <th>202318</th>\n",
       "      <td>254171</td>\n",
       "      <td>5421</td>\n",
       "      <td>WFTS</td>\n",
       "      <td>NaN</td>\n",
       "      <td>Good Morning America</td>\n",
       "      <td>news</td>\n",
       "      <td>2016-09-16 12:53:30</td>\n",
       "      <td>2016-09-16 12:54:00</td>\n",
       "      <td>PolAd_MarcoRubio_PatrickMurphy_6sw4o</td>\n",
       "      <td>https://archive.org/embed/PolAd_MarcoRubio_Pat...</td>\n",
       "      <td>Friends of Patrick Murphy</td>\n",
       "      <td>Candidate Committee</td>\n",
       "      <td>PRES</td>\n",
       "      <td>2016.0</td>\n",
       "      <td>Candidate Biography, Voting Record, Health Car...</td>\n",
       "      <td>Marco Rubio, Patrick Murphy</td>\n",
       "      <td>campaign</td>\n",
       "      <td>mixed</td>\n",
       "      <td>2016-09-16 22:44:00</td>\n",
       "      <td>30.0</td>\n",
       "    </tr>\n",
       "    <tr>\n",
       "      <th>202319</th>\n",
       "      <td>254172</td>\n",
       "      <td>5421</td>\n",
       "      <td>WTVT</td>\n",
       "      <td>NaN</td>\n",
       "      <td>Good Day Tampa Bay 8AM</td>\n",
       "      <td>news</td>\n",
       "      <td>2016-09-16 12:59:16</td>\n",
       "      <td>2016-09-16 12:59:46</td>\n",
       "      <td>PolAd_MarcoRubio_PatrickMurphy_6sw4o</td>\n",
       "      <td>https://archive.org/embed/PolAd_MarcoRubio_Pat...</td>\n",
       "      <td>Friends of Patrick Murphy</td>\n",
       "      <td>Candidate Committee</td>\n",
       "      <td>PRES</td>\n",
       "      <td>2016.0</td>\n",
       "      <td>Candidate Biography, Voting Record, Health Car...</td>\n",
       "      <td>Marco Rubio, Patrick Murphy</td>\n",
       "      <td>campaign</td>\n",
       "      <td>mixed</td>\n",
       "      <td>2016-09-16 22:44:00</td>\n",
       "      <td>30.0</td>\n",
       "    </tr>\n",
       "    <tr>\n",
       "      <th>202320</th>\n",
       "      <td>254174</td>\n",
       "      <td>5336</td>\n",
       "      <td>KCRG</td>\n",
       "      <td>NaN</td>\n",
       "      <td>Good Morning America</td>\n",
       "      <td>news</td>\n",
       "      <td>2016-09-16 12:25:03</td>\n",
       "      <td>2016-09-16 12:25:33</td>\n",
       "      <td>PolAd_DonaldTrump_byo3d</td>\n",
       "      <td>https://archive.org/embed/PolAd_DonaldTrump_byo3d</td>\n",
       "      <td>Priorities USA Action</td>\n",
       "      <td>Super PAC</td>\n",
       "      <td>PRES</td>\n",
       "      <td>2016.0</td>\n",
       "      <td>Military, Nuclear, Terrorism</td>\n",
       "      <td>Donald Trump</td>\n",
       "      <td>campaign</td>\n",
       "      <td>con</td>\n",
       "      <td>2016-09-16 22:44:00</td>\n",
       "      <td>30.0</td>\n",
       "    </tr>\n",
       "    <tr>\n",
       "      <th>202321</th>\n",
       "      <td>254175</td>\n",
       "      <td>5336</td>\n",
       "      <td>WFLA</td>\n",
       "      <td>NaN</td>\n",
       "      <td>Today</td>\n",
       "      <td>news</td>\n",
       "      <td>2016-09-16 12:57:00</td>\n",
       "      <td>2016-09-16 12:57:30</td>\n",
       "      <td>PolAd_DonaldTrump_byo3d</td>\n",
       "      <td>https://archive.org/embed/PolAd_DonaldTrump_byo3d</td>\n",
       "      <td>Priorities USA Action</td>\n",
       "      <td>Super PAC</td>\n",
       "      <td>PRES</td>\n",
       "      <td>2016.0</td>\n",
       "      <td>Military, Nuclear, Terrorism</td>\n",
       "      <td>Donald Trump</td>\n",
       "      <td>campaign</td>\n",
       "      <td>con</td>\n",
       "      <td>2016-09-16 22:44:00</td>\n",
       "      <td>30.0</td>\n",
       "    </tr>\n",
       "    <tr>\n",
       "      <th>202322</th>\n",
       "      <td>254176</td>\n",
       "      <td>5336</td>\n",
       "      <td>WTVT</td>\n",
       "      <td>NaN</td>\n",
       "      <td>Good Day Tampa Bay 8AM</td>\n",
       "      <td>news</td>\n",
       "      <td>2016-09-16 12:23:36</td>\n",
       "      <td>2016-09-16 12:24:06</td>\n",
       "      <td>PolAd_DonaldTrump_byo3d</td>\n",
       "      <td>https://archive.org/embed/PolAd_DonaldTrump_byo3d</td>\n",
       "      <td>Priorities USA Action</td>\n",
       "      <td>Super PAC</td>\n",
       "      <td>PRES</td>\n",
       "      <td>2016.0</td>\n",
       "      <td>Military, Nuclear, Terrorism</td>\n",
       "      <td>Donald Trump</td>\n",
       "      <td>campaign</td>\n",
       "      <td>con</td>\n",
       "      <td>2016-09-16 22:44:00</td>\n",
       "      <td>30.0</td>\n",
       "    </tr>\n",
       "    <tr>\n",
       "      <th>202323</th>\n",
       "      <td>254177</td>\n",
       "      <td>5338</td>\n",
       "      <td>WFLA</td>\n",
       "      <td>NaN</td>\n",
       "      <td>Today</td>\n",
       "      <td>news</td>\n",
       "      <td>2016-09-16 12:26:27</td>\n",
       "      <td>2016-09-16 12:26:57</td>\n",
       "      <td>PolAd_DonaldTrump_ft0io</td>\n",
       "      <td>https://archive.org/embed/PolAd_DonaldTrump_ft0io</td>\n",
       "      <td>Hillary for America</td>\n",
       "      <td>Multiple</td>\n",
       "      <td>PRES</td>\n",
       "      <td>2016.0</td>\n",
       "      <td>Terrorism, Veterans, Military</td>\n",
       "      <td>Donald Trump</td>\n",
       "      <td>campaign</td>\n",
       "      <td>con</td>\n",
       "      <td>2016-09-16 22:44:00</td>\n",
       "      <td>30.0</td>\n",
       "    </tr>\n",
       "    <tr>\n",
       "      <th>202324</th>\n",
       "      <td>254178</td>\n",
       "      <td>5338</td>\n",
       "      <td>WFLA</td>\n",
       "      <td>NaN</td>\n",
       "      <td>Today</td>\n",
       "      <td>news</td>\n",
       "      <td>2016-09-16 11:20:34</td>\n",
       "      <td>2016-09-16 11:21:04</td>\n",
       "      <td>PolAd_DonaldTrump_ft0io</td>\n",
       "      <td>https://archive.org/embed/PolAd_DonaldTrump_ft0io</td>\n",
       "      <td>Hillary for America</td>\n",
       "      <td>Multiple</td>\n",
       "      <td>PRES</td>\n",
       "      <td>2016.0</td>\n",
       "      <td>Terrorism, Veterans, Military</td>\n",
       "      <td>Donald Trump</td>\n",
       "      <td>campaign</td>\n",
       "      <td>con</td>\n",
       "      <td>2016-09-16 22:44:00</td>\n",
       "      <td>30.0</td>\n",
       "    </tr>\n",
       "    <tr>\n",
       "      <th>202325</th>\n",
       "      <td>254179</td>\n",
       "      <td>5338</td>\n",
       "      <td>KGAN</td>\n",
       "      <td>NaN</td>\n",
       "      <td>Lets Make a Deal</td>\n",
       "      <td>not news</td>\n",
       "      <td>2016-09-16 14:58:57</td>\n",
       "      <td>2016-09-16 14:59:27</td>\n",
       "      <td>PolAd_DonaldTrump_ft0io</td>\n",
       "      <td>https://archive.org/embed/PolAd_DonaldTrump_ft0io</td>\n",
       "      <td>Hillary for America</td>\n",
       "      <td>Multiple</td>\n",
       "      <td>PRES</td>\n",
       "      <td>2016.0</td>\n",
       "      <td>Terrorism, Veterans, Military</td>\n",
       "      <td>Donald Trump</td>\n",
       "      <td>campaign</td>\n",
       "      <td>con</td>\n",
       "      <td>2016-09-16 22:44:00</td>\n",
       "      <td>30.0</td>\n",
       "    </tr>\n",
       "    <tr>\n",
       "      <th>202326</th>\n",
       "      <td>254180</td>\n",
       "      <td>5338</td>\n",
       "      <td>WFTS</td>\n",
       "      <td>NaN</td>\n",
       "      <td>Good Morning America</td>\n",
       "      <td>news</td>\n",
       "      <td>2016-09-16 12:59:18</td>\n",
       "      <td>2016-09-16 12:59:48</td>\n",
       "      <td>PolAd_DonaldTrump_ft0io</td>\n",
       "      <td>https://archive.org/embed/PolAd_DonaldTrump_ft0io</td>\n",
       "      <td>Hillary for America</td>\n",
       "      <td>Multiple</td>\n",
       "      <td>PRES</td>\n",
       "      <td>2016.0</td>\n",
       "      <td>Terrorism, Veterans, Military</td>\n",
       "      <td>Donald Trump</td>\n",
       "      <td>campaign</td>\n",
       "      <td>con</td>\n",
       "      <td>2016-09-16 22:44:00</td>\n",
       "      <td>30.0</td>\n",
       "    </tr>\n",
       "    <tr>\n",
       "      <th>202327</th>\n",
       "      <td>254181</td>\n",
       "      <td>5338</td>\n",
       "      <td>WFTS</td>\n",
       "      <td>NaN</td>\n",
       "      <td>Good Morning America</td>\n",
       "      <td>news</td>\n",
       "      <td>2016-09-16 11:54:28</td>\n",
       "      <td>2016-09-16 11:54:58</td>\n",
       "      <td>PolAd_DonaldTrump_ft0io</td>\n",
       "      <td>https://archive.org/embed/PolAd_DonaldTrump_ft0io</td>\n",
       "      <td>Hillary for America</td>\n",
       "      <td>Multiple</td>\n",
       "      <td>PRES</td>\n",
       "      <td>2016.0</td>\n",
       "      <td>Terrorism, Veterans, Military</td>\n",
       "      <td>Donald Trump</td>\n",
       "      <td>campaign</td>\n",
       "      <td>con</td>\n",
       "      <td>2016-09-16 22:44:00</td>\n",
       "      <td>30.0</td>\n",
       "    </tr>\n",
       "    <tr>\n",
       "      <th>202328</th>\n",
       "      <td>254182</td>\n",
       "      <td>5338</td>\n",
       "      <td>WHDH</td>\n",
       "      <td>NaN</td>\n",
       "      <td>Today</td>\n",
       "      <td>news</td>\n",
       "      <td>2016-09-16 15:27:41</td>\n",
       "      <td>2016-09-16 15:28:11</td>\n",
       "      <td>PolAd_DonaldTrump_ft0io</td>\n",
       "      <td>https://archive.org/embed/PolAd_DonaldTrump_ft0io</td>\n",
       "      <td>Hillary for America</td>\n",
       "      <td>Multiple</td>\n",
       "      <td>PRES</td>\n",
       "      <td>2016.0</td>\n",
       "      <td>Terrorism, Veterans, Military</td>\n",
       "      <td>Donald Trump</td>\n",
       "      <td>campaign</td>\n",
       "      <td>con</td>\n",
       "      <td>2016-09-16 22:44:00</td>\n",
       "      <td>30.0</td>\n",
       "    </tr>\n",
       "    <tr>\n",
       "      <th>202329</th>\n",
       "      <td>254183</td>\n",
       "      <td>5338</td>\n",
       "      <td>WTVT</td>\n",
       "      <td>NaN</td>\n",
       "      <td>Good Day Tampa Bay 8AM</td>\n",
       "      <td>news</td>\n",
       "      <td>2016-09-16 12:16:53</td>\n",
       "      <td>2016-09-16 12:17:23</td>\n",
       "      <td>PolAd_DonaldTrump_ft0io</td>\n",
       "      <td>https://archive.org/embed/PolAd_DonaldTrump_ft0io</td>\n",
       "      <td>Hillary for America</td>\n",
       "      <td>Multiple</td>\n",
       "      <td>PRES</td>\n",
       "      <td>2016.0</td>\n",
       "      <td>Terrorism, Veterans, Military</td>\n",
       "      <td>Donald Trump</td>\n",
       "      <td>campaign</td>\n",
       "      <td>con</td>\n",
       "      <td>2016-09-16 22:44:00</td>\n",
       "      <td>30.0</td>\n",
       "    </tr>\n",
       "    <tr>\n",
       "      <th>202330</th>\n",
       "      <td>254184</td>\n",
       "      <td>5338</td>\n",
       "      <td>WTOG</td>\n",
       "      <td>NaN</td>\n",
       "      <td>Americas Court With Judge Ross</td>\n",
       "      <td>not news</td>\n",
       "      <td>2016-09-16 12:15:27</td>\n",
       "      <td>2016-09-16 12:15:57</td>\n",
       "      <td>PolAd_DonaldTrump_ft0io</td>\n",
       "      <td>https://archive.org/embed/PolAd_DonaldTrump_ft0io</td>\n",
       "      <td>Hillary for America</td>\n",
       "      <td>Multiple</td>\n",
       "      <td>PRES</td>\n",
       "      <td>2016.0</td>\n",
       "      <td>Terrorism, Veterans, Military</td>\n",
       "      <td>Donald Trump</td>\n",
       "      <td>campaign</td>\n",
       "      <td>con</td>\n",
       "      <td>2016-09-16 22:44:00</td>\n",
       "      <td>30.0</td>\n",
       "    </tr>\n",
       "    <tr>\n",
       "      <th>364183</th>\n",
       "      <td>464204</td>\n",
       "      <td>8187</td>\n",
       "      <td>BBCNEWS</td>\n",
       "      <td>NaN</td>\n",
       "      <td>Newsday</td>\n",
       "      <td>news</td>\n",
       "      <td>2016-11-08 01:04:42</td>\n",
       "      <td>2016-11-08 01:06:42</td>\n",
       "      <td>PolAd_HillaryClinton_3av1e</td>\n",
       "      <td>https://archive.org/embed/PolAd_HillaryClinton...</td>\n",
       "      <td>Hillary for America</td>\n",
       "      <td>Multiple</td>\n",
       "      <td>PRES</td>\n",
       "      <td>2016.0</td>\n",
       "      <td>Candidate Biography, Economy, Election, Childr...</td>\n",
       "      <td>Hillary Clinton</td>\n",
       "      <td>campaign</td>\n",
       "      <td>pro</td>\n",
       "      <td>2016-11-28 19:40:00</td>\n",
       "      <td>120.0</td>\n",
       "    </tr>\n",
       "    <tr>\n",
       "      <th>364184</th>\n",
       "      <td>464206</td>\n",
       "      <td>4852</td>\n",
       "      <td>BBCNEWS</td>\n",
       "      <td>NaN</td>\n",
       "      <td>Victoria Derbyshire</td>\n",
       "      <td>not news</td>\n",
       "      <td>2016-11-08 09:23:06</td>\n",
       "      <td>2016-11-08 09:23:35</td>\n",
       "      <td>PolAd_DonaldTrump_5dwaz</td>\n",
       "      <td>https://archive.org/embed/PolAd_DonaldTrump_5dwaz</td>\n",
       "      <td>MoveOn.org</td>\n",
       "      <td>Hybrid Super PAC</td>\n",
       "      <td>PRES</td>\n",
       "      <td>2016.0</td>\n",
       "      <td>Candidate Biography, Guns, Supreme Court</td>\n",
       "      <td>Donald Trump</td>\n",
       "      <td>campaign</td>\n",
       "      <td>con</td>\n",
       "      <td>2016-11-28 20:42:00</td>\n",
       "      <td>29.0</td>\n",
       "    </tr>\n",
       "  </tbody>\n",
       "</table>\n",
       "</div>"
      ],
      "text/plain": [
       "            id  wp_identifier  network location  \\\n",
       "202308  254156           5735     WFTS      NaN   \n",
       "202309  254157           5735     WTVT      NaN   \n",
       "202310  254161           5702     WFLA      NaN   \n",
       "202311  254162           5702     WFLA      NaN   \n",
       "202312  254163           5702     WFTS      NaN   \n",
       "202313  254164           5702     WFTS      NaN   \n",
       "202314  254165           5702     KSNV      NaN   \n",
       "202315  254166           5702     KFXA      NaN   \n",
       "202316  254167           5702     WNCN      NaN   \n",
       "202317  254170           5421     WFLA      NaN   \n",
       "202318  254171           5421     WFTS      NaN   \n",
       "202319  254172           5421     WTVT      NaN   \n",
       "202320  254174           5336     KCRG      NaN   \n",
       "202321  254175           5336     WFLA      NaN   \n",
       "202322  254176           5336     WTVT      NaN   \n",
       "202323  254177           5338     WFLA      NaN   \n",
       "202324  254178           5338     WFLA      NaN   \n",
       "202325  254179           5338     KGAN      NaN   \n",
       "202326  254180           5338     WFTS      NaN   \n",
       "202327  254181           5338     WFTS      NaN   \n",
       "202328  254182           5338     WHDH      NaN   \n",
       "202329  254183           5338     WTVT      NaN   \n",
       "202330  254184           5338     WTOG      NaN   \n",
       "364183  464204           8187  BBCNEWS      NaN   \n",
       "364184  464206           4852  BBCNEWS      NaN   \n",
       "\n",
       "                               program program_type          start_time  \\\n",
       "202308            Good Morning America         news 2016-09-16 12:40:15   \n",
       "202309          Good Day Tampa Bay 8AM         news 2016-09-16 12:10:09   \n",
       "202310                           Today         news 2016-09-16 13:54:01   \n",
       "202311                           Today         news 2016-09-16 11:29:35   \n",
       "202312            Good Morning America         news 2016-09-16 12:39:15   \n",
       "202313            Good Morning America         news 2016-09-16 11:24:40   \n",
       "202314               News 3 Live Today         news 2016-09-16 11:44:04   \n",
       "202315             FOX 28 Morning Live     not news 2016-09-16 12:28:08   \n",
       "202316              The Price Is Right     not news 2016-09-16 15:59:33   \n",
       "202317                           Today         news 2016-09-16 12:37:06   \n",
       "202318            Good Morning America         news 2016-09-16 12:53:30   \n",
       "202319          Good Day Tampa Bay 8AM         news 2016-09-16 12:59:16   \n",
       "202320            Good Morning America         news 2016-09-16 12:25:03   \n",
       "202321                           Today         news 2016-09-16 12:57:00   \n",
       "202322          Good Day Tampa Bay 8AM         news 2016-09-16 12:23:36   \n",
       "202323                           Today         news 2016-09-16 12:26:27   \n",
       "202324                           Today         news 2016-09-16 11:20:34   \n",
       "202325                Lets Make a Deal     not news 2016-09-16 14:58:57   \n",
       "202326            Good Morning America         news 2016-09-16 12:59:18   \n",
       "202327            Good Morning America         news 2016-09-16 11:54:28   \n",
       "202328                           Today         news 2016-09-16 15:27:41   \n",
       "202329          Good Day Tampa Bay 8AM         news 2016-09-16 12:16:53   \n",
       "202330  Americas Court With Judge Ross     not news 2016-09-16 12:15:27   \n",
       "364183                         Newsday         news 2016-11-08 01:04:42   \n",
       "364184             Victoria Derbyshire     not news 2016-11-08 09:23:06   \n",
       "\n",
       "                  end_time                              archive_id  \\\n",
       "202308 2016-09-16 12:40:45                 PolAd_DonaldTrump_nzt7u   \n",
       "202309 2016-09-16 12:10:39                 PolAd_DonaldTrump_nzt7u   \n",
       "202310 2016-09-16 13:54:31  PolAd_HillaryClinton_DonaldTrump_95xch   \n",
       "202311 2016-09-16 11:30:05  PolAd_HillaryClinton_DonaldTrump_95xch   \n",
       "202312 2016-09-16 12:39:45  PolAd_HillaryClinton_DonaldTrump_95xch   \n",
       "202313 2016-09-16 11:25:10  PolAd_HillaryClinton_DonaldTrump_95xch   \n",
       "202314 2016-09-16 11:44:34  PolAd_HillaryClinton_DonaldTrump_95xch   \n",
       "202315 2016-09-16 12:28:38  PolAd_HillaryClinton_DonaldTrump_95xch   \n",
       "202316 2016-09-16 16:00:03  PolAd_HillaryClinton_DonaldTrump_95xch   \n",
       "202317 2016-09-16 12:37:36    PolAd_MarcoRubio_PatrickMurphy_6sw4o   \n",
       "202318 2016-09-16 12:54:00    PolAd_MarcoRubio_PatrickMurphy_6sw4o   \n",
       "202319 2016-09-16 12:59:46    PolAd_MarcoRubio_PatrickMurphy_6sw4o   \n",
       "202320 2016-09-16 12:25:33                 PolAd_DonaldTrump_byo3d   \n",
       "202321 2016-09-16 12:57:30                 PolAd_DonaldTrump_byo3d   \n",
       "202322 2016-09-16 12:24:06                 PolAd_DonaldTrump_byo3d   \n",
       "202323 2016-09-16 12:26:57                 PolAd_DonaldTrump_ft0io   \n",
       "202324 2016-09-16 11:21:04                 PolAd_DonaldTrump_ft0io   \n",
       "202325 2016-09-16 14:59:27                 PolAd_DonaldTrump_ft0io   \n",
       "202326 2016-09-16 12:59:48                 PolAd_DonaldTrump_ft0io   \n",
       "202327 2016-09-16 11:54:58                 PolAd_DonaldTrump_ft0io   \n",
       "202328 2016-09-16 15:28:11                 PolAd_DonaldTrump_ft0io   \n",
       "202329 2016-09-16 12:17:23                 PolAd_DonaldTrump_ft0io   \n",
       "202330 2016-09-16 12:15:57                 PolAd_DonaldTrump_ft0io   \n",
       "364183 2016-11-08 01:06:42              PolAd_HillaryClinton_3av1e   \n",
       "364184 2016-11-08 09:23:35                 PolAd_DonaldTrump_5dwaz   \n",
       "\n",
       "                                                embed_url  \\\n",
       "202308  https://archive.org/embed/PolAd_DonaldTrump_nzt7u   \n",
       "202309  https://archive.org/embed/PolAd_DonaldTrump_nzt7u   \n",
       "202310  https://archive.org/embed/PolAd_HillaryClinton...   \n",
       "202311  https://archive.org/embed/PolAd_HillaryClinton...   \n",
       "202312  https://archive.org/embed/PolAd_HillaryClinton...   \n",
       "202313  https://archive.org/embed/PolAd_HillaryClinton...   \n",
       "202314  https://archive.org/embed/PolAd_HillaryClinton...   \n",
       "202315  https://archive.org/embed/PolAd_HillaryClinton...   \n",
       "202316  https://archive.org/embed/PolAd_HillaryClinton...   \n",
       "202317  https://archive.org/embed/PolAd_MarcoRubio_Pat...   \n",
       "202318  https://archive.org/embed/PolAd_MarcoRubio_Pat...   \n",
       "202319  https://archive.org/embed/PolAd_MarcoRubio_Pat...   \n",
       "202320  https://archive.org/embed/PolAd_DonaldTrump_byo3d   \n",
       "202321  https://archive.org/embed/PolAd_DonaldTrump_byo3d   \n",
       "202322  https://archive.org/embed/PolAd_DonaldTrump_byo3d   \n",
       "202323  https://archive.org/embed/PolAd_DonaldTrump_ft0io   \n",
       "202324  https://archive.org/embed/PolAd_DonaldTrump_ft0io   \n",
       "202325  https://archive.org/embed/PolAd_DonaldTrump_ft0io   \n",
       "202326  https://archive.org/embed/PolAd_DonaldTrump_ft0io   \n",
       "202327  https://archive.org/embed/PolAd_DonaldTrump_ft0io   \n",
       "202328  https://archive.org/embed/PolAd_DonaldTrump_ft0io   \n",
       "202329  https://archive.org/embed/PolAd_DonaldTrump_ft0io   \n",
       "202330  https://archive.org/embed/PolAd_DonaldTrump_ft0io   \n",
       "364183  https://archive.org/embed/PolAd_HillaryClinton...   \n",
       "364184  https://archive.org/embed/PolAd_DonaldTrump_5dwaz   \n",
       "\n",
       "                         sponsors        sponsor_types  race   cycle  \\\n",
       "202308      Priorities USA Action            Super PAC  PRES  2016.0   \n",
       "202309      Priorities USA Action            Super PAC  PRES  2016.0   \n",
       "202310        Hillary for America             Multiple  PRES  2016.0   \n",
       "202311        Hillary for America             Multiple  PRES  2016.0   \n",
       "202312        Hillary for America             Multiple  PRES  2016.0   \n",
       "202313        Hillary for America             Multiple  PRES  2016.0   \n",
       "202314        Hillary for America             Multiple  PRES  2016.0   \n",
       "202315        Hillary for America             Multiple  PRES  2016.0   \n",
       "202316        Hillary for America             Multiple  PRES  2016.0   \n",
       "202317  Friends of Patrick Murphy  Candidate Committee  PRES  2016.0   \n",
       "202318  Friends of Patrick Murphy  Candidate Committee  PRES  2016.0   \n",
       "202319  Friends of Patrick Murphy  Candidate Committee  PRES  2016.0   \n",
       "202320      Priorities USA Action            Super PAC  PRES  2016.0   \n",
       "202321      Priorities USA Action            Super PAC  PRES  2016.0   \n",
       "202322      Priorities USA Action            Super PAC  PRES  2016.0   \n",
       "202323        Hillary for America             Multiple  PRES  2016.0   \n",
       "202324        Hillary for America             Multiple  PRES  2016.0   \n",
       "202325        Hillary for America             Multiple  PRES  2016.0   \n",
       "202326        Hillary for America             Multiple  PRES  2016.0   \n",
       "202327        Hillary for America             Multiple  PRES  2016.0   \n",
       "202328        Hillary for America             Multiple  PRES  2016.0   \n",
       "202329        Hillary for America             Multiple  PRES  2016.0   \n",
       "202330        Hillary for America             Multiple  PRES  2016.0   \n",
       "364183        Hillary for America             Multiple  PRES  2016.0   \n",
       "364184                 MoveOn.org     Hybrid Super PAC  PRES  2016.0   \n",
       "\n",
       "                                                 subjects  \\\n",
       "202308        Civil Rights, Veterans, Candidate Biography   \n",
       "202309        Civil Rights, Veterans, Candidate Biography   \n",
       "202310  Bipartisanship, Health Care, Terrorism, Nuclea...   \n",
       "202311  Bipartisanship, Health Care, Terrorism, Nuclea...   \n",
       "202312  Bipartisanship, Health Care, Terrorism, Nuclea...   \n",
       "202313  Bipartisanship, Health Care, Terrorism, Nuclea...   \n",
       "202314  Bipartisanship, Health Care, Terrorism, Nuclea...   \n",
       "202315  Bipartisanship, Health Care, Terrorism, Nuclea...   \n",
       "202316  Bipartisanship, Health Care, Terrorism, Nuclea...   \n",
       "202317  Candidate Biography, Voting Record, Health Car...   \n",
       "202318  Candidate Biography, Voting Record, Health Car...   \n",
       "202319  Candidate Biography, Voting Record, Health Car...   \n",
       "202320                       Military, Nuclear, Terrorism   \n",
       "202321                       Military, Nuclear, Terrorism   \n",
       "202322                       Military, Nuclear, Terrorism   \n",
       "202323                      Terrorism, Veterans, Military   \n",
       "202324                      Terrorism, Veterans, Military   \n",
       "202325                      Terrorism, Veterans, Military   \n",
       "202326                      Terrorism, Veterans, Military   \n",
       "202327                      Terrorism, Veterans, Military   \n",
       "202328                      Terrorism, Veterans, Military   \n",
       "202329                      Terrorism, Veterans, Military   \n",
       "202330                      Terrorism, Veterans, Military   \n",
       "364183  Candidate Biography, Economy, Election, Childr...   \n",
       "364184           Candidate Biography, Guns, Supreme Court   \n",
       "\n",
       "                           candidates      type message        date_created  \\\n",
       "202308                   Donald Trump  campaign     con 2016-09-16 22:44:00   \n",
       "202309                   Donald Trump  campaign     con 2016-09-16 22:44:00   \n",
       "202310  Donald Trump, Hillary Clinton  campaign   mixed 2016-09-16 22:44:00   \n",
       "202311  Donald Trump, Hillary Clinton  campaign   mixed 2016-09-16 22:44:00   \n",
       "202312  Donald Trump, Hillary Clinton  campaign   mixed 2016-09-16 22:44:00   \n",
       "202313  Donald Trump, Hillary Clinton  campaign   mixed 2016-09-16 22:44:00   \n",
       "202314  Donald Trump, Hillary Clinton  campaign   mixed 2016-09-16 22:44:00   \n",
       "202315  Donald Trump, Hillary Clinton  campaign   mixed 2016-09-16 22:44:00   \n",
       "202316  Donald Trump, Hillary Clinton  campaign   mixed 2016-09-16 22:44:00   \n",
       "202317    Marco Rubio, Patrick Murphy  campaign   mixed 2016-09-16 22:44:00   \n",
       "202318    Marco Rubio, Patrick Murphy  campaign   mixed 2016-09-16 22:44:00   \n",
       "202319    Marco Rubio, Patrick Murphy  campaign   mixed 2016-09-16 22:44:00   \n",
       "202320                   Donald Trump  campaign     con 2016-09-16 22:44:00   \n",
       "202321                   Donald Trump  campaign     con 2016-09-16 22:44:00   \n",
       "202322                   Donald Trump  campaign     con 2016-09-16 22:44:00   \n",
       "202323                   Donald Trump  campaign     con 2016-09-16 22:44:00   \n",
       "202324                   Donald Trump  campaign     con 2016-09-16 22:44:00   \n",
       "202325                   Donald Trump  campaign     con 2016-09-16 22:44:00   \n",
       "202326                   Donald Trump  campaign     con 2016-09-16 22:44:00   \n",
       "202327                   Donald Trump  campaign     con 2016-09-16 22:44:00   \n",
       "202328                   Donald Trump  campaign     con 2016-09-16 22:44:00   \n",
       "202329                   Donald Trump  campaign     con 2016-09-16 22:44:00   \n",
       "202330                   Donald Trump  campaign     con 2016-09-16 22:44:00   \n",
       "364183                Hillary Clinton  campaign     pro 2016-11-28 19:40:00   \n",
       "364184                   Donald Trump  campaign     con 2016-11-28 20:42:00   \n",
       "\n",
       "        ad_duration_secs  \n",
       "202308              30.0  \n",
       "202309              30.0  \n",
       "202310              30.0  \n",
       "202311              30.0  \n",
       "202312              30.0  \n",
       "202313              30.0  \n",
       "202314              30.0  \n",
       "202315              30.0  \n",
       "202316              30.0  \n",
       "202317              30.0  \n",
       "202318              30.0  \n",
       "202319              30.0  \n",
       "202320              30.0  \n",
       "202321              30.0  \n",
       "202322              30.0  \n",
       "202323              30.0  \n",
       "202324              30.0  \n",
       "202325              30.0  \n",
       "202326              30.0  \n",
       "202327              30.0  \n",
       "202328              30.0  \n",
       "202329              30.0  \n",
       "202330              30.0  \n",
       "364183             120.0  \n",
       "364184              29.0  "
      ]
     },
     "execution_count": 163,
     "metadata": {},
     "output_type": "execute_result"
    }
   ],
   "source": [
    "#Checking the 25 rows with NaNs in location to see if there is anything that catches the eye\n",
    "df_ad_airings_5[df_ad_airings_5['location'].isnull()]"
   ]
  },
  {
   "cell_type": "code",
   "execution_count": 165,
   "metadata": {
    "collapsed": false
   },
   "outputs": [],
   "source": [
    "#Getting rid of rows with nans in location field\n",
    "df_ad_airings_5.dropna(subset= ['location'], inplace=True)"
   ]
  },
  {
   "cell_type": "code",
   "execution_count": 166,
   "metadata": {
    "collapsed": false
   },
   "outputs": [
    {
     "data": {
      "text/plain": [
       "(85127, 20)"
      ]
     },
     "execution_count": 166,
     "metadata": {},
     "output_type": "execute_result"
    }
   ],
   "source": [
    "#checking that number of rows has been redced by 25\n",
    "df_ad_airings_5.shape"
   ]
  },
  {
   "cell_type": "code",
   "execution_count": 167,
   "metadata": {
    "collapsed": false
   },
   "outputs": [
    {
     "data": {
      "text/plain": [
       "array(['Las Vegas, NV', 'Raleigh-Durham-Fayetteville,  NC',\n",
       "       'Tampa-St. Petersburg, FL', 'Cleveland, Ohio',\n",
       "       'Ceder Rapids-Waterloo-Iowa City-Dublin, Iowa', 'Philadelphia, PA',\n",
       "       'Denver, CO', 'Milwaukee, WI', 'San Francisco-Oakland-San Jose, CA',\n",
       "       'Phoenix-Prescott, AZ', 'Boston, MA/Manchester, NH',\n",
       "       'Washington, DC/Hagerstown, MD', 'New York City, NY'], dtype=object)"
      ]
     },
     "execution_count": 167,
     "metadata": {},
     "output_type": "execute_result"
    }
   ],
   "source": [
    "#Also checking that loca\n",
    "df_ad_airings_5['location'].unique()"
   ]
  },
  {
   "cell_type": "code",
   "execution_count": 168,
   "metadata": {
    "collapsed": false
   },
   "outputs": [
    {
     "name": "stdout",
     "output_type": "stream",
     "text": [
      "<class 'pandas.core.frame.DataFrame'>\n",
      "Int64Index: 85127 entries, 0 to 364046\n",
      "Data columns (total 20 columns):\n",
      "id                  85127 non-null int64\n",
      "wp_identifier       85127 non-null int64\n",
      "network             85127 non-null object\n",
      "location            85127 non-null object\n",
      "program             85127 non-null object\n",
      "program_type        85127 non-null object\n",
      "start_time          85127 non-null datetime64[ns]\n",
      "end_time            85127 non-null datetime64[ns]\n",
      "archive_id          85127 non-null object\n",
      "embed_url           85127 non-null object\n",
      "sponsors            85127 non-null object\n",
      "sponsor_types       85127 non-null object\n",
      "race                85127 non-null object\n",
      "cycle               85127 non-null float64\n",
      "subjects            84536 non-null object\n",
      "candidates          85127 non-null object\n",
      "type                85127 non-null object\n",
      "message             85127 non-null object\n",
      "date_created        85127 non-null datetime64[ns]\n",
      "ad_duration_secs    85127 non-null float64\n",
      "dtypes: datetime64[ns](3), float64(2), int64(2), object(13)\n",
      "memory usage: 13.6+ MB\n"
     ]
    }
   ],
   "source": [
    "df_ad_airings_5.info()"
   ]
  },
  {
   "cell_type": "code",
   "execution_count": 145,
   "metadata": {
    "collapsed": false
   },
   "outputs": [
    {
     "data": {
      "text/plain": [
       "0"
      ]
     },
     "execution_count": 145,
     "metadata": {},
     "output_type": "execute_result"
    }
   ],
   "source": [
    "#Also checking another way that no NaNs remain in location\n",
    "df_ad_airings_5['location'].isnull().sum()"
   ]
  },
  {
   "cell_type": "code",
   "execution_count": 169,
   "metadata": {
    "collapsed": true
   },
   "outputs": [],
   "source": [
    "#Saving the dataset in a file\n",
    "df_ad_airings_5.to_pickle('./TV_AD_AIRINGS_NO_NAN_LOC_DATASET_4.pkl')"
   ]
  },
  {
   "cell_type": "markdown",
   "metadata": {},
   "source": [
    "## in order to get the state for each location to do the analysis by state\n",
    "   1. get the state and metropolitan area"
   ]
  },
  {
   "cell_type": "code",
   "execution_count": 172,
   "metadata": {
    "collapsed": false
   },
   "outputs": [
    {
     "data": {
      "text/plain": [
       "['Las Vegas', ' NV']"
      ]
     },
     "execution_count": 172,
     "metadata": {},
     "output_type": "execute_result"
    }
   ],
   "source": [
    "#Trying split on first row\n",
    "df_ad_airings_5['location'][0].split(\",\")"
   ]
  },
  {
   "cell_type": "code",
   "execution_count": 173,
   "metadata": {
    "collapsed": false
   },
   "outputs": [
    {
     "data": {
      "text/plain": [
       "'Las Vegas'"
      ]
     },
     "execution_count": 173,
     "metadata": {},
     "output_type": "execute_result"
    }
   ],
   "source": [
    "#0th element in the list is metropolitan area\n",
    "df_ad_airings_5['location'][0].split(\",\")[0]"
   ]
  },
  {
   "cell_type": "code",
   "execution_count": null,
   "metadata": {
    "collapsed": true
   },
   "outputs": [],
   "source": [
    "#next element is state\n",
    "df_ad_airings_5['location'][0].split(\",\")[1]"
   ]
  },
  {
   "cell_type": "code",
   "execution_count": 183,
   "metadata": {
    "collapsed": false
   },
   "outputs": [],
   "source": [
    "['state'] = df_ad_airings_5['location'].map(lambda x: x.split(\",\"))"
   ]
  },
  {
   "cell_type": "code",
   "execution_count": 184,
   "metadata": {
    "collapsed": false
   },
   "outputs": [
    {
     "data": {
      "text/html": [
       "<div>\n",
       "<table border=\"1\" class=\"dataframe\">\n",
       "  <thead>\n",
       "    <tr style=\"text-align: right;\">\n",
       "      <th></th>\n",
       "      <th>id</th>\n",
       "      <th>wp_identifier</th>\n",
       "      <th>network</th>\n",
       "      <th>location</th>\n",
       "      <th>program</th>\n",
       "      <th>program_type</th>\n",
       "      <th>start_time</th>\n",
       "      <th>end_time</th>\n",
       "      <th>archive_id</th>\n",
       "      <th>embed_url</th>\n",
       "      <th>...</th>\n",
       "      <th>sponsor_types</th>\n",
       "      <th>race</th>\n",
       "      <th>cycle</th>\n",
       "      <th>subjects</th>\n",
       "      <th>candidates</th>\n",
       "      <th>type</th>\n",
       "      <th>message</th>\n",
       "      <th>date_created</th>\n",
       "      <th>ad_duration_secs</th>\n",
       "      <th>state</th>\n",
       "    </tr>\n",
       "  </thead>\n",
       "  <tbody>\n",
       "    <tr>\n",
       "      <th>0</th>\n",
       "      <td>1</td>\n",
       "      <td>5643</td>\n",
       "      <td>KLAS</td>\n",
       "      <td>Las Vegas, NV</td>\n",
       "      <td>8 News Now at 5 PM</td>\n",
       "      <td>news</td>\n",
       "      <td>2016-09-09 00:12:59</td>\n",
       "      <td>2016-09-09 00:13:29</td>\n",
       "      <td>PolAd_HillaryClinton_f1h3j</td>\n",
       "      <td>https://archive.org/embed/PolAd_HillaryClinton...</td>\n",
       "      <td>...</td>\n",
       "      <td>Multiple</td>\n",
       "      <td>PRES</td>\n",
       "      <td>2016.0</td>\n",
       "      <td>Energy, China, Jobs</td>\n",
       "      <td>Hillary Clinton</td>\n",
       "      <td>campaign</td>\n",
       "      <td>pro</td>\n",
       "      <td>2016-09-12 14:49:00</td>\n",
       "      <td>30.0</td>\n",
       "      <td>[Las Vegas,  NV]</td>\n",
       "    </tr>\n",
       "    <tr>\n",
       "      <th>1</th>\n",
       "      <td>2</td>\n",
       "      <td>5643</td>\n",
       "      <td>WNCN</td>\n",
       "      <td>Raleigh-Durham-Fayetteville,  NC</td>\n",
       "      <td>North Carolina News at 500PM</td>\n",
       "      <td>news</td>\n",
       "      <td>2016-09-06 21:58:25</td>\n",
       "      <td>2016-09-06 21:58:55</td>\n",
       "      <td>PolAd_HillaryClinton_f1h3j</td>\n",
       "      <td>https://archive.org/embed/PolAd_HillaryClinton...</td>\n",
       "      <td>...</td>\n",
       "      <td>Multiple</td>\n",
       "      <td>PRES</td>\n",
       "      <td>2016.0</td>\n",
       "      <td>Energy, China, Jobs</td>\n",
       "      <td>Hillary Clinton</td>\n",
       "      <td>campaign</td>\n",
       "      <td>pro</td>\n",
       "      <td>2016-09-12 14:49:00</td>\n",
       "      <td>30.0</td>\n",
       "      <td>[Raleigh-Durham-Fayetteville,   NC]</td>\n",
       "    </tr>\n",
       "  </tbody>\n",
       "</table>\n",
       "<p>2 rows × 21 columns</p>\n",
       "</div>"
      ],
      "text/plain": [
       "   id  wp_identifier network                          location  \\\n",
       "0   1           5643    KLAS                     Las Vegas, NV   \n",
       "1   2           5643    WNCN  Raleigh-Durham-Fayetteville,  NC   \n",
       "\n",
       "                        program program_type          start_time  \\\n",
       "0            8 News Now at 5 PM         news 2016-09-09 00:12:59   \n",
       "1  North Carolina News at 500PM         news 2016-09-06 21:58:25   \n",
       "\n",
       "             end_time                  archive_id  \\\n",
       "0 2016-09-09 00:13:29  PolAd_HillaryClinton_f1h3j   \n",
       "1 2016-09-06 21:58:55  PolAd_HillaryClinton_f1h3j   \n",
       "\n",
       "                                           embed_url  \\\n",
       "0  https://archive.org/embed/PolAd_HillaryClinton...   \n",
       "1  https://archive.org/embed/PolAd_HillaryClinton...   \n",
       "\n",
       "                  ...                  sponsor_types  race   cycle  \\\n",
       "0                 ...                       Multiple  PRES  2016.0   \n",
       "1                 ...                       Multiple  PRES  2016.0   \n",
       "\n",
       "              subjects       candidates      type message        date_created  \\\n",
       "0  Energy, China, Jobs  Hillary Clinton  campaign     pro 2016-09-12 14:49:00   \n",
       "1  Energy, China, Jobs  Hillary Clinton  campaign     pro 2016-09-12 14:49:00   \n",
       "\n",
       "  ad_duration_secs                                state  \n",
       "0             30.0                     [Las Vegas,  NV]  \n",
       "1             30.0  [Raleigh-Durham-Fayetteville,   NC]  \n",
       "\n",
       "[2 rows x 21 columns]"
      ]
     },
     "execution_count": 184,
     "metadata": {},
     "output_type": "execute_result"
    }
   ],
   "source": [
    "df_ad_airings_5.head(2)"
   ]
  },
  {
   "cell_type": "code",
   "execution_count": 193,
   "metadata": {
    "collapsed": true
   },
   "outputs": [],
   "source": [
    "df_ad_airings_5.drop('state',inplace=True, axis=1)"
   ]
  },
  {
   "cell_type": "code",
   "execution_count": 188,
   "metadata": {
    "collapsed": false
   },
   "outputs": [],
   "source": [
    "df_ad_airings_5['metro_area_state'] = df_ad_airings_5['location'].map(lambda x: x.split(\",\"))"
   ]
  },
  {
   "cell_type": "code",
   "execution_count": 194,
   "metadata": {
    "collapsed": false
   },
   "outputs": [
    {
     "data": {
      "text/html": [
       "<div>\n",
       "<table border=\"1\" class=\"dataframe\">\n",
       "  <thead>\n",
       "    <tr style=\"text-align: right;\">\n",
       "      <th></th>\n",
       "      <th>id</th>\n",
       "      <th>wp_identifier</th>\n",
       "      <th>network</th>\n",
       "      <th>location</th>\n",
       "      <th>program</th>\n",
       "      <th>program_type</th>\n",
       "      <th>start_time</th>\n",
       "      <th>end_time</th>\n",
       "      <th>archive_id</th>\n",
       "      <th>embed_url</th>\n",
       "      <th>...</th>\n",
       "      <th>sponsor_types</th>\n",
       "      <th>race</th>\n",
       "      <th>cycle</th>\n",
       "      <th>subjects</th>\n",
       "      <th>candidates</th>\n",
       "      <th>type</th>\n",
       "      <th>message</th>\n",
       "      <th>date_created</th>\n",
       "      <th>ad_duration_secs</th>\n",
       "      <th>metro_area_state</th>\n",
       "    </tr>\n",
       "  </thead>\n",
       "  <tbody>\n",
       "    <tr>\n",
       "      <th>0</th>\n",
       "      <td>1</td>\n",
       "      <td>5643</td>\n",
       "      <td>KLAS</td>\n",
       "      <td>Las Vegas, NV</td>\n",
       "      <td>8 News Now at 5 PM</td>\n",
       "      <td>news</td>\n",
       "      <td>2016-09-09 00:12:59</td>\n",
       "      <td>2016-09-09 00:13:29</td>\n",
       "      <td>PolAd_HillaryClinton_f1h3j</td>\n",
       "      <td>https://archive.org/embed/PolAd_HillaryClinton...</td>\n",
       "      <td>...</td>\n",
       "      <td>Multiple</td>\n",
       "      <td>PRES</td>\n",
       "      <td>2016.0</td>\n",
       "      <td>Energy, China, Jobs</td>\n",
       "      <td>Hillary Clinton</td>\n",
       "      <td>campaign</td>\n",
       "      <td>pro</td>\n",
       "      <td>2016-09-12 14:49:00</td>\n",
       "      <td>30.0</td>\n",
       "      <td>[Las Vegas,  NV]</td>\n",
       "    </tr>\n",
       "    <tr>\n",
       "      <th>1</th>\n",
       "      <td>2</td>\n",
       "      <td>5643</td>\n",
       "      <td>WNCN</td>\n",
       "      <td>Raleigh-Durham-Fayetteville,  NC</td>\n",
       "      <td>North Carolina News at 500PM</td>\n",
       "      <td>news</td>\n",
       "      <td>2016-09-06 21:58:25</td>\n",
       "      <td>2016-09-06 21:58:55</td>\n",
       "      <td>PolAd_HillaryClinton_f1h3j</td>\n",
       "      <td>https://archive.org/embed/PolAd_HillaryClinton...</td>\n",
       "      <td>...</td>\n",
       "      <td>Multiple</td>\n",
       "      <td>PRES</td>\n",
       "      <td>2016.0</td>\n",
       "      <td>Energy, China, Jobs</td>\n",
       "      <td>Hillary Clinton</td>\n",
       "      <td>campaign</td>\n",
       "      <td>pro</td>\n",
       "      <td>2016-09-12 14:49:00</td>\n",
       "      <td>30.0</td>\n",
       "      <td>[Raleigh-Durham-Fayetteville,   NC]</td>\n",
       "    </tr>\n",
       "  </tbody>\n",
       "</table>\n",
       "<p>2 rows × 21 columns</p>\n",
       "</div>"
      ],
      "text/plain": [
       "   id  wp_identifier network                          location  \\\n",
       "0   1           5643    KLAS                     Las Vegas, NV   \n",
       "1   2           5643    WNCN  Raleigh-Durham-Fayetteville,  NC   \n",
       "\n",
       "                        program program_type          start_time  \\\n",
       "0            8 News Now at 5 PM         news 2016-09-09 00:12:59   \n",
       "1  North Carolina News at 500PM         news 2016-09-06 21:58:25   \n",
       "\n",
       "             end_time                  archive_id  \\\n",
       "0 2016-09-09 00:13:29  PolAd_HillaryClinton_f1h3j   \n",
       "1 2016-09-06 21:58:55  PolAd_HillaryClinton_f1h3j   \n",
       "\n",
       "                                           embed_url  \\\n",
       "0  https://archive.org/embed/PolAd_HillaryClinton...   \n",
       "1  https://archive.org/embed/PolAd_HillaryClinton...   \n",
       "\n",
       "                  ...                  sponsor_types  race   cycle  \\\n",
       "0                 ...                       Multiple  PRES  2016.0   \n",
       "1                 ...                       Multiple  PRES  2016.0   \n",
       "\n",
       "              subjects       candidates      type message        date_created  \\\n",
       "0  Energy, China, Jobs  Hillary Clinton  campaign     pro 2016-09-12 14:49:00   \n",
       "1  Energy, China, Jobs  Hillary Clinton  campaign     pro 2016-09-12 14:49:00   \n",
       "\n",
       "  ad_duration_secs                     metro_area_state  \n",
       "0             30.0                     [Las Vegas,  NV]  \n",
       "1             30.0  [Raleigh-Durham-Fayetteville,   NC]  \n",
       "\n",
       "[2 rows x 21 columns]"
      ]
     },
     "execution_count": 194,
     "metadata": {},
     "output_type": "execute_result"
    }
   ],
   "source": [
    "df_ad_airings_5.head(2)"
   ]
  },
  {
   "cell_type": "code",
   "execution_count": 199,
   "metadata": {
    "collapsed": false
   },
   "outputs": [],
   "source": [
    "#get the second element of the list in metro_area_state to be state\n",
    "df_ad_airings_5['state'] = df_ad_airings_5['metro_area_state'].map(lambda x: x[1])"
   ]
  },
  {
   "cell_type": "code",
   "execution_count": 196,
   "metadata": {
    "collapsed": false
   },
   "outputs": [
    {
     "data": {
      "text/html": [
       "<div>\n",
       "<table border=\"1\" class=\"dataframe\">\n",
       "  <thead>\n",
       "    <tr style=\"text-align: right;\">\n",
       "      <th></th>\n",
       "      <th>id</th>\n",
       "      <th>wp_identifier</th>\n",
       "      <th>network</th>\n",
       "      <th>location</th>\n",
       "      <th>program</th>\n",
       "      <th>program_type</th>\n",
       "      <th>start_time</th>\n",
       "      <th>end_time</th>\n",
       "      <th>archive_id</th>\n",
       "      <th>embed_url</th>\n",
       "      <th>...</th>\n",
       "      <th>race</th>\n",
       "      <th>cycle</th>\n",
       "      <th>subjects</th>\n",
       "      <th>candidates</th>\n",
       "      <th>type</th>\n",
       "      <th>message</th>\n",
       "      <th>date_created</th>\n",
       "      <th>ad_duration_secs</th>\n",
       "      <th>metro_area_state</th>\n",
       "      <th>state</th>\n",
       "    </tr>\n",
       "  </thead>\n",
       "  <tbody>\n",
       "    <tr>\n",
       "      <th>0</th>\n",
       "      <td>1</td>\n",
       "      <td>5643</td>\n",
       "      <td>KLAS</td>\n",
       "      <td>Las Vegas, NV</td>\n",
       "      <td>8 News Now at 5 PM</td>\n",
       "      <td>news</td>\n",
       "      <td>2016-09-09 00:12:59</td>\n",
       "      <td>2016-09-09 00:13:29</td>\n",
       "      <td>PolAd_HillaryClinton_f1h3j</td>\n",
       "      <td>https://archive.org/embed/PolAd_HillaryClinton...</td>\n",
       "      <td>...</td>\n",
       "      <td>PRES</td>\n",
       "      <td>2016.0</td>\n",
       "      <td>Energy, China, Jobs</td>\n",
       "      <td>Hillary Clinton</td>\n",
       "      <td>campaign</td>\n",
       "      <td>pro</td>\n",
       "      <td>2016-09-12 14:49:00</td>\n",
       "      <td>30.0</td>\n",
       "      <td>[Las Vegas,  NV]</td>\n",
       "      <td>NV</td>\n",
       "    </tr>\n",
       "    <tr>\n",
       "      <th>1</th>\n",
       "      <td>2</td>\n",
       "      <td>5643</td>\n",
       "      <td>WNCN</td>\n",
       "      <td>Raleigh-Durham-Fayetteville,  NC</td>\n",
       "      <td>North Carolina News at 500PM</td>\n",
       "      <td>news</td>\n",
       "      <td>2016-09-06 21:58:25</td>\n",
       "      <td>2016-09-06 21:58:55</td>\n",
       "      <td>PolAd_HillaryClinton_f1h3j</td>\n",
       "      <td>https://archive.org/embed/PolAd_HillaryClinton...</td>\n",
       "      <td>...</td>\n",
       "      <td>PRES</td>\n",
       "      <td>2016.0</td>\n",
       "      <td>Energy, China, Jobs</td>\n",
       "      <td>Hillary Clinton</td>\n",
       "      <td>campaign</td>\n",
       "      <td>pro</td>\n",
       "      <td>2016-09-12 14:49:00</td>\n",
       "      <td>30.0</td>\n",
       "      <td>[Raleigh-Durham-Fayetteville,   NC]</td>\n",
       "      <td>NC</td>\n",
       "    </tr>\n",
       "  </tbody>\n",
       "</table>\n",
       "<p>2 rows × 22 columns</p>\n",
       "</div>"
      ],
      "text/plain": [
       "   id  wp_identifier network                          location  \\\n",
       "0   1           5643    KLAS                     Las Vegas, NV   \n",
       "1   2           5643    WNCN  Raleigh-Durham-Fayetteville,  NC   \n",
       "\n",
       "                        program program_type          start_time  \\\n",
       "0            8 News Now at 5 PM         news 2016-09-09 00:12:59   \n",
       "1  North Carolina News at 500PM         news 2016-09-06 21:58:25   \n",
       "\n",
       "             end_time                  archive_id  \\\n",
       "0 2016-09-09 00:13:29  PolAd_HillaryClinton_f1h3j   \n",
       "1 2016-09-06 21:58:55  PolAd_HillaryClinton_f1h3j   \n",
       "\n",
       "                                           embed_url  ...    race   cycle  \\\n",
       "0  https://archive.org/embed/PolAd_HillaryClinton...  ...    PRES  2016.0   \n",
       "1  https://archive.org/embed/PolAd_HillaryClinton...  ...    PRES  2016.0   \n",
       "\n",
       "              subjects       candidates      type message        date_created  \\\n",
       "0  Energy, China, Jobs  Hillary Clinton  campaign     pro 2016-09-12 14:49:00   \n",
       "1  Energy, China, Jobs  Hillary Clinton  campaign     pro 2016-09-12 14:49:00   \n",
       "\n",
       "  ad_duration_secs                     metro_area_state  state  \n",
       "0             30.0                     [Las Vegas,  NV]     NV  \n",
       "1             30.0  [Raleigh-Durham-Fayetteville,   NC]     NC  \n",
       "\n",
       "[2 rows x 22 columns]"
      ]
     },
     "execution_count": 196,
     "metadata": {},
     "output_type": "execute_result"
    }
   ],
   "source": [
    "df_ad_airings_5.head(2)"
   ]
  },
  {
   "cell_type": "code",
   "execution_count": 200,
   "metadata": {
    "collapsed": true
   },
   "outputs": [],
   "source": [
    "df_ad_airings_5['metro_area'] = df_ad_airings_5['metro_area_state'].map(lambda x: x[0])"
   ]
  },
  {
   "cell_type": "code",
   "execution_count": 201,
   "metadata": {
    "collapsed": false
   },
   "outputs": [
    {
     "data": {
      "text/html": [
       "<div>\n",
       "<table border=\"1\" class=\"dataframe\">\n",
       "  <thead>\n",
       "    <tr style=\"text-align: right;\">\n",
       "      <th></th>\n",
       "      <th>id</th>\n",
       "      <th>wp_identifier</th>\n",
       "      <th>network</th>\n",
       "      <th>location</th>\n",
       "      <th>program</th>\n",
       "      <th>program_type</th>\n",
       "      <th>start_time</th>\n",
       "      <th>end_time</th>\n",
       "      <th>archive_id</th>\n",
       "      <th>embed_url</th>\n",
       "      <th>...</th>\n",
       "      <th>cycle</th>\n",
       "      <th>subjects</th>\n",
       "      <th>candidates</th>\n",
       "      <th>type</th>\n",
       "      <th>message</th>\n",
       "      <th>date_created</th>\n",
       "      <th>ad_duration_secs</th>\n",
       "      <th>metro_area_state</th>\n",
       "      <th>state</th>\n",
       "      <th>metro_area</th>\n",
       "    </tr>\n",
       "  </thead>\n",
       "  <tbody>\n",
       "    <tr>\n",
       "      <th>0</th>\n",
       "      <td>1</td>\n",
       "      <td>5643</td>\n",
       "      <td>KLAS</td>\n",
       "      <td>Las Vegas, NV</td>\n",
       "      <td>8 News Now at 5 PM</td>\n",
       "      <td>news</td>\n",
       "      <td>2016-09-09 00:12:59</td>\n",
       "      <td>2016-09-09 00:13:29</td>\n",
       "      <td>PolAd_HillaryClinton_f1h3j</td>\n",
       "      <td>https://archive.org/embed/PolAd_HillaryClinton...</td>\n",
       "      <td>...</td>\n",
       "      <td>2016.0</td>\n",
       "      <td>Energy, China, Jobs</td>\n",
       "      <td>Hillary Clinton</td>\n",
       "      <td>campaign</td>\n",
       "      <td>pro</td>\n",
       "      <td>2016-09-12 14:49:00</td>\n",
       "      <td>30.0</td>\n",
       "      <td>[Las Vegas,  NV]</td>\n",
       "      <td>NV</td>\n",
       "      <td>Las Vegas</td>\n",
       "    </tr>\n",
       "    <tr>\n",
       "      <th>1</th>\n",
       "      <td>2</td>\n",
       "      <td>5643</td>\n",
       "      <td>WNCN</td>\n",
       "      <td>Raleigh-Durham-Fayetteville,  NC</td>\n",
       "      <td>North Carolina News at 500PM</td>\n",
       "      <td>news</td>\n",
       "      <td>2016-09-06 21:58:25</td>\n",
       "      <td>2016-09-06 21:58:55</td>\n",
       "      <td>PolAd_HillaryClinton_f1h3j</td>\n",
       "      <td>https://archive.org/embed/PolAd_HillaryClinton...</td>\n",
       "      <td>...</td>\n",
       "      <td>2016.0</td>\n",
       "      <td>Energy, China, Jobs</td>\n",
       "      <td>Hillary Clinton</td>\n",
       "      <td>campaign</td>\n",
       "      <td>pro</td>\n",
       "      <td>2016-09-12 14:49:00</td>\n",
       "      <td>30.0</td>\n",
       "      <td>[Raleigh-Durham-Fayetteville,   NC]</td>\n",
       "      <td>NC</td>\n",
       "      <td>Raleigh-Durham-Fayetteville</td>\n",
       "    </tr>\n",
       "  </tbody>\n",
       "</table>\n",
       "<p>2 rows × 23 columns</p>\n",
       "</div>"
      ],
      "text/plain": [
       "   id  wp_identifier network                          location  \\\n",
       "0   1           5643    KLAS                     Las Vegas, NV   \n",
       "1   2           5643    WNCN  Raleigh-Durham-Fayetteville,  NC   \n",
       "\n",
       "                        program program_type          start_time  \\\n",
       "0            8 News Now at 5 PM         news 2016-09-09 00:12:59   \n",
       "1  North Carolina News at 500PM         news 2016-09-06 21:58:25   \n",
       "\n",
       "             end_time                  archive_id  \\\n",
       "0 2016-09-09 00:13:29  PolAd_HillaryClinton_f1h3j   \n",
       "1 2016-09-06 21:58:55  PolAd_HillaryClinton_f1h3j   \n",
       "\n",
       "                                           embed_url  \\\n",
       "0  https://archive.org/embed/PolAd_HillaryClinton...   \n",
       "1  https://archive.org/embed/PolAd_HillaryClinton...   \n",
       "\n",
       "              ...                cycle             subjects       candidates  \\\n",
       "0             ...               2016.0  Energy, China, Jobs  Hillary Clinton   \n",
       "1             ...               2016.0  Energy, China, Jobs  Hillary Clinton   \n",
       "\n",
       "       type message        date_created ad_duration_secs  \\\n",
       "0  campaign     pro 2016-09-12 14:49:00             30.0   \n",
       "1  campaign     pro 2016-09-12 14:49:00             30.0   \n",
       "\n",
       "                      metro_area_state state                   metro_area  \n",
       "0                     [Las Vegas,  NV]    NV                    Las Vegas  \n",
       "1  [Raleigh-Durham-Fayetteville,   NC]    NC  Raleigh-Durham-Fayetteville  \n",
       "\n",
       "[2 rows x 23 columns]"
      ]
     },
     "execution_count": 201,
     "metadata": {},
     "output_type": "execute_result"
    }
   ],
   "source": [
    "df_ad_airings_5.head(2)"
   ]
  },
  {
   "cell_type": "code",
   "execution_count": 202,
   "metadata": {
    "collapsed": false
   },
   "outputs": [
    {
     "data": {
      "text/plain": [
       "array(['Las Vegas', 'Raleigh-Durham-Fayetteville', 'Tampa-St. Petersburg',\n",
       "       'Cleveland', 'Ceder Rapids-Waterloo-Iowa City-Dublin',\n",
       "       'Philadelphia', 'Denver', 'Milwaukee',\n",
       "       'San Francisco-Oakland-San Jose', 'Phoenix-Prescott', 'Boston',\n",
       "       'Washington', 'New York City'], dtype=object)"
      ]
     },
     "execution_count": 202,
     "metadata": {},
     "output_type": "execute_result"
    }
   ],
   "source": [
    "df_ad_airings_5['metro_area'].unique()"
   ]
  },
  {
   "cell_type": "code",
   "execution_count": 203,
   "metadata": {
    "collapsed": false
   },
   "outputs": [
    {
     "data": {
      "text/plain": [
       "array([' NV', '  NC', ' FL', ' Ohio', ' Iowa', ' PA', ' CO', ' WI', ' CA',\n",
       "       ' AZ', ' MA/Manchester', ' DC/Hagerstown', ' NY'], dtype=object)"
      ]
     },
     "execution_count": 203,
     "metadata": {},
     "output_type": "execute_result"
    }
   ],
   "source": [
    "df_ad_airings_5['state'].unique()"
   ]
  },
  {
   "cell_type": "code",
   "execution_count": 204,
   "metadata": {
    "collapsed": true
   },
   "outputs": [],
   "source": [
    "#Getting rid of spaces before the state name\n",
    "df_ad_airings_5['state'] = df_ad_airings_5['state'].map(lambda x: x.strip()) "
   ]
  },
  {
   "cell_type": "code",
   "execution_count": 205,
   "metadata": {
    "collapsed": false
   },
   "outputs": [
    {
     "data": {
      "text/plain": [
       "array(['NV', 'NC', 'FL', 'Ohio', 'Iowa', 'PA', 'CO', 'WI', 'CA', 'AZ',\n",
       "       'MA/Manchester', 'DC/Hagerstown', 'NY'], dtype=object)"
      ]
     },
     "execution_count": 205,
     "metadata": {},
     "output_type": "execute_result"
    }
   ],
   "source": [
    "#checking that spaces are gone\n",
    "df_ad_airings_5['state'].unique()"
   ]
  },
  {
   "cell_type": "code",
   "execution_count": 206,
   "metadata": {
    "collapsed": false
   },
   "outputs": [
    {
     "data": {
      "text/plain": [
       "FL               13248\n",
       "PA               11949\n",
       "NV               10953\n",
       "Ohio             10604\n",
       "CA                7546\n",
       "NC                6731\n",
       "Iowa              5295\n",
       "MA/Manchester     5008\n",
       "CO                4710\n",
       "WI                4097\n",
       "AZ                3244\n",
       "DC/Hagerstown     1695\n",
       "NY                  47\n",
       "Name: state, dtype: int64"
      ]
     },
     "execution_count": 206,
     "metadata": {},
     "output_type": "execute_result"
    }
   ],
   "source": [
    "df_ad_airings_5['state'].value_counts()"
   ]
  },
  {
   "cell_type": "markdown",
   "metadata": {},
   "source": [
    "Notice that there are states like ' MA/Manchester', ' DC/Hagerstown', ' NY' which are not in the 10 battleground  states of(Arizona, Colorado, Iowa, Nevada, New Hampshire, North Carolina, Florida, Ohio, Pennsylvania and Wisconsin) in addition to Philadelphia; San Francisco; and the Washington, DC.\n",
    "After a little digging"
   ]
  },
  {
   "cell_type": "code",
   "execution_count": 207,
   "metadata": {
    "collapsed": true
   },
   "outputs": [],
   "source": [
    "df_ad_airings_5['state'] = df_ad_airings_5['state'].str.replace('MA/Manchester', 'NH')\n",
    "df_ad_airings_5['state'] = df_ad_airings_5['state'].str.replace('DC/Hagerstown', 'VA')\n",
    "df_ad_airings_5['state'] = df_ad_airings_5['state'].str.replace('Ohio', 'OH')\n",
    "df_ad_airings_5['state'] = df_ad_airings_5['state'].str.replace('Iowa', 'IA')\n",
    "df_ad_airings_5['state'] = df_ad_airings_5['state'].str.replace('CA', 'National')"
   ]
  },
  {
   "cell_type": "code",
   "execution_count": 208,
   "metadata": {
    "collapsed": false
   },
   "outputs": [
    {
     "data": {
      "text/plain": [
       "FL          13248\n",
       "PA          11949\n",
       "NV          10953\n",
       "OH          10604\n",
       "National     7546\n",
       "NC           6731\n",
       "IA           5295\n",
       "NH           5008\n",
       "CO           4710\n",
       "WI           4097\n",
       "AZ           3244\n",
       "VA           1695\n",
       "NY             47\n",
       "Name: state, dtype: int64"
      ]
     },
     "execution_count": 208,
     "metadata": {},
     "output_type": "execute_result"
    }
   ],
   "source": [
    "df_ad_airings_5['state'].value_counts()"
   ]
  },
  {
   "cell_type": "code",
   "execution_count": 209,
   "metadata": {
    "collapsed": true
   },
   "outputs": [],
   "source": [
    "#Saving the dataset in a file\n",
    "df_ad_airings_5.to_pickle('./TV_AD_AIRINGS_STATE_METRO_AREA_5.pkl')"
   ]
  },
  {
   "cell_type": "code",
   "execution_count": 211,
   "metadata": {
    "collapsed": false
   },
   "outputs": [],
   "source": [
    "df_ad_airings_6 = pd.read_pickle('./TV_AD_AIRINGS_STATE_METRO_AREA_5.pkl')"
   ]
  },
  {
   "cell_type": "code",
   "execution_count": null,
   "metadata": {
    "collapsed": true
   },
   "outputs": [],
   "source": []
  },
  {
   "cell_type": "code",
   "execution_count": 129,
   "metadata": {
    "collapsed": false
   },
   "outputs": [
    {
     "data": {
      "text/plain": [
       "591"
      ]
     },
     "execution_count": 129,
     "metadata": {},
     "output_type": "execute_result"
    }
   ],
   "source": [
    "#Getting count of NaNs in subjects column\n",
    "df_ad_airings_5['subjects'].isnull().sum()"
   ]
  },
  {
   "cell_type": "code",
   "execution_count": null,
   "metadata": {
    "collapsed": true
   },
   "outputs": [],
   "source": []
  },
  {
   "cell_type": "code",
   "execution_count": null,
   "metadata": {
    "collapsed": true
   },
   "outputs": [],
   "source": []
  },
  {
   "cell_type": "code",
   "execution_count": null,
   "metadata": {
    "collapsed": true
   },
   "outputs": [],
   "source": []
  },
  {
   "cell_type": "code",
   "execution_count": 7,
   "metadata": {
    "collapsed": false
   },
   "outputs": [
    {
     "data": {
      "text/html": [
       "<div>\n",
       "<table border=\"1\" class=\"dataframe\">\n",
       "  <thead>\n",
       "    <tr style=\"text-align: right;\">\n",
       "      <th></th>\n",
       "      <th>wp_identifier</th>\n",
       "      <th>archive_id</th>\n",
       "      <th>embed_url</th>\n",
       "      <th>sponsors</th>\n",
       "      <th>sponsor_types</th>\n",
       "      <th>subjects</th>\n",
       "      <th>candidates</th>\n",
       "      <th>type</th>\n",
       "      <th>race</th>\n",
       "      <th>cycle</th>\n",
       "      <th>message</th>\n",
       "      <th>air_count</th>\n",
       "      <th>reference_count</th>\n",
       "      <th>market_count</th>\n",
       "      <th>transcript</th>\n",
       "      <th>date_ingested</th>\n",
       "    </tr>\n",
       "  </thead>\n",
       "  <tbody>\n",
       "    <tr>\n",
       "      <th>0</th>\n",
       "      <td>8403</td>\n",
       "      <td>PolAd_CatherineCortezMasto_jbah8</td>\n",
       "      <td>https://archive.org/embed/PolAd_CatherineCorte...</td>\n",
       "      <td>Catherine Cortez Masto for Senate</td>\n",
       "      <td>Candidate Committee</td>\n",
       "      <td>Candidate Biography, Bipartisanship, Criminal ...</td>\n",
       "      <td>Catherine Cortez Masto</td>\n",
       "      <td>campaign</td>\n",
       "      <td>NVS2</td>\n",
       "      <td>2016.0</td>\n",
       "      <td>pro</td>\n",
       "      <td>185</td>\n",
       "      <td>0</td>\n",
       "      <td>1</td>\n",
       "      <td>NaN</td>\n",
       "      <td>2016/11/17 5:03:54 UTC</td>\n",
       "    </tr>\n",
       "    <tr>\n",
       "      <th>1</th>\n",
       "      <td>8404</td>\n",
       "      <td>PolAd_DonaldTrump_kc0en</td>\n",
       "      <td>https://archive.org/embed/PolAd_DonaldTrump_kc0en</td>\n",
       "      <td>Hillary for America</td>\n",
       "      <td>Multiple</td>\n",
       "      <td>Nuclear, Candidate Biography, Military, Foreig...</td>\n",
       "      <td>Donald Trump</td>\n",
       "      <td>campaign</td>\n",
       "      <td>PRES</td>\n",
       "      <td>2016.0</td>\n",
       "      <td>con</td>\n",
       "      <td>139</td>\n",
       "      <td>0</td>\n",
       "      <td>1</td>\n",
       "      <td>NaN</td>\n",
       "      <td>2016/11/17 5:02:52 UTC</td>\n",
       "    </tr>\n",
       "    <tr>\n",
       "      <th>2</th>\n",
       "      <td>8358</td>\n",
       "      <td>PolAd_DonaldTrump_ncck5</td>\n",
       "      <td>https://archive.org/embed/PolAd_DonaldTrump_ncck5</td>\n",
       "      <td>Hillary for America</td>\n",
       "      <td>Multiple</td>\n",
       "      <td>Bankruptcy, Candidate Biography, Workers</td>\n",
       "      <td>Donald Trump</td>\n",
       "      <td>campaign</td>\n",
       "      <td>PRES</td>\n",
       "      <td>2016.0</td>\n",
       "      <td>con</td>\n",
       "      <td>195</td>\n",
       "      <td>0</td>\n",
       "      <td>2</td>\n",
       "      <td>NaN</td>\n",
       "      <td>2016/11/14 10:44:42 UTC</td>\n",
       "    </tr>\n",
       "    <tr>\n",
       "      <th>3</th>\n",
       "      <td>8359</td>\n",
       "      <td>PolAd_Guns_gv0de</td>\n",
       "      <td>https://archive.org/embed/PolAd_Guns_gv0de</td>\n",
       "      <td>National Rifle Assn</td>\n",
       "      <td>PAC</td>\n",
       "      <td>Guns</td>\n",
       "      <td>NaN</td>\n",
       "      <td>campaign</td>\n",
       "      <td>NaN</td>\n",
       "      <td>NaN</td>\n",
       "      <td>unknown</td>\n",
       "      <td>87</td>\n",
       "      <td>0</td>\n",
       "      <td>3</td>\n",
       "      <td>NaN</td>\n",
       "      <td>2016/11/14 10:44:15 UTC</td>\n",
       "    </tr>\n",
       "    <tr>\n",
       "      <th>4</th>\n",
       "      <td>8361</td>\n",
       "      <td>PolAd_Guns_Veterans_Military_z2bvd</td>\n",
       "      <td>https://archive.org/embed/PolAd_Guns_Veterans_...</td>\n",
       "      <td>National Rifle Assn</td>\n",
       "      <td>PAC</td>\n",
       "      <td>Guns, Veterans, Military</td>\n",
       "      <td>NaN</td>\n",
       "      <td>campaign</td>\n",
       "      <td>NaN</td>\n",
       "      <td>NaN</td>\n",
       "      <td>unknown</td>\n",
       "      <td>54</td>\n",
       "      <td>0</td>\n",
       "      <td>3</td>\n",
       "      <td>NaN</td>\n",
       "      <td>2016/11/14 10:43:51 UTC</td>\n",
       "    </tr>\n",
       "  </tbody>\n",
       "</table>\n",
       "</div>"
      ],
      "text/plain": [
       "   wp_identifier                          archive_id  \\\n",
       "0           8403    PolAd_CatherineCortezMasto_jbah8   \n",
       "1           8404             PolAd_DonaldTrump_kc0en   \n",
       "2           8358             PolAd_DonaldTrump_ncck5   \n",
       "3           8359                    PolAd_Guns_gv0de   \n",
       "4           8361  PolAd_Guns_Veterans_Military_z2bvd   \n",
       "\n",
       "                                           embed_url  \\\n",
       "0  https://archive.org/embed/PolAd_CatherineCorte...   \n",
       "1  https://archive.org/embed/PolAd_DonaldTrump_kc0en   \n",
       "2  https://archive.org/embed/PolAd_DonaldTrump_ncck5   \n",
       "3         https://archive.org/embed/PolAd_Guns_gv0de   \n",
       "4  https://archive.org/embed/PolAd_Guns_Veterans_...   \n",
       "\n",
       "                            sponsors        sponsor_types  \\\n",
       "0  Catherine Cortez Masto for Senate  Candidate Committee   \n",
       "1                Hillary for America             Multiple   \n",
       "2                Hillary for America             Multiple   \n",
       "3                National Rifle Assn                  PAC   \n",
       "4                National Rifle Assn                  PAC   \n",
       "\n",
       "                                            subjects              candidates  \\\n",
       "0  Candidate Biography, Bipartisanship, Criminal ...  Catherine Cortez Masto   \n",
       "1  Nuclear, Candidate Biography, Military, Foreig...            Donald Trump   \n",
       "2           Bankruptcy, Candidate Biography, Workers            Donald Trump   \n",
       "3                                               Guns                     NaN   \n",
       "4                           Guns, Veterans, Military                     NaN   \n",
       "\n",
       "       type  race   cycle  message  air_count  reference_count  market_count  \\\n",
       "0  campaign  NVS2  2016.0      pro        185                0             1   \n",
       "1  campaign  PRES  2016.0      con        139                0             1   \n",
       "2  campaign  PRES  2016.0      con        195                0             2   \n",
       "3  campaign   NaN     NaN  unknown         87                0             3   \n",
       "4  campaign   NaN     NaN  unknown         54                0             3   \n",
       "\n",
       "  transcript            date_ingested  \n",
       "0        NaN   2016/11/17 5:03:54 UTC  \n",
       "1        NaN   2016/11/17 5:02:52 UTC  \n",
       "2        NaN  2016/11/14 10:44:42 UTC  \n",
       "3        NaN  2016/11/14 10:44:15 UTC  \n",
       "4        NaN  2016/11/14 10:43:51 UTC  "
      ]
     },
     "execution_count": 7,
     "metadata": {},
     "output_type": "execute_result"
    }
   ],
   "source": [
    "df_uniq_ads = pd.read_csv('./Unique_ads.csv')\n",
    "df_uniq_ads.head(5)"
   ]
  },
  {
   "cell_type": "code",
   "execution_count": null,
   "metadata": {
    "collapsed": true
   },
   "outputs": [],
   "source": []
  },
  {
   "cell_type": "code",
   "execution_count": 10,
   "metadata": {
    "collapsed": false
   },
   "outputs": [
    {
     "data": {
      "text/plain": [
       "wp_identifier        int64\n",
       "archive_id          object\n",
       "embed_url           object\n",
       "sponsors            object\n",
       "sponsor_types       object\n",
       "subjects            object\n",
       "candidates          object\n",
       "type                object\n",
       "race                object\n",
       "cycle              float64\n",
       "message             object\n",
       "air_count            int64\n",
       "reference_count      int64\n",
       "market_count         int64\n",
       "transcript          object\n",
       "date_ingested       object\n",
       "dtype: object"
      ]
     },
     "execution_count": 10,
     "metadata": {},
     "output_type": "execute_result"
    }
   ],
   "source": [
    "df_uniq_ads.dtypes"
   ]
  }
 ],
 "metadata": {
  "kernelspec": {
   "display_name": "Python 3",
   "language": "python",
   "name": "python3"
  },
  "language_info": {
   "codemirror_mode": {
    "name": "ipython",
    "version": 3
   },
   "file_extension": ".py",
   "mimetype": "text/x-python",
   "name": "python",
   "nbconvert_exporter": "python",
   "pygments_lexer": "ipython3",
   "version": "3.6.0"
  }
 },
 "nbformat": 4,
 "nbformat_minor": 2
}
