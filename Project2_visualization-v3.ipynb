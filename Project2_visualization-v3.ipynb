{
 "cells": [
  {
   "cell_type": "code",
   "execution_count": 2,
   "metadata": {
    "collapsed": false
   },
   "outputs": [
    {
     "name": "stdout",
     "output_type": "stream",
     "text": [
      "3.6.0 |Anaconda 4.3.1 (x86_64)| (default, Dec 23 2016, 13:19:00) \n",
      "[GCC 4.2.1 Compatible Apple LLVM 6.0 (clang-600.0.57)]\n",
      "1.11.3\n",
      "0.19.2\n"
     ]
    }
   ],
   "source": [
    "%matplotlib inline\n",
    "import sys\n",
    "print(sys.version)\n",
    "import numpy as np\n",
    "print(np.__version__)\n",
    "import pandas as pd\n",
    "print(pd.__version__)\n",
    "import matplotlib.pyplot as plt\n",
    "from datetime import datetime\n",
    "plt.style.use('seaborn-whitegrid')\n",
    "plt.style.use('fivethirtyeight')"
   ]
  },
  {
   "cell_type": "markdown",
   "metadata": {},
   "source": [
    "## Summary Analysis: Did   TV ads  have any correlation with the outcomes in the 10 battleground states in 2016 presidential elections?\n",
    "* The dataset was cleaned and a new column was added for ad length(Difference of ad end time and start time\n",
    "* Also the sponsor party column was added to indicate which party sponsored the ad.\n",
    "* Did a comparison of total Democratic party ad volume by message type(positive, negative and mixed) versus \n",
    "  republican party ad volume and also plotted the difference to get a better understanding of the gap. \n",
    "* The data showed  that Hillary outspent Trump in 8 of the 11 states by significant numbers. \n",
    "* In order to quantify the outcome, referred to an external dataset and collected data for the net difference in \n",
    "  republican margins from 2012 to 2016.\n",
    "* Plotted the Difference in Ad volume of republican party against the difference in margins for republican party \n",
    "  on a scatter plot to see if there was any relationship.\n",
    "* The points were all over and did not follow any particular pattern\n",
    "* In 4 out of the 11 states,\n",
    "\n",
    "\n",
    "\n"
   ]
  },
  {
   "cell_type": "code",
   "execution_count": 3,
   "metadata": {
    "collapsed": false
   },
   "outputs": [],
   "source": [
    "df_trump_margins_volume = pd.read_pickle('./data/TV_AD_TRUMP_VOLUME_VICTORY_MARGINES_7.pkl')"
   ]
  },
  {
   "cell_type": "code",
   "execution_count": 4,
   "metadata": {
    "collapsed": false
   },
   "outputs": [
    {
     "data": {
      "text/html": [
       "<div>\n",
       "<table border=\"1\" class=\"dataframe\">\n",
       "  <thead>\n",
       "    <tr style=\"text-align: right;\">\n",
       "      <th></th>\n",
       "      <th>2012 Percent margin</th>\n",
       "      <th>2012 Winner</th>\n",
       "      <th>2016 Percent margin</th>\n",
       "      <th>2016 Winner</th>\n",
       "      <th>Net Trump Margins</th>\n",
       "      <th>Comments</th>\n",
       "      <th>D</th>\n",
       "      <th>I</th>\n",
       "      <th>R</th>\n",
       "      <th>Trump Ad Difference</th>\n",
       "    </tr>\n",
       "    <tr>\n",
       "      <th>state</th>\n",
       "      <th></th>\n",
       "      <th></th>\n",
       "      <th></th>\n",
       "      <th></th>\n",
       "      <th></th>\n",
       "      <th></th>\n",
       "      <th></th>\n",
       "      <th></th>\n",
       "      <th></th>\n",
       "      <th></th>\n",
       "    </tr>\n",
       "  </thead>\n",
       "  <tbody>\n",
       "    <tr>\n",
       "      <th>IA</th>\n",
       "      <td>5.81</td>\n",
       "      <td>D</td>\n",
       "      <td>9.41</td>\n",
       "      <td>R</td>\n",
       "      <td>15.22</td>\n",
       "      <td>changed D to R</td>\n",
       "      <td>36.76</td>\n",
       "      <td>0.77</td>\n",
       "      <td>12.17</td>\n",
       "      <td>-24.59</td>\n",
       "    </tr>\n",
       "    <tr>\n",
       "      <th>OH</th>\n",
       "      <td>2.97</td>\n",
       "      <td>D</td>\n",
       "      <td>8.07</td>\n",
       "      <td>R</td>\n",
       "      <td>11.04</td>\n",
       "      <td>changed D to R</td>\n",
       "      <td>62.76</td>\n",
       "      <td>0.01</td>\n",
       "      <td>32.06</td>\n",
       "      <td>-30.70</td>\n",
       "    </tr>\n",
       "    <tr>\n",
       "      <th>WI</th>\n",
       "      <td>6.94</td>\n",
       "      <td>D</td>\n",
       "      <td>0.76</td>\n",
       "      <td>R</td>\n",
       "      <td>7.70</td>\n",
       "      <td>changed D to R</td>\n",
       "      <td>12.40</td>\n",
       "      <td>NaN</td>\n",
       "      <td>23.64</td>\n",
       "      <td>11.24</td>\n",
       "    </tr>\n",
       "    <tr>\n",
       "      <th>PA</th>\n",
       "      <td>5.38</td>\n",
       "      <td>D</td>\n",
       "      <td>0.72</td>\n",
       "      <td>R</td>\n",
       "      <td>6.10</td>\n",
       "      <td>changed D to R</td>\n",
       "      <td>73.25</td>\n",
       "      <td>NaN</td>\n",
       "      <td>33.51</td>\n",
       "      <td>-39.74</td>\n",
       "    </tr>\n",
       "    <tr>\n",
       "      <th>NH</th>\n",
       "      <td>5.58</td>\n",
       "      <td>D</td>\n",
       "      <td>0.37</td>\n",
       "      <td>D</td>\n",
       "      <td>5.21</td>\n",
       "      <td>fell for D</td>\n",
       "      <td>25.16</td>\n",
       "      <td>NaN</td>\n",
       "      <td>18.73</td>\n",
       "      <td>-6.43</td>\n",
       "    </tr>\n",
       "    <tr>\n",
       "      <th>NV</th>\n",
       "      <td>6.68</td>\n",
       "      <td>D</td>\n",
       "      <td>2.42</td>\n",
       "      <td>D</td>\n",
       "      <td>4.26</td>\n",
       "      <td>margin fell for D</td>\n",
       "      <td>76.54</td>\n",
       "      <td>0.50</td>\n",
       "      <td>25.40</td>\n",
       "      <td>-51.14</td>\n",
       "    </tr>\n",
       "    <tr>\n",
       "      <th>NC</th>\n",
       "      <td>2.04</td>\n",
       "      <td>R</td>\n",
       "      <td>3.66</td>\n",
       "      <td>R</td>\n",
       "      <td>1.62</td>\n",
       "      <td>increased for R</td>\n",
       "      <td>45.05</td>\n",
       "      <td>NaN</td>\n",
       "      <td>14.42</td>\n",
       "      <td>-30.63</td>\n",
       "    </tr>\n",
       "    <tr>\n",
       "      <th>CO</th>\n",
       "      <td>5.36</td>\n",
       "      <td>D</td>\n",
       "      <td>4.91</td>\n",
       "      <td>D</td>\n",
       "      <td>0.45</td>\n",
       "      <td>margin fell for D</td>\n",
       "      <td>15.96</td>\n",
       "      <td>NaN</td>\n",
       "      <td>25.82</td>\n",
       "      <td>9.86</td>\n",
       "    </tr>\n",
       "    <tr>\n",
       "      <th>FL</th>\n",
       "      <td>0.88</td>\n",
       "      <td>D</td>\n",
       "      <td>1.19</td>\n",
       "      <td>R</td>\n",
       "      <td>0.31</td>\n",
       "      <td>increased for R</td>\n",
       "      <td>76.49</td>\n",
       "      <td>NaN</td>\n",
       "      <td>36.25</td>\n",
       "      <td>-40.24</td>\n",
       "    </tr>\n",
       "    <tr>\n",
       "      <th>VA</th>\n",
       "      <td>3.86</td>\n",
       "      <td>D</td>\n",
       "      <td>5.32</td>\n",
       "      <td>D</td>\n",
       "      <td>-1.46</td>\n",
       "      <td>fell for R</td>\n",
       "      <td>4.62</td>\n",
       "      <td>NaN</td>\n",
       "      <td>9.77</td>\n",
       "      <td>5.15</td>\n",
       "    </tr>\n",
       "    <tr>\n",
       "      <th>AZ</th>\n",
       "      <td>9.04</td>\n",
       "      <td>R</td>\n",
       "      <td>3.50</td>\n",
       "      <td>R</td>\n",
       "      <td>-5.54</td>\n",
       "      <td>fel for R</td>\n",
       "      <td>24.98</td>\n",
       "      <td>NaN</td>\n",
       "      <td>4.21</td>\n",
       "      <td>-20.77</td>\n",
       "    </tr>\n",
       "  </tbody>\n",
       "</table>\n",
       "</div>"
      ],
      "text/plain": [
       "       2012 Percent margin  2012 Winner  2016 Percent margin 2016 Winner  \\\n",
       "state                                                                      \n",
       "IA                     5.81           D                 9.41           R   \n",
       "OH                     2.97           D                 8.07           R   \n",
       "WI                     6.94           D                 0.76           R   \n",
       "PA                     5.38           D                 0.72           R   \n",
       "NH                     5.58           D                 0.37           D   \n",
       "NV                     6.68           D                 2.42           D   \n",
       "NC                     2.04           R                 3.66           R   \n",
       "CO                     5.36           D                 4.91           D   \n",
       "FL                     0.88           D                 1.19           R   \n",
       "VA                     3.86           D                 5.32           D   \n",
       "AZ                     9.04           R                 3.50           R   \n",
       "\n",
       "       Net Trump Margins           Comments      D     I      R  \\\n",
       "state                                                             \n",
       "IA                 15.22     changed D to R  36.76  0.77  12.17   \n",
       "OH                 11.04     changed D to R  62.76  0.01  32.06   \n",
       "WI                  7.70     changed D to R  12.40   NaN  23.64   \n",
       "PA                  6.10     changed D to R  73.25   NaN  33.51   \n",
       "NH                  5.21         fell for D  25.16   NaN  18.73   \n",
       "NV                  4.26  margin fell for D  76.54  0.50  25.40   \n",
       "NC                  1.62    increased for R  45.05   NaN  14.42   \n",
       "CO                  0.45  margin fell for D  15.96   NaN  25.82   \n",
       "FL                  0.31    increased for R  76.49   NaN  36.25   \n",
       "VA                 -1.46         fell for R   4.62   NaN   9.77   \n",
       "AZ                 -5.54          fel for R  24.98   NaN   4.21   \n",
       "\n",
       "       Trump Ad Difference  \n",
       "state                       \n",
       "IA                  -24.59  \n",
       "OH                  -30.70  \n",
       "WI                   11.24  \n",
       "PA                  -39.74  \n",
       "NH                   -6.43  \n",
       "NV                  -51.14  \n",
       "NC                  -30.63  \n",
       "CO                    9.86  \n",
       "FL                  -40.24  \n",
       "VA                    5.15  \n",
       "AZ                  -20.77  "
      ]
     },
     "execution_count": 4,
     "metadata": {},
     "output_type": "execute_result"
    }
   ],
   "source": [
    "df_trump_margins_volume"
   ]
  },
  {
   "cell_type": "code",
   "execution_count": 5,
   "metadata": {
    "collapsed": false
   },
   "outputs": [],
   "source": [
    "df_trump_margins_volume.reset_index(inplace=True)"
   ]
  },
  {
   "cell_type": "code",
   "execution_count": 6,
   "metadata": {
    "collapsed": false
   },
   "outputs": [
    {
     "data": {
      "text/plain": [
       "0     IA\n",
       "1     OH\n",
       "2     WI\n",
       "3     PA\n",
       "4     NH\n",
       "5     NV\n",
       "6     NC\n",
       "7     CO\n",
       "8     FL\n",
       "9     VA\n",
       "10    AZ\n",
       "Name: state, dtype: object"
      ]
     },
     "execution_count": 6,
     "metadata": {},
     "output_type": "execute_result"
    }
   ],
   "source": [
    "df_trump_margins_volume['state']"
   ]
  },
  {
   "cell_type": "code",
   "execution_count": 7,
   "metadata": {
    "collapsed": false
   },
   "outputs": [
    {
     "name": "stdout",
     "output_type": "stream",
     "text": [
      "0 IA\n",
      "1 OH\n",
      "2 WI\n",
      "3 PA\n",
      "4 NH\n",
      "5 NV\n",
      "6 NC\n",
      "7 CO\n",
      "8 FL\n",
      "9 VA\n",
      "10 AZ\n"
     ]
    },
    {
     "data": {
      "image/png": "[encoded data removed]",
      "text/plain": [
       "<matplotlib.figure.Figure at 0x10f0ab4e0>"
      ]
     },
     "metadata": {},
     "output_type": "display_data"
    }
   ],
   "source": [
    "x = df_trump_margins_volume['Net Trump Margins']\n",
    "y = df_trump_margins_volume['Trump Ad Difference']\n",
    "plt.plot(x, y, 'o', color='black')\n",
    "plt.xlabel('% Victory Margins for Trump')\n",
    "plt.ylabel('Diff in Ad Volume for Trump')\n",
    "z = df_trump_margins_volume['state']\n",
    "for i,state in enumerate(z):\n",
    "    print(i,state)"
   ]
  },
  {
   "cell_type": "code",
   "execution_count": 27,
   "metadata": {
    "collapsed": false
   },
   "outputs": [
    {
     "data": {
      "image/png": "[encoded data removed]",
      "text/plain": [
       "<matplotlib.figure.Figure at 0x1137f4c50>"
      ]
     },
     "metadata": {},
     "output_type": "display_data"
    }
   ],
   "source": [
    "fig, ax = plt.subplots(figsize=(8, 6))\n",
    "x = df_trump_margins_volume['Net Trump Margins']\n",
    "y = df_trump_margins_volume['Trump Ad Difference']\n",
    "ax.scatter(x, y)\n",
    "z = df_trump_margins_volume['state']\n",
    "ax.axhline(linewidth=4, color=\"b\")\n",
    "ax.axvline(linewidth=4, color=\"b\") \n",
    "\n",
    "for i,state in enumerate(z):\n",
    "    ax.annotate(state,(x[i]+0.25, y[i]+0.25))\n",
    "ax.set(xlabel='Net Rep Gains in 2016 vs 2012' ,\n",
    "       ylabel= 'Diff in Rep and Dem Ad volume',\n",
    "       title = 'Rep Ad hours vs victory margins')    \n",
    "plt.savefig('ana_final_pics/Rep Ad hours vs victory margins.png')"
   ]
  },
  {
   "cell_type": "code",
   "execution_count": 25,
   "metadata": {
    "collapsed": false
   },
   "outputs": [
    {
     "data": {
      "image/png": "[encoded data removed]",
      "text/plain": [
       "<matplotlib.figure.Figure at 0x11308c2e8>"
      ]
     },
     "metadata": {},
     "output_type": "display_data"
    }
   ],
   "source": [
    "fig, ax = plt.subplots(figsize=(8, 6))\n",
    "x = df_trump_margins_volume['Net Trump Margins']\n",
    "y = df_trump_margins_volume['Trump Ad Difference']\n",
    "x = np.where(np.array(x) > 0, 0, 1)\n",
    "ax.scatter(x, y, c=x, s=150,)\n",
    "z = df_trump_margins_volume['state']\n",
    "ax.axhline(linewidth=4, color=\"b\")\n",
    "ax.axvline(linewidth=4, color=\"b\") \n",
    "\n",
    "for i,state in enumerate(z):\n",
    "    ax.annotate(state,(x[i]+0.25, y[i]+0.25))\n",
    "ax.set(xlabel='Net Rep Gains in 2016 vs 2012' ,\n",
    "       ylabel= 'Diff in Rep and Dem Ad volume',\n",
    "       title = 'Rep Ad hours vs victory margins')    \n",
    "#plt.savefig('proposal_pics/Rep Ad hours vs victory margins.png')\n"
   ]
  },
  {
   "cell_type": "code",
   "execution_count": 9,
   "metadata": {
    "collapsed": false
   },
   "outputs": [
    {
     "data": {
      "text/html": [
       "<div>\n",
       "<table border=\"1\" class=\"dataframe\">\n",
       "  <thead>\n",
       "    <tr style=\"text-align: right;\">\n",
       "      <th></th>\n",
       "      <th>2012 Percent margin</th>\n",
       "      <th>2016 Percent margin</th>\n",
       "      <th>Net Trump Margins</th>\n",
       "      <th>D</th>\n",
       "      <th>I</th>\n",
       "      <th>R</th>\n",
       "      <th>Trump Ad Difference</th>\n",
       "    </tr>\n",
       "  </thead>\n",
       "  <tbody>\n",
       "    <tr>\n",
       "      <th>2012 Percent margin</th>\n",
       "      <td>1.000000</td>\n",
       "      <td>-0.097077</td>\n",
       "      <td>-0.053345</td>\n",
       "      <td>-0.361866</td>\n",
       "      <td>0.834195</td>\n",
       "      <td>-0.447728</td>\n",
       "      <td>0.236420</td>\n",
       "    </tr>\n",
       "    <tr>\n",
       "      <th>2016 Percent margin</th>\n",
       "      <td>-0.097077</td>\n",
       "      <td>1.000000</td>\n",
       "      <td>0.398893</td>\n",
       "      <td>-0.132393</td>\n",
       "      <td>0.015999</td>\n",
       "      <td>-0.289685</td>\n",
       "      <td>0.025804</td>\n",
       "    </tr>\n",
       "    <tr>\n",
       "      <th>Net Trump Margins</th>\n",
       "      <td>-0.053345</td>\n",
       "      <td>0.398893</td>\n",
       "      <td>1.000000</td>\n",
       "      <td>0.223447</td>\n",
       "      <td>0.220070</td>\n",
       "      <td>0.286420</td>\n",
       "      <td>-0.141186</td>\n",
       "    </tr>\n",
       "    <tr>\n",
       "      <th>D</th>\n",
       "      <td>-0.361866</td>\n",
       "      <td>-0.132393</td>\n",
       "      <td>0.223447</td>\n",
       "      <td>1.000000</td>\n",
       "      <td>-0.508578</td>\n",
       "      <td>0.659363</td>\n",
       "      <td>-0.931983</td>\n",
       "    </tr>\n",
       "    <tr>\n",
       "      <th>I</th>\n",
       "      <td>0.834195</td>\n",
       "      <td>0.015999</td>\n",
       "      <td>0.220070</td>\n",
       "      <td>-0.508578</td>\n",
       "      <td>1.000000</td>\n",
       "      <td>-0.937979</td>\n",
       "      <td>0.055892</td>\n",
       "    </tr>\n",
       "    <tr>\n",
       "      <th>R</th>\n",
       "      <td>-0.447728</td>\n",
       "      <td>-0.289685</td>\n",
       "      <td>0.286420</td>\n",
       "      <td>0.659363</td>\n",
       "      <td>-0.937979</td>\n",
       "      <td>1.000000</td>\n",
       "      <td>-0.341978</td>\n",
       "    </tr>\n",
       "    <tr>\n",
       "      <th>Trump Ad Difference</th>\n",
       "      <td>0.236420</td>\n",
       "      <td>0.025804</td>\n",
       "      <td>-0.141186</td>\n",
       "      <td>-0.931983</td>\n",
       "      <td>0.055892</td>\n",
       "      <td>-0.341978</td>\n",
       "      <td>1.000000</td>\n",
       "    </tr>\n",
       "  </tbody>\n",
       "</table>\n",
       "</div>"
      ],
      "text/plain": [
       "                      2012 Percent margin   2016 Percent margin  \\\n",
       "2012 Percent margin               1.000000            -0.097077   \n",
       "2016 Percent margin              -0.097077             1.000000   \n",
       "Net Trump Margins                -0.053345             0.398893   \n",
       "D                                -0.361866            -0.132393   \n",
       "I                                 0.834195             0.015999   \n",
       "R                                -0.447728            -0.289685   \n",
       "Trump Ad Difference               0.236420             0.025804   \n",
       "\n",
       "                      Net Trump Margins         D         I         R  \\\n",
       "2012 Percent margin           -0.053345 -0.361866  0.834195 -0.447728   \n",
       "2016 Percent margin            0.398893 -0.132393  0.015999 -0.289685   \n",
       "Net Trump Margins              1.000000  0.223447  0.220070  0.286420   \n",
       "D                              0.223447  1.000000 -0.508578  0.659363   \n",
       "I                              0.220070 -0.508578  1.000000 -0.937979   \n",
       "R                              0.286420  0.659363 -0.937979  1.000000   \n",
       "Trump Ad Difference           -0.141186 -0.931983  0.055892 -0.341978   \n",
       "\n",
       "                      Trump Ad Difference  \n",
       "2012 Percent margin              0.236420  \n",
       "2016 Percent margin              0.025804  \n",
       "Net Trump Margins               -0.141186  \n",
       "D                               -0.931983  \n",
       "I                                0.055892  \n",
       "R                               -0.341978  \n",
       "Trump Ad Difference              1.000000  "
      ]
     },
     "execution_count": 9,
     "metadata": {},
     "output_type": "execute_result"
    }
   ],
   "source": [
    "df_trump_margins_volume.corr(method=\"pearson\")"
   ]
  },
  {
   "cell_type": "markdown",
   "metadata": {},
   "source": [
    "See a negative correlation of -0.14."
   ]
  }
 ],
 "metadata": {
  "kernelspec": {
   "display_name": "Python 3",
   "language": "python",
   "name": "python3"
  }
 },
 "nbformat": 4,
 "nbformat_minor": 2
}
