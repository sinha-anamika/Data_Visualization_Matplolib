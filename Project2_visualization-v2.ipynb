{
 "cells": [
  {
   "cell_type": "code",
   "execution_count": 118,
   "metadata": {
    "collapsed": false
   },
   "outputs": [
    {
     "name": "stdout",
     "output_type": "stream",
     "text": [
      "3.6.0 |Anaconda 4.3.1 (x86_64)| (default, Dec 23 2016, 13:19:00) \n",
      "[GCC 4.2.1 Compatible Apple LLVM 6.0 (clang-600.0.57)]\n",
      "1.11.3\n",
      "0.19.2\n"
     ]
    }
   ],
   "source": [
    "%matplotlib inline\n",
    "import sys\n",
    "print(sys.version)\n",
    "import numpy as np\n",
    "print(np.__version__)\n",
    "import pandas as pd\n",
    "print(pd.__version__)\n",
    "import matplotlib.pyplot as plt\n",
    "from datetime import datetime\n",
    "plt.style.use('seaborn-whitegrid')\n",
    "plt.style.use('fivethirtyeight')"
   ]
  },
  {
   "cell_type": "code",
   "execution_count": 119,
   "metadata": {
    "collapsed": false
   },
   "outputs": [
    {
     "data": {
      "text/html": [
       "<div>\n",
       "<table border=\"1\" class=\"dataframe\">\n",
       "  <thead>\n",
       "    <tr style=\"text-align: right;\">\n",
       "      <th></th>\n",
       "      <th>id</th>\n",
       "      <th>wp_identifier</th>\n",
       "      <th>network</th>\n",
       "      <th>location</th>\n",
       "      <th>program</th>\n",
       "      <th>program_type</th>\n",
       "      <th>start_time</th>\n",
       "      <th>end_time</th>\n",
       "      <th>archive_id</th>\n",
       "      <th>embed_url</th>\n",
       "      <th>...</th>\n",
       "      <th>cycle</th>\n",
       "      <th>subjects</th>\n",
       "      <th>candidates</th>\n",
       "      <th>type</th>\n",
       "      <th>message</th>\n",
       "      <th>date_created</th>\n",
       "      <th>ad_duration_secs</th>\n",
       "      <th>metro_area_state</th>\n",
       "      <th>state</th>\n",
       "      <th>metro_area</th>\n",
       "    </tr>\n",
       "  </thead>\n",
       "  <tbody>\n",
       "    <tr>\n",
       "      <th>0</th>\n",
       "      <td>1</td>\n",
       "      <td>5643</td>\n",
       "      <td>KLAS</td>\n",
       "      <td>Las Vegas, NV</td>\n",
       "      <td>8 News Now at 5 PM</td>\n",
       "      <td>news</td>\n",
       "      <td>2016-09-09 00:12:59</td>\n",
       "      <td>2016-09-09 00:13:29</td>\n",
       "      <td>PolAd_HillaryClinton_f1h3j</td>\n",
       "      <td>https://archive.org/embed/PolAd_HillaryClinton...</td>\n",
       "      <td>...</td>\n",
       "      <td>2016.0</td>\n",
       "      <td>Energy, China, Jobs</td>\n",
       "      <td>Hillary Clinton</td>\n",
       "      <td>campaign</td>\n",
       "      <td>pro</td>\n",
       "      <td>2016-09-12 14:49:00</td>\n",
       "      <td>30.0</td>\n",
       "      <td>[Las Vegas,  NV]</td>\n",
       "      <td>NV</td>\n",
       "      <td>Las Vegas</td>\n",
       "    </tr>\n",
       "    <tr>\n",
       "      <th>1</th>\n",
       "      <td>2</td>\n",
       "      <td>5643</td>\n",
       "      <td>WNCN</td>\n",
       "      <td>Raleigh-Durham-Fayetteville,  NC</td>\n",
       "      <td>North Carolina News at 500PM</td>\n",
       "      <td>news</td>\n",
       "      <td>2016-09-06 21:58:25</td>\n",
       "      <td>2016-09-06 21:58:55</td>\n",
       "      <td>PolAd_HillaryClinton_f1h3j</td>\n",
       "      <td>https://archive.org/embed/PolAd_HillaryClinton...</td>\n",
       "      <td>...</td>\n",
       "      <td>2016.0</td>\n",
       "      <td>Energy, China, Jobs</td>\n",
       "      <td>Hillary Clinton</td>\n",
       "      <td>campaign</td>\n",
       "      <td>pro</td>\n",
       "      <td>2016-09-12 14:49:00</td>\n",
       "      <td>30.0</td>\n",
       "      <td>[Raleigh-Durham-Fayetteville,   NC]</td>\n",
       "      <td>NC</td>\n",
       "      <td>Raleigh-Durham-Fayetteville</td>\n",
       "    </tr>\n",
       "    <tr>\n",
       "      <th>2</th>\n",
       "      <td>3</td>\n",
       "      <td>5643</td>\n",
       "      <td>KLAS</td>\n",
       "      <td>Las Vegas, NV</td>\n",
       "      <td>Face the Nation</td>\n",
       "      <td>news</td>\n",
       "      <td>2016-09-04 16:24:25</td>\n",
       "      <td>2016-09-04 16:24:55</td>\n",
       "      <td>PolAd_HillaryClinton_f1h3j</td>\n",
       "      <td>https://archive.org/embed/PolAd_HillaryClinton...</td>\n",
       "      <td>...</td>\n",
       "      <td>2016.0</td>\n",
       "      <td>Energy, China, Jobs</td>\n",
       "      <td>Hillary Clinton</td>\n",
       "      <td>campaign</td>\n",
       "      <td>pro</td>\n",
       "      <td>2016-09-12 14:49:00</td>\n",
       "      <td>30.0</td>\n",
       "      <td>[Las Vegas,  NV]</td>\n",
       "      <td>NV</td>\n",
       "      <td>Las Vegas</td>\n",
       "    </tr>\n",
       "    <tr>\n",
       "      <th>3</th>\n",
       "      <td>4</td>\n",
       "      <td>5643</td>\n",
       "      <td>WFLA</td>\n",
       "      <td>Tampa-St. Petersburg, FL</td>\n",
       "      <td>Days of Our Lives</td>\n",
       "      <td>not news</td>\n",
       "      <td>2016-08-30 17:59:20</td>\n",
       "      <td>2016-08-30 17:59:50</td>\n",
       "      <td>PolAd_HillaryClinton_f1h3j</td>\n",
       "      <td>https://archive.org/embed/PolAd_HillaryClinton...</td>\n",
       "      <td>...</td>\n",
       "      <td>2016.0</td>\n",
       "      <td>Energy, China, Jobs</td>\n",
       "      <td>Hillary Clinton</td>\n",
       "      <td>campaign</td>\n",
       "      <td>pro</td>\n",
       "      <td>2016-09-12 14:49:00</td>\n",
       "      <td>30.0</td>\n",
       "      <td>[Tampa-St. Petersburg,  FL]</td>\n",
       "      <td>FL</td>\n",
       "      <td>Tampa-St. Petersburg</td>\n",
       "    </tr>\n",
       "    <tr>\n",
       "      <th>4</th>\n",
       "      <td>5</td>\n",
       "      <td>5643</td>\n",
       "      <td>KSNV</td>\n",
       "      <td>Las Vegas, NV</td>\n",
       "      <td>The Tonight Show Starring Jimmy Fallon</td>\n",
       "      <td>news</td>\n",
       "      <td>2016-09-06 07:02:22</td>\n",
       "      <td>2016-09-06 07:02:52</td>\n",
       "      <td>PolAd_HillaryClinton_f1h3j</td>\n",
       "      <td>https://archive.org/embed/PolAd_HillaryClinton...</td>\n",
       "      <td>...</td>\n",
       "      <td>2016.0</td>\n",
       "      <td>Energy, China, Jobs</td>\n",
       "      <td>Hillary Clinton</td>\n",
       "      <td>campaign</td>\n",
       "      <td>pro</td>\n",
       "      <td>2016-09-12 14:49:00</td>\n",
       "      <td>30.0</td>\n",
       "      <td>[Las Vegas,  NV]</td>\n",
       "      <td>NV</td>\n",
       "      <td>Las Vegas</td>\n",
       "    </tr>\n",
       "  </tbody>\n",
       "</table>\n",
       "<p>5 rows × 23 columns</p>\n",
       "</div>"
      ],
      "text/plain": [
       "   id  wp_identifier network                          location  \\\n",
       "0   1           5643    KLAS                     Las Vegas, NV   \n",
       "1   2           5643    WNCN  Raleigh-Durham-Fayetteville,  NC   \n",
       "2   3           5643    KLAS                     Las Vegas, NV   \n",
       "3   4           5643    WFLA          Tampa-St. Petersburg, FL   \n",
       "4   5           5643    KSNV                     Las Vegas, NV   \n",
       "\n",
       "                                  program program_type          start_time  \\\n",
       "0                      8 News Now at 5 PM         news 2016-09-09 00:12:59   \n",
       "1            North Carolina News at 500PM         news 2016-09-06 21:58:25   \n",
       "2                         Face the Nation         news 2016-09-04 16:24:25   \n",
       "3                       Days of Our Lives     not news 2016-08-30 17:59:20   \n",
       "4  The Tonight Show Starring Jimmy Fallon         news 2016-09-06 07:02:22   \n",
       "\n",
       "             end_time                  archive_id  \\\n",
       "0 2016-09-09 00:13:29  PolAd_HillaryClinton_f1h3j   \n",
       "1 2016-09-06 21:58:55  PolAd_HillaryClinton_f1h3j   \n",
       "2 2016-09-04 16:24:55  PolAd_HillaryClinton_f1h3j   \n",
       "3 2016-08-30 17:59:50  PolAd_HillaryClinton_f1h3j   \n",
       "4 2016-09-06 07:02:52  PolAd_HillaryClinton_f1h3j   \n",
       "\n",
       "                                           embed_url  \\\n",
       "0  https://archive.org/embed/PolAd_HillaryClinton...   \n",
       "1  https://archive.org/embed/PolAd_HillaryClinton...   \n",
       "2  https://archive.org/embed/PolAd_HillaryClinton...   \n",
       "3  https://archive.org/embed/PolAd_HillaryClinton...   \n",
       "4  https://archive.org/embed/PolAd_HillaryClinton...   \n",
       "\n",
       "              ...                cycle             subjects       candidates  \\\n",
       "0             ...               2016.0  Energy, China, Jobs  Hillary Clinton   \n",
       "1             ...               2016.0  Energy, China, Jobs  Hillary Clinton   \n",
       "2             ...               2016.0  Energy, China, Jobs  Hillary Clinton   \n",
       "3             ...               2016.0  Energy, China, Jobs  Hillary Clinton   \n",
       "4             ...               2016.0  Energy, China, Jobs  Hillary Clinton   \n",
       "\n",
       "       type message        date_created ad_duration_secs  \\\n",
       "0  campaign     pro 2016-09-12 14:49:00             30.0   \n",
       "1  campaign     pro 2016-09-12 14:49:00             30.0   \n",
       "2  campaign     pro 2016-09-12 14:49:00             30.0   \n",
       "3  campaign     pro 2016-09-12 14:49:00             30.0   \n",
       "4  campaign     pro 2016-09-12 14:49:00             30.0   \n",
       "\n",
       "                      metro_area_state state                   metro_area  \n",
       "0                     [Las Vegas,  NV]    NV                    Las Vegas  \n",
       "1  [Raleigh-Durham-Fayetteville,   NC]    NC  Raleigh-Durham-Fayetteville  \n",
       "2                     [Las Vegas,  NV]    NV                    Las Vegas  \n",
       "3          [Tampa-St. Petersburg,  FL]    FL         Tampa-St. Petersburg  \n",
       "4                     [Las Vegas,  NV]    NV                    Las Vegas  \n",
       "\n",
       "[5 rows x 23 columns]"
      ]
     },
     "execution_count": 119,
     "metadata": {},
     "output_type": "execute_result"
    }
   ],
   "source": [
    "#Read the entire dataset\n",
    "#Using date parser to convert all dates into datetime\n",
    "df_ad_state_metro_1 = pd.read_pickle('./data/TV_AD_AIRINGS_STATE_METRO_AREA_5.pkl')\n",
    "df_ad_state_metro_1.head(5)"
   ]
  },
  {
   "cell_type": "code",
   "execution_count": 120,
   "metadata": {
    "collapsed": false
   },
   "outputs": [
    {
     "data": {
      "text/plain": [
       "(85127, 23)"
      ]
     },
     "execution_count": 120,
     "metadata": {},
     "output_type": "execute_result"
    }
   ],
   "source": [
    "df_ad_state_metro_1.shape"
   ]
  },
  {
   "cell_type": "code",
   "execution_count": 121,
   "metadata": {
    "collapsed": false
   },
   "outputs": [
    {
     "data": {
      "text/plain": [
       "array(['NV', 'NC', 'FL', 'OH', 'IA', 'PA', 'CO', 'WI', 'National', 'AZ',\n",
       "       'NH', 'VA', 'NY'], dtype=object)"
      ]
     },
     "execution_count": 121,
     "metadata": {},
     "output_type": "execute_result"
    }
   ],
   "source": [
    "#Checking states again\n",
    "df_ad_state_metro_1['state'].unique()"
   ]
  },
  {
   "cell_type": "code",
   "execution_count": 122,
   "metadata": {
    "collapsed": false
   },
   "outputs": [],
   "source": [
    "#Removing 'NY' which has only 47 rows\n",
    "df_ad_state_metro_1 = df_ad_state_metro_1[df_ad_state_metro_1['state'] != 'NY']"
   ]
  },
  {
   "cell_type": "code",
   "execution_count": 123,
   "metadata": {
    "collapsed": false
   },
   "outputs": [
    {
     "data": {
      "text/plain": [
       "array(['NV', 'NC', 'FL', 'OH', 'IA', 'PA', 'CO', 'WI', 'National', 'AZ',\n",
       "       'NH', 'VA'], dtype=object)"
      ]
     },
     "execution_count": 123,
     "metadata": {},
     "output_type": "execute_result"
    }
   ],
   "source": [
    "df_ad_state_metro_1['state'].unique()"
   ]
  },
  {
   "cell_type": "markdown",
   "metadata": {},
   "source": [
    "#Expected rows in the new dataset\n",
    "85127-47  = 85080"
   ]
  },
  {
   "cell_type": "code",
   "execution_count": 124,
   "metadata": {
    "collapsed": false
   },
   "outputs": [
    {
     "data": {
      "text/plain": [
       "(85080, 23)"
      ]
     },
     "execution_count": 124,
     "metadata": {},
     "output_type": "execute_result"
    }
   ],
   "source": [
    "##confirmed that after dropping NY, there are 85080 rows\n",
    "df_ad_state_metro_1.shape"
   ]
  },
  {
   "cell_type": "code",
   "execution_count": 128,
   "metadata": {
    "collapsed": false
   },
   "outputs": [
    {
     "data": {
      "image/png": "[encoded data removed]",
      "text/plain": [
       "<matplotlib.figure.Figure at 0x11807a4a8>"
      ]
     },
     "metadata": {},
     "output_type": "display_data"
    }
   ],
   "source": [
    "#First plot\n",
    "#Number of ads by state\n",
    "\n",
    "df_ad_state_metro_1['state'].value_counts().plot(kind='bar')\n",
    "plt.title(\"Ad Counts By State\")\n",
    "plt.ylabel(\"Total Ads Shown\")\n",
    "plt.xlabel(\"States\")\n",
    "plt.savefig('ana_final_pics/Count_of_ads_by_state.png')"
   ]
  },
  {
   "cell_type": "code",
   "execution_count": 129,
   "metadata": {
    "collapsed": false
   },
   "outputs": [
    {
     "data": {
      "text/plain": [
       "array([  30.,   93.,   36.,   89.,   57.,   80.,   15.,   70.,   60.,\n",
       "         68.,   42.,   43.,   38.,   45.,   63.,   28.,   86.,   69.,\n",
       "         81.,   59.,   31.,  105.,  103.,  118.,   88.,   19.,   76.,\n",
       "         61.,   79.,   32.,   29.,   71.,  125.,  137.,  124.,   67.,\n",
       "         56.,   55.,   33.,   94.,   37.,   91.,   35.,   87.,   65.,\n",
       "         66.,   50.,  184.,   97.,   54.,  180.,  140.,  161.,   18.,\n",
       "         40.,   83.,   78.,   84.,   85.,   62.,  120.,   75.])"
      ]
     },
     "execution_count": 129,
     "metadata": {},
     "output_type": "execute_result"
    }
   ],
   "source": [
    "#Checking the variability in ad duration to see if we need to consider it to \n",
    "#determine ad volume\n",
    "df_ad_state_metro_1['ad_duration_secs'].unique()"
   ]
  },
  {
   "cell_type": "code",
   "execution_count": 131,
   "metadata": {
    "collapsed": false
   },
   "outputs": [
    {
     "data": {
      "text/plain": [
       "2823972.0"
      ]
     },
     "execution_count": 131,
     "metadata": {},
     "output_type": "execute_result"
    }
   ],
   "source": [
    "df_ad_state_metro_1['ad_duration_secs'].sum()"
   ]
  },
  {
   "cell_type": "code",
   "execution_count": 11,
   "metadata": {
    "collapsed": false
   },
   "outputs": [
    {
     "data": {
      "text/plain": [
       "30.0     65852\n",
       "60.0      5848\n",
       "29.0      4881\n",
       "31.0      2666\n",
       "32.0      2539\n",
       "15.0       840\n",
       "62.0       558\n",
       "61.0       294\n",
       "84.0       232\n",
       "91.0       193\n",
       "120.0      141\n",
       "63.0       115\n",
       "37.0       108\n",
       "85.0        91\n",
       "54.0        85\n",
       "70.0        62\n",
       "93.0        57\n",
       "36.0        53\n",
       "81.0        44\n",
       "75.0        38\n",
       "124.0       33\n",
       "55.0        25\n",
       "69.0        24\n",
       "43.0        22\n",
       "180.0       21\n",
       "65.0        20\n",
       "88.0        19\n",
       "89.0        18\n",
       "19.0        18\n",
       "57.0        16\n",
       "         ...  \n",
       "45.0        13\n",
       "67.0        12\n",
       "40.0        12\n",
       "161.0       10\n",
       "97.0         8\n",
       "68.0         7\n",
       "76.0         6\n",
       "137.0        6\n",
       "59.0         6\n",
       "33.0         6\n",
       "71.0         5\n",
       "35.0         5\n",
       "140.0        5\n",
       "28.0         5\n",
       "125.0        4\n",
       "56.0         4\n",
       "83.0         3\n",
       "94.0         3\n",
       "105.0        3\n",
       "184.0        3\n",
       "103.0        2\n",
       "42.0         2\n",
       "87.0         2\n",
       "78.0         1\n",
       "50.0         1\n",
       "18.0         1\n",
       "66.0         1\n",
       "38.0         1\n",
       "79.0         1\n",
       "80.0         1\n",
       "Name: ad_duration_secs, dtype: int64"
      ]
     },
     "execution_count": 11,
     "metadata": {},
     "output_type": "execute_result"
    }
   ],
   "source": [
    "df_ad_state_metro_1['ad_duration_secs'].value_counts()\n",
    "#Since there are ads with varying duration, will have to include duration "
   ]
  },
  {
   "cell_type": "code",
   "execution_count": 132,
   "metadata": {
    "collapsed": false
   },
   "outputs": [],
   "source": [
    "\n",
    "#Since there are ads with varying duration, will have to include duration \n",
    "df_ad_state_metro_2 = df_ad_state_metro_1.copy().groupby('state')['ad_duration_secs'].sum().reset_index()\n",
    "df_ad_state_metro_2.sort_values('ad_duration_secs', ascending=False, inplace=True)"
   ]
  },
  {
   "cell_type": "code",
   "execution_count": 13,
   "metadata": {
    "collapsed": false
   },
   "outputs": [
    {
     "data": {
      "text/html": [
       "<div>\n",
       "<table border=\"1\" class=\"dataframe\">\n",
       "  <thead>\n",
       "    <tr style=\"text-align: right;\">\n",
       "      <th></th>\n",
       "      <th>state</th>\n",
       "      <th>ad_duration_secs</th>\n",
       "    </tr>\n",
       "  </thead>\n",
       "  <tbody>\n",
       "    <tr>\n",
       "      <th>2</th>\n",
       "      <td>FL</td>\n",
       "      <td>434766.0</td>\n",
       "    </tr>\n",
       "    <tr>\n",
       "      <th>9</th>\n",
       "      <td>PA</td>\n",
       "      <td>387274.0</td>\n",
       "    </tr>\n",
       "    <tr>\n",
       "      <th>6</th>\n",
       "      <td>NV</td>\n",
       "      <td>370905.0</td>\n",
       "    </tr>\n",
       "    <tr>\n",
       "      <th>8</th>\n",
       "      <td>OH</td>\n",
       "      <td>351404.0</td>\n",
       "    </tr>\n",
       "    <tr>\n",
       "      <th>7</th>\n",
       "      <td>National</td>\n",
       "      <td>279262.0</td>\n",
       "    </tr>\n",
       "    <tr>\n",
       "      <th>4</th>\n",
       "      <td>NC</td>\n",
       "      <td>214829.0</td>\n",
       "    </tr>\n",
       "    <tr>\n",
       "      <th>3</th>\n",
       "      <td>IA</td>\n",
       "      <td>179859.0</td>\n",
       "    </tr>\n",
       "    <tr>\n",
       "      <th>5</th>\n",
       "      <td>NH</td>\n",
       "      <td>161872.0</td>\n",
       "    </tr>\n",
       "    <tr>\n",
       "      <th>1</th>\n",
       "      <td>CO</td>\n",
       "      <td>152241.0</td>\n",
       "    </tr>\n",
       "    <tr>\n",
       "      <th>11</th>\n",
       "      <td>WI</td>\n",
       "      <td>132487.0</td>\n",
       "    </tr>\n",
       "    <tr>\n",
       "      <th>0</th>\n",
       "      <td>AZ</td>\n",
       "      <td>107263.0</td>\n",
       "    </tr>\n",
       "    <tr>\n",
       "      <th>10</th>\n",
       "      <td>VA</td>\n",
       "      <td>51810.0</td>\n",
       "    </tr>\n",
       "  </tbody>\n",
       "</table>\n",
       "</div>"
      ],
      "text/plain": [
       "       state  ad_duration_secs\n",
       "2         FL          434766.0\n",
       "9         PA          387274.0\n",
       "6         NV          370905.0\n",
       "8         OH          351404.0\n",
       "7   National          279262.0\n",
       "4         NC          214829.0\n",
       "3         IA          179859.0\n",
       "5         NH          161872.0\n",
       "1         CO          152241.0\n",
       "11        WI          132487.0\n",
       "0         AZ          107263.0\n",
       "10        VA           51810.0"
      ]
     },
     "execution_count": 13,
     "metadata": {},
     "output_type": "execute_result"
    }
   ],
   "source": [
    "df_ad_state_metro_2"
   ]
  },
  {
   "cell_type": "code",
   "execution_count": 133,
   "metadata": {
    "collapsed": true
   },
   "outputs": [],
   "source": [
    "#Adding new column for total hours of ad time per state\n",
    "df_ad_state_metro_2['ad_duration_hours'] = df_ad_state_metro_2['ad_duration_secs']/3600"
   ]
  },
  {
   "cell_type": "code",
   "execution_count": 134,
   "metadata": {
    "collapsed": false
   },
   "outputs": [
    {
     "data": {
      "text/html": [
       "<div>\n",
       "<table border=\"1\" class=\"dataframe\">\n",
       "  <thead>\n",
       "    <tr style=\"text-align: right;\">\n",
       "      <th></th>\n",
       "      <th>state</th>\n",
       "      <th>ad_duration_secs</th>\n",
       "      <th>ad_duration_hours</th>\n",
       "    </tr>\n",
       "  </thead>\n",
       "  <tbody>\n",
       "    <tr>\n",
       "      <th>2</th>\n",
       "      <td>FL</td>\n",
       "      <td>434766.0</td>\n",
       "      <td>120.768333</td>\n",
       "    </tr>\n",
       "    <tr>\n",
       "      <th>9</th>\n",
       "      <td>PA</td>\n",
       "      <td>387274.0</td>\n",
       "      <td>107.576111</td>\n",
       "    </tr>\n",
       "    <tr>\n",
       "      <th>6</th>\n",
       "      <td>NV</td>\n",
       "      <td>370905.0</td>\n",
       "      <td>103.029167</td>\n",
       "    </tr>\n",
       "    <tr>\n",
       "      <th>8</th>\n",
       "      <td>OH</td>\n",
       "      <td>351404.0</td>\n",
       "      <td>97.612222</td>\n",
       "    </tr>\n",
       "    <tr>\n",
       "      <th>7</th>\n",
       "      <td>National</td>\n",
       "      <td>279262.0</td>\n",
       "      <td>77.572778</td>\n",
       "    </tr>\n",
       "    <tr>\n",
       "      <th>4</th>\n",
       "      <td>NC</td>\n",
       "      <td>214829.0</td>\n",
       "      <td>59.674722</td>\n",
       "    </tr>\n",
       "    <tr>\n",
       "      <th>3</th>\n",
       "      <td>IA</td>\n",
       "      <td>179859.0</td>\n",
       "      <td>49.960833</td>\n",
       "    </tr>\n",
       "    <tr>\n",
       "      <th>5</th>\n",
       "      <td>NH</td>\n",
       "      <td>161872.0</td>\n",
       "      <td>44.964444</td>\n",
       "    </tr>\n",
       "    <tr>\n",
       "      <th>1</th>\n",
       "      <td>CO</td>\n",
       "      <td>152241.0</td>\n",
       "      <td>42.289167</td>\n",
       "    </tr>\n",
       "    <tr>\n",
       "      <th>11</th>\n",
       "      <td>WI</td>\n",
       "      <td>132487.0</td>\n",
       "      <td>36.801944</td>\n",
       "    </tr>\n",
       "    <tr>\n",
       "      <th>0</th>\n",
       "      <td>AZ</td>\n",
       "      <td>107263.0</td>\n",
       "      <td>29.795278</td>\n",
       "    </tr>\n",
       "    <tr>\n",
       "      <th>10</th>\n",
       "      <td>VA</td>\n",
       "      <td>51810.0</td>\n",
       "      <td>14.391667</td>\n",
       "    </tr>\n",
       "  </tbody>\n",
       "</table>\n",
       "</div>"
      ],
      "text/plain": [
       "       state  ad_duration_secs  ad_duration_hours\n",
       "2         FL          434766.0         120.768333\n",
       "9         PA          387274.0         107.576111\n",
       "6         NV          370905.0         103.029167\n",
       "8         OH          351404.0          97.612222\n",
       "7   National          279262.0          77.572778\n",
       "4         NC          214829.0          59.674722\n",
       "3         IA          179859.0          49.960833\n",
       "5         NH          161872.0          44.964444\n",
       "1         CO          152241.0          42.289167\n",
       "11        WI          132487.0          36.801944\n",
       "0         AZ          107263.0          29.795278\n",
       "10        VA           51810.0          14.391667"
      ]
     },
     "execution_count": 134,
     "metadata": {},
     "output_type": "execute_result"
    }
   ],
   "source": [
    "df_ad_state_metro_2"
   ]
  },
  {
   "cell_type": "code",
   "execution_count": 135,
   "metadata": {
    "collapsed": true
   },
   "outputs": [],
   "source": [
    "#Rounding to two decimal places\n",
    "df_ad_state_metro_2['ad_duration_hours'] = round(df_ad_state_metro_2['ad_duration_secs']/3600,2)"
   ]
  },
  {
   "cell_type": "code",
   "execution_count": 136,
   "metadata": {
    "collapsed": false
   },
   "outputs": [
    {
     "data": {
      "text/html": [
       "<div>\n",
       "<table border=\"1\" class=\"dataframe\">\n",
       "  <thead>\n",
       "    <tr style=\"text-align: right;\">\n",
       "      <th></th>\n",
       "      <th>state</th>\n",
       "      <th>ad_duration_secs</th>\n",
       "      <th>ad_duration_hours</th>\n",
       "    </tr>\n",
       "  </thead>\n",
       "  <tbody>\n",
       "    <tr>\n",
       "      <th>2</th>\n",
       "      <td>FL</td>\n",
       "      <td>434766.0</td>\n",
       "      <td>120.77</td>\n",
       "    </tr>\n",
       "    <tr>\n",
       "      <th>9</th>\n",
       "      <td>PA</td>\n",
       "      <td>387274.0</td>\n",
       "      <td>107.58</td>\n",
       "    </tr>\n",
       "    <tr>\n",
       "      <th>6</th>\n",
       "      <td>NV</td>\n",
       "      <td>370905.0</td>\n",
       "      <td>103.03</td>\n",
       "    </tr>\n",
       "    <tr>\n",
       "      <th>8</th>\n",
       "      <td>OH</td>\n",
       "      <td>351404.0</td>\n",
       "      <td>97.61</td>\n",
       "    </tr>\n",
       "    <tr>\n",
       "      <th>7</th>\n",
       "      <td>National</td>\n",
       "      <td>279262.0</td>\n",
       "      <td>77.57</td>\n",
       "    </tr>\n",
       "    <tr>\n",
       "      <th>4</th>\n",
       "      <td>NC</td>\n",
       "      <td>214829.0</td>\n",
       "      <td>59.67</td>\n",
       "    </tr>\n",
       "    <tr>\n",
       "      <th>3</th>\n",
       "      <td>IA</td>\n",
       "      <td>179859.0</td>\n",
       "      <td>49.96</td>\n",
       "    </tr>\n",
       "    <tr>\n",
       "      <th>5</th>\n",
       "      <td>NH</td>\n",
       "      <td>161872.0</td>\n",
       "      <td>44.96</td>\n",
       "    </tr>\n",
       "    <tr>\n",
       "      <th>1</th>\n",
       "      <td>CO</td>\n",
       "      <td>152241.0</td>\n",
       "      <td>42.29</td>\n",
       "    </tr>\n",
       "    <tr>\n",
       "      <th>11</th>\n",
       "      <td>WI</td>\n",
       "      <td>132487.0</td>\n",
       "      <td>36.80</td>\n",
       "    </tr>\n",
       "    <tr>\n",
       "      <th>0</th>\n",
       "      <td>AZ</td>\n",
       "      <td>107263.0</td>\n",
       "      <td>29.80</td>\n",
       "    </tr>\n",
       "    <tr>\n",
       "      <th>10</th>\n",
       "      <td>VA</td>\n",
       "      <td>51810.0</td>\n",
       "      <td>14.39</td>\n",
       "    </tr>\n",
       "  </tbody>\n",
       "</table>\n",
       "</div>"
      ],
      "text/plain": [
       "       state  ad_duration_secs  ad_duration_hours\n",
       "2         FL          434766.0             120.77\n",
       "9         PA          387274.0             107.58\n",
       "6         NV          370905.0             103.03\n",
       "8         OH          351404.0              97.61\n",
       "7   National          279262.0              77.57\n",
       "4         NC          214829.0              59.67\n",
       "3         IA          179859.0              49.96\n",
       "5         NH          161872.0              44.96\n",
       "1         CO          152241.0              42.29\n",
       "11        WI          132487.0              36.80\n",
       "0         AZ          107263.0              29.80\n",
       "10        VA           51810.0              14.39"
      ]
     },
     "execution_count": 136,
     "metadata": {},
     "output_type": "execute_result"
    }
   ],
   "source": [
    "df_ad_state_metro_2"
   ]
  },
  {
   "cell_type": "code",
   "execution_count": 137,
   "metadata": {
    "collapsed": false
   },
   "outputs": [
    {
     "data": {
      "image/png": "[encoded data removed]",
      "text/plain": [
       "<matplotlib.figure.Figure at 0x122746080>"
      ]
     },
     "metadata": {},
     "output_type": "display_data"
    }
   ],
   "source": [
    "df_ad_state_metro_2.plot(x='state', y='ad_duration_hours', kind='bar')\n",
    "plt.title(\"Volume of ads by state\")\n",
    "plt.ylabel(\"Total Ad Volume in Hours\")\n",
    "plt.xlabel(\"State\")\n",
    "plt.savefig('ana_final_pics/Volume_of_ads_by_state.png')"
   ]
  },
  {
   "cell_type": "markdown",
   "metadata": {},
   "source": [
    "From above, it is known that the states line up in the same order in terms of count of ads and total duration of ads."
   ]
  },
  {
   "cell_type": "code",
   "execution_count": 170,
   "metadata": {
    "collapsed": false
   },
   "outputs": [
    {
     "data": {
      "image/png": "[encoded data removed]",
      "text/plain": [
       "<matplotlib.figure.Figure at 0x126a061d0>"
      ]
     },
     "metadata": {},
     "output_type": "display_data"
    }
   ],
   "source": [
    "#No need to do a group by for a simple count of values in a field\n",
    "df_ad_state_metro_1['message'].value_counts().plot(kind='bar')\n",
    "plt.title(\"Ad Counts by Message types\")\n",
    "plt.ylabel(\"Ad counts\")\n",
    "plt.savefig('ana_final_pics/ad_count_by_message_type.png')"
   ]
  },
  {
   "cell_type": "code",
   "execution_count": 19,
   "metadata": {
    "collapsed": false
   },
   "outputs": [
    {
     "data": {
      "text/plain": [
       "Donald Trump                                                                                               40988\n",
       "Hillary Clinton                                                                                            21707\n",
       "Donald Trump, Hillary Clinton                                                                              20763\n",
       "Marco Rubio, Patrick Murphy                                                                                  552\n",
       "Marco Rubio                                                                                                  348\n",
       "Donald Trump, Gary Johnson, Gary Johnson, Hillary Clinton                                                    274\n",
       "Donald Trump, Rob Portman, Ted Strickland                                                                    259\n",
       "Gary Johnson, Gary Johnson                                                                                    78\n",
       "Alan Grayson, Hillary Clinton, Marco Rubio, Pat Murphy                                                        66\n",
       "Donald Trump, John McCain, Kelly Ayotte, Marco Rubio, Richard Burr, Rob Portman, Ron Johnson, Roy Blunt       19\n",
       "Donald Trump, John McCain                                                                                      8\n",
       "Donald Trump, Gary Johnson, Gary Johnson                                                                       5\n",
       "Ann Kirkpatrick, Donald Trump, John McCain                                                                     5\n",
       "Jill Stein                                                                                                     3\n",
       "Hillary Clinton, Tim Kaine                                                                                     3\n",
       "Catherine Cortez Masto, Hillary Clinton, Katie McGinty, Patrick Murphy, Ted Strickland                         2\n",
       "Name: candidates, dtype: int64"
      ]
     },
     "execution_count": 19,
     "metadata": {},
     "output_type": "execute_result"
    }
   ],
   "source": [
    "#Looking up candidates remaining in the dataset. Expecting to get \n",
    "#Hillary Clinton,Donald Trump, Jill Stein & Gary Johnson since this is after 8/1/2016.\n",
    "#But find others clubbed along. Need to investigate this\n",
    "df_ad_state_metro_1['candidates'].value_counts()"
   ]
  },
  {
   "cell_type": "code",
   "execution_count": 20,
   "metadata": {
    "collapsed": false
   },
   "outputs": [
    {
     "data": {
      "text/html": [
       "<div>\n",
       "<table border=\"1\" class=\"dataframe\">\n",
       "  <thead>\n",
       "    <tr style=\"text-align: right;\">\n",
       "      <th></th>\n",
       "      <th>id</th>\n",
       "      <th>wp_identifier</th>\n",
       "      <th>network</th>\n",
       "      <th>location</th>\n",
       "      <th>program</th>\n",
       "      <th>program_type</th>\n",
       "      <th>start_time</th>\n",
       "      <th>end_time</th>\n",
       "      <th>archive_id</th>\n",
       "      <th>embed_url</th>\n",
       "      <th>...</th>\n",
       "      <th>cycle</th>\n",
       "      <th>subjects</th>\n",
       "      <th>candidates</th>\n",
       "      <th>type</th>\n",
       "      <th>message</th>\n",
       "      <th>date_created</th>\n",
       "      <th>ad_duration_secs</th>\n",
       "      <th>metro_area_state</th>\n",
       "      <th>state</th>\n",
       "      <th>metro_area</th>\n",
       "    </tr>\n",
       "  </thead>\n",
       "  <tbody>\n",
       "    <tr>\n",
       "      <th>4226</th>\n",
       "      <td>5538</td>\n",
       "      <td>5183</td>\n",
       "      <td>KFXA</td>\n",
       "      <td>Ceder Rapids-Waterloo-Iowa City-Dublin, Iowa</td>\n",
       "      <td>Panther Sports Talk</td>\n",
       "      <td>not news</td>\n",
       "      <td>2016-09-10 03:29:45</td>\n",
       "      <td>2016-09-10 03:30:15</td>\n",
       "      <td>PolAd_HillaryClinton_DonaldTrump_o5dtl</td>\n",
       "      <td>https://archive.org/embed/PolAd_HillaryClinton...</td>\n",
       "      <td>...</td>\n",
       "      <td>2016.0</td>\n",
       "      <td>Economy, Jobs, Federal Budget, Taxes, Families</td>\n",
       "      <td>Donald Trump, Hillary Clinton</td>\n",
       "      <td>campaign</td>\n",
       "      <td>mixed</td>\n",
       "      <td>2016-09-12 14:49:00</td>\n",
       "      <td>30.0</td>\n",
       "      <td>[Ceder Rapids-Waterloo-Iowa City-Dublin,  Iowa]</td>\n",
       "      <td>IA</td>\n",
       "      <td>Ceder Rapids-Waterloo-Iowa City-Dublin</td>\n",
       "    </tr>\n",
       "    <tr>\n",
       "      <th>4227</th>\n",
       "      <td>5539</td>\n",
       "      <td>5183</td>\n",
       "      <td>KSNV</td>\n",
       "      <td>Las Vegas, NV</td>\n",
       "      <td>Today</td>\n",
       "      <td>news</td>\n",
       "      <td>2016-09-09 09:40:47</td>\n",
       "      <td>2016-09-09 09:41:17</td>\n",
       "      <td>PolAd_HillaryClinton_DonaldTrump_o5dtl</td>\n",
       "      <td>https://archive.org/embed/PolAd_HillaryClinton...</td>\n",
       "      <td>...</td>\n",
       "      <td>2016.0</td>\n",
       "      <td>Economy, Jobs, Federal Budget, Taxes, Families</td>\n",
       "      <td>Donald Trump, Hillary Clinton</td>\n",
       "      <td>campaign</td>\n",
       "      <td>mixed</td>\n",
       "      <td>2016-09-12 14:49:00</td>\n",
       "      <td>30.0</td>\n",
       "      <td>[Las Vegas,  NV]</td>\n",
       "      <td>NV</td>\n",
       "      <td>Las Vegas</td>\n",
       "    </tr>\n",
       "    <tr>\n",
       "      <th>4228</th>\n",
       "      <td>5540</td>\n",
       "      <td>5183</td>\n",
       "      <td>KTNV</td>\n",
       "      <td>Las Vegas, NV</td>\n",
       "      <td>World News Now</td>\n",
       "      <td>news</td>\n",
       "      <td>2016-09-09 09:59:13</td>\n",
       "      <td>2016-09-09 09:59:43</td>\n",
       "      <td>PolAd_HillaryClinton_DonaldTrump_o5dtl</td>\n",
       "      <td>https://archive.org/embed/PolAd_HillaryClinton...</td>\n",
       "      <td>...</td>\n",
       "      <td>2016.0</td>\n",
       "      <td>Economy, Jobs, Federal Budget, Taxes, Families</td>\n",
       "      <td>Donald Trump, Hillary Clinton</td>\n",
       "      <td>campaign</td>\n",
       "      <td>mixed</td>\n",
       "      <td>2016-09-12 14:49:00</td>\n",
       "      <td>30.0</td>\n",
       "      <td>[Las Vegas,  NV]</td>\n",
       "      <td>NV</td>\n",
       "      <td>Las Vegas</td>\n",
       "    </tr>\n",
       "    <tr>\n",
       "      <th>4229</th>\n",
       "      <td>5541</td>\n",
       "      <td>5183</td>\n",
       "      <td>WNCN</td>\n",
       "      <td>Raleigh-Durham-Fayetteville,  NC</td>\n",
       "      <td>North Carolina News at 500PM</td>\n",
       "      <td>news</td>\n",
       "      <td>2016-08-30 21:49:29</td>\n",
       "      <td>2016-08-30 21:49:59</td>\n",
       "      <td>PolAd_HillaryClinton_DonaldTrump_o5dtl</td>\n",
       "      <td>https://archive.org/embed/PolAd_HillaryClinton...</td>\n",
       "      <td>...</td>\n",
       "      <td>2016.0</td>\n",
       "      <td>Economy, Jobs, Federal Budget, Taxes, Families</td>\n",
       "      <td>Donald Trump, Hillary Clinton</td>\n",
       "      <td>campaign</td>\n",
       "      <td>mixed</td>\n",
       "      <td>2016-09-12 14:49:00</td>\n",
       "      <td>30.0</td>\n",
       "      <td>[Raleigh-Durham-Fayetteville,   NC]</td>\n",
       "      <td>NC</td>\n",
       "      <td>Raleigh-Durham-Fayetteville</td>\n",
       "    </tr>\n",
       "    <tr>\n",
       "      <th>4230</th>\n",
       "      <td>5542</td>\n",
       "      <td>5183</td>\n",
       "      <td>KSNV</td>\n",
       "      <td>Las Vegas, NV</td>\n",
       "      <td>News 3 Live Today</td>\n",
       "      <td>news</td>\n",
       "      <td>2016-09-09 11:58:05</td>\n",
       "      <td>2016-09-09 11:58:35</td>\n",
       "      <td>PolAd_HillaryClinton_DonaldTrump_o5dtl</td>\n",
       "      <td>https://archive.org/embed/PolAd_HillaryClinton...</td>\n",
       "      <td>...</td>\n",
       "      <td>2016.0</td>\n",
       "      <td>Economy, Jobs, Federal Budget, Taxes, Families</td>\n",
       "      <td>Donald Trump, Hillary Clinton</td>\n",
       "      <td>campaign</td>\n",
       "      <td>mixed</td>\n",
       "      <td>2016-09-12 14:49:00</td>\n",
       "      <td>30.0</td>\n",
       "      <td>[Las Vegas,  NV]</td>\n",
       "      <td>NV</td>\n",
       "      <td>Las Vegas</td>\n",
       "    </tr>\n",
       "  </tbody>\n",
       "</table>\n",
       "<p>5 rows × 23 columns</p>\n",
       "</div>"
      ],
      "text/plain": [
       "        id  wp_identifier network  \\\n",
       "4226  5538           5183    KFXA   \n",
       "4227  5539           5183    KSNV   \n",
       "4228  5540           5183    KTNV   \n",
       "4229  5541           5183    WNCN   \n",
       "4230  5542           5183    KSNV   \n",
       "\n",
       "                                          location  \\\n",
       "4226  Ceder Rapids-Waterloo-Iowa City-Dublin, Iowa   \n",
       "4227                                 Las Vegas, NV   \n",
       "4228                                 Las Vegas, NV   \n",
       "4229              Raleigh-Durham-Fayetteville,  NC   \n",
       "4230                                 Las Vegas, NV   \n",
       "\n",
       "                           program program_type          start_time  \\\n",
       "4226           Panther Sports Talk     not news 2016-09-10 03:29:45   \n",
       "4227                         Today         news 2016-09-09 09:40:47   \n",
       "4228                World News Now         news 2016-09-09 09:59:13   \n",
       "4229  North Carolina News at 500PM         news 2016-08-30 21:49:29   \n",
       "4230             News 3 Live Today         news 2016-09-09 11:58:05   \n",
       "\n",
       "                end_time                              archive_id  \\\n",
       "4226 2016-09-10 03:30:15  PolAd_HillaryClinton_DonaldTrump_o5dtl   \n",
       "4227 2016-09-09 09:41:17  PolAd_HillaryClinton_DonaldTrump_o5dtl   \n",
       "4228 2016-09-09 09:59:43  PolAd_HillaryClinton_DonaldTrump_o5dtl   \n",
       "4229 2016-08-30 21:49:59  PolAd_HillaryClinton_DonaldTrump_o5dtl   \n",
       "4230 2016-09-09 11:58:35  PolAd_HillaryClinton_DonaldTrump_o5dtl   \n",
       "\n",
       "                                              embed_url  \\\n",
       "4226  https://archive.org/embed/PolAd_HillaryClinton...   \n",
       "4227  https://archive.org/embed/PolAd_HillaryClinton...   \n",
       "4228  https://archive.org/embed/PolAd_HillaryClinton...   \n",
       "4229  https://archive.org/embed/PolAd_HillaryClinton...   \n",
       "4230  https://archive.org/embed/PolAd_HillaryClinton...   \n",
       "\n",
       "                       ...                     cycle  \\\n",
       "4226                   ...                    2016.0   \n",
       "4227                   ...                    2016.0   \n",
       "4228                   ...                    2016.0   \n",
       "4229                   ...                    2016.0   \n",
       "4230                   ...                    2016.0   \n",
       "\n",
       "                                            subjects  \\\n",
       "4226  Economy, Jobs, Federal Budget, Taxes, Families   \n",
       "4227  Economy, Jobs, Federal Budget, Taxes, Families   \n",
       "4228  Economy, Jobs, Federal Budget, Taxes, Families   \n",
       "4229  Economy, Jobs, Federal Budget, Taxes, Families   \n",
       "4230  Economy, Jobs, Federal Budget, Taxes, Families   \n",
       "\n",
       "                         candidates      type message        date_created  \\\n",
       "4226  Donald Trump, Hillary Clinton  campaign   mixed 2016-09-12 14:49:00   \n",
       "4227  Donald Trump, Hillary Clinton  campaign   mixed 2016-09-12 14:49:00   \n",
       "4228  Donald Trump, Hillary Clinton  campaign   mixed 2016-09-12 14:49:00   \n",
       "4229  Donald Trump, Hillary Clinton  campaign   mixed 2016-09-12 14:49:00   \n",
       "4230  Donald Trump, Hillary Clinton  campaign   mixed 2016-09-12 14:49:00   \n",
       "\n",
       "     ad_duration_secs                                 metro_area_state state  \\\n",
       "4226             30.0  [Ceder Rapids-Waterloo-Iowa City-Dublin,  Iowa]    IA   \n",
       "4227             30.0                                 [Las Vegas,  NV]    NV   \n",
       "4228             30.0                                 [Las Vegas,  NV]    NV   \n",
       "4229             30.0              [Raleigh-Durham-Fayetteville,   NC]    NC   \n",
       "4230             30.0                                 [Las Vegas,  NV]    NV   \n",
       "\n",
       "                                  metro_area  \n",
       "4226  Ceder Rapids-Waterloo-Iowa City-Dublin  \n",
       "4227                               Las Vegas  \n",
       "4228                               Las Vegas  \n",
       "4229             Raleigh-Durham-Fayetteville  \n",
       "4230                               Las Vegas  \n",
       "\n",
       "[5 rows x 23 columns]"
      ]
     },
     "execution_count": 20,
     "metadata": {},
     "output_type": "execute_result"
    }
   ],
   "source": [
    "#Researching ads where both candidates are there \n",
    "df_ad_state_metro_1[df_ad_state_metro_1['candidates'] =='Donald Trump, Hillary Clinton'].head(5)"
   ]
  },
  {
   "cell_type": "markdown",
   "metadata": {},
   "source": [
    "Used the archive_id to view one of the ads where the candidates is 'Donald Trump, Hillary Clinton' and \n",
    "found that it was an ad by Donald Trump. So cannot go by candidates. Instead will have to go by sponsor and sponsortype.The field 'candidates' merely says the names of candidates mentioned in the ad.\n"
   ]
  },
  {
   "cell_type": "code",
   "execution_count": 21,
   "metadata": {
    "collapsed": false
   },
   "outputs": [
    {
     "data": {
      "text/plain": [
       "Hillary for America                     37555\n",
       "Donald J Trump For President            22393\n",
       "Priorities USA Action                   11199\n",
       "Rebuilding America Now                   2408\n",
       "NextGen California Action Committee      1767\n",
       "Women Vote!                              1102\n",
       "Future45                                  960\n",
       "NRA Institute for Legislative Action      791\n",
       "Reform America Fund                       778\n",
       "45 Committee                              766\n",
       "National Rifle Assn                       634\n",
       "Friends of Patrick Murphy                 553\n",
       "Donald J. Trump For President             520\n",
       "Internet Archive                          511\n",
       "Stop Hillary PAC                          470\n",
       "Great America PAC                         453\n",
       "Marco Rubio For Senate 2016               412\n",
       "MoveOn.org                                409\n",
       "Purple PAC                                274\n",
       "Strickland for Senate                     259\n",
       "Democratic National Cmte                  206\n",
       "Correct The Record                        120\n",
       "American Bridge 21st Century               97\n",
       "Gary Johnson 2016                          82\n",
       "Republican National Cmte                   72\n",
       "iAmerica Action                            58\n",
       "America Rising PAC                         44\n",
       "Ready for Hillary                          32\n",
       "Hillary Victory Fund                       28\n",
       "NextGen Climate Action                     24\n",
       "Save the Day PAC                           21\n",
       "Democratic Senatorial Campaign Cmte        19\n",
       "Make America Number One                    18\n",
       "Kirkpatrick For Senate                     13\n",
       "Fifty Second Street Fund                    7\n",
       "Reclaim America PAC                         6\n",
       "Victory 2016 Committee                      5\n",
       "Jill Stein for President                    3\n",
       "Local Voices                                3\n",
       "National Republican Senatorial Cmte         2\n",
       "Free the Delegates                          2\n",
       "Fenton Communications Inc                   1\n",
       "NARAL Pro-Choice America                    1\n",
       "American Crossroads                         1\n",
       "Our Principles PAC                          1\n",
       "Name: sponsors, dtype: int64"
      ]
     },
     "execution_count": 21,
     "metadata": {},
     "output_type": "execute_result"
    }
   ],
   "source": [
    "#Investigating sponsor\n",
    "df_ad_state_metro_1['sponsors'].value_counts()"
   ]
  },
  {
   "cell_type": "markdown",
   "metadata": {
    "collapsed": true
   },
   "source": [
    "From above it seems like sponsor field will lead us to who the ad was for."
   ]
  },
  {
   "cell_type": "code",
   "execution_count": 22,
   "metadata": {
    "collapsed": false
   },
   "outputs": [
    {
     "data": {
      "text/plain": [
       "Multiple                       37579\n",
       "Candidate Committee            23715\n",
       "Super PAC                      18688\n",
       "Non Profit                      1615\n",
       "Hybrid Super PAC                1452\n",
       "Unknown                         1063\n",
       "PAC                              939\n",
       "Joint Fundraising Committee       28\n",
       "Corporation                        1\n",
       "Name: sponsor_types, dtype: int64"
      ]
     },
     "execution_count": 22,
     "metadata": {},
     "output_type": "execute_result"
    }
   ],
   "source": [
    "#Investigating sponsor_types\n",
    "df_ad_state_metro_1['sponsor_types'].value_counts()"
   ]
  },
  {
   "cell_type": "code",
   "execution_count": 139,
   "metadata": {
    "collapsed": false
   },
   "outputs": [
    {
     "data": {
      "image/png": "[encoded data removed]",
      "text/plain": [
       "<matplotlib.figure.Figure at 0x12ba0c898>"
      ]
     },
     "metadata": {},
     "output_type": "display_data"
    }
   ],
   "source": [
    "df_ad_state_metro_1['sponsor_types'].value_counts().plot(kind='bar')\n",
    "plt.title(\"Ad Counts by Sponsor types\")\n",
    "plt.ylabel(\"Ad counts\")\n",
    "plt.savefig('ana_final_pics/ad_count_by_sponsor_type.png')\n"
   ]
  },
  {
   "cell_type": "markdown",
   "metadata": {},
   "source": [
    "From above, Sponsor_types field will not help in determining whether the ad was in favor of the name in 'candidates'\n",
    "field or against."
   ]
  },
  {
   "cell_type": "code",
   "execution_count": 24,
   "metadata": {
    "collapsed": false
   },
   "outputs": [],
   "source": [
    "df_ad_state_metro_3 = df_ad_state_metro_1.copy().groupby('sponsor_types')['ad_duration_secs'].sum().reset_index()\n",
    "df_ad_state_metro_3.sort_values('ad_duration_secs', ascending=False, inplace=True)\n"
   ]
  },
  {
   "cell_type": "code",
   "execution_count": 25,
   "metadata": {
    "collapsed": false
   },
   "outputs": [
    {
     "data": {
      "text/html": [
       "<div>\n",
       "<table border=\"1\" class=\"dataframe\">\n",
       "  <thead>\n",
       "    <tr style=\"text-align: right;\">\n",
       "      <th></th>\n",
       "      <th>sponsor_types</th>\n",
       "      <th>ad_duration_secs</th>\n",
       "    </tr>\n",
       "  </thead>\n",
       "  <tbody>\n",
       "    <tr>\n",
       "      <th>4</th>\n",
       "      <td>Multiple</td>\n",
       "      <td>1295423.0</td>\n",
       "    </tr>\n",
       "    <tr>\n",
       "      <th>0</th>\n",
       "      <td>Candidate Committee</td>\n",
       "      <td>713584.0</td>\n",
       "    </tr>\n",
       "    <tr>\n",
       "      <th>7</th>\n",
       "      <td>Super PAC</td>\n",
       "      <td>603831.0</td>\n",
       "    </tr>\n",
       "    <tr>\n",
       "      <th>8</th>\n",
       "      <td>Unknown</td>\n",
       "      <td>63899.0</td>\n",
       "    </tr>\n",
       "    <tr>\n",
       "      <th>2</th>\n",
       "      <td>Hybrid Super PAC</td>\n",
       "      <td>63010.0</td>\n",
       "    </tr>\n",
       "    <tr>\n",
       "      <th>5</th>\n",
       "      <td>Non Profit</td>\n",
       "      <td>50282.0</td>\n",
       "    </tr>\n",
       "    <tr>\n",
       "      <th>6</th>\n",
       "      <td>PAC</td>\n",
       "      <td>30499.0</td>\n",
       "    </tr>\n",
       "    <tr>\n",
       "      <th>3</th>\n",
       "      <td>Joint Fundraising Committee</td>\n",
       "      <td>3414.0</td>\n",
       "    </tr>\n",
       "    <tr>\n",
       "      <th>1</th>\n",
       "      <td>Corporation</td>\n",
       "      <td>30.0</td>\n",
       "    </tr>\n",
       "  </tbody>\n",
       "</table>\n",
       "</div>"
      ],
      "text/plain": [
       "                 sponsor_types  ad_duration_secs\n",
       "4                     Multiple         1295423.0\n",
       "0          Candidate Committee          713584.0\n",
       "7                    Super PAC          603831.0\n",
       "8                      Unknown           63899.0\n",
       "2             Hybrid Super PAC           63010.0\n",
       "5                   Non Profit           50282.0\n",
       "6                          PAC           30499.0\n",
       "3  Joint Fundraising Committee            3414.0\n",
       "1                  Corporation              30.0"
      ]
     },
     "execution_count": 25,
     "metadata": {},
     "output_type": "execute_result"
    }
   ],
   "source": [
    "\n",
    "df_ad_state_metro_3"
   ]
  },
  {
   "cell_type": "code",
   "execution_count": 26,
   "metadata": {
    "collapsed": true
   },
   "outputs": [],
   "source": [
    "#Rounding to two decimal places\n",
    "df_ad_state_metro_3['ad_duration_hours'] = round(df_ad_state_metro_3['ad_duration_secs']/3600,2)"
   ]
  },
  {
   "cell_type": "code",
   "execution_count": 138,
   "metadata": {
    "collapsed": false
   },
   "outputs": [
    {
     "data": {
      "image/png": "[encoded data removed]",
      "text/plain": [
       "<matplotlib.figure.Figure at 0x122731a58>"
      ]
     },
     "metadata": {},
     "output_type": "display_data"
    }
   ],
   "source": [
    "df_ad_state_metro_3.plot(x='sponsor_types', y='ad_duration_hours', kind='bar' )\n",
    "plt.savefig('ana_final_pics/ad_duration_hours_by_sponsor_type.png')"
   ]
  },
  {
   "cell_type": "markdown",
   "metadata": {},
   "source": [
    "Noted no change in trends by populating count of ads and volums of ads by sponsor types."
   ]
  },
  {
   "cell_type": "markdown",
   "metadata": {},
   "source": [
    "#Reading sponsor classification file.\n",
    "From the sponsor data, which classifies the sponsors, we can find which ad supported \n",
    "which candidate."
   ]
  },
  {
   "cell_type": "code",
   "execution_count": 140,
   "metadata": {
    "collapsed": false
   },
   "outputs": [
    {
     "data": {
      "text/html": [
       "<div>\n",
       "<table border=\"1\" class=\"dataframe\">\n",
       "  <thead>\n",
       "    <tr style=\"text-align: right;\">\n",
       "      <th></th>\n",
       "      <th>Sponsors</th>\n",
       "      <th>Sponsor_Classification</th>\n",
       "    </tr>\n",
       "  </thead>\n",
       "  <tbody>\n",
       "    <tr>\n",
       "      <th>0</th>\n",
       "      <td>Reform America Fund</td>\n",
       "      <td>R_PAC</td>\n",
       "    </tr>\n",
       "    <tr>\n",
       "      <th>1</th>\n",
       "      <td>Hillary for America</td>\n",
       "      <td>Clinton</td>\n",
       "    </tr>\n",
       "    <tr>\n",
       "      <th>2</th>\n",
       "      <td>Make America Number One</td>\n",
       "      <td>R_PAC</td>\n",
       "    </tr>\n",
       "    <tr>\n",
       "      <th>3</th>\n",
       "      <td>Rebuilding America Now</td>\n",
       "      <td>R_PAC</td>\n",
       "    </tr>\n",
       "    <tr>\n",
       "      <th>4</th>\n",
       "      <td>NextGen California Action Committee</td>\n",
       "      <td>D_PAC</td>\n",
       "    </tr>\n",
       "    <tr>\n",
       "      <th>5</th>\n",
       "      <td>Women Vote!</td>\n",
       "      <td>D_PAC</td>\n",
       "    </tr>\n",
       "    <tr>\n",
       "      <th>6</th>\n",
       "      <td>Reclaim America PAC</td>\n",
       "      <td>Other</td>\n",
       "    </tr>\n",
       "    <tr>\n",
       "      <th>7</th>\n",
       "      <td>Priorities USA Action</td>\n",
       "      <td>D_PAC</td>\n",
       "    </tr>\n",
       "    <tr>\n",
       "      <th>8</th>\n",
       "      <td>Donald J Trump For President</td>\n",
       "      <td>Trump</td>\n",
       "    </tr>\n",
       "    <tr>\n",
       "      <th>9</th>\n",
       "      <td>Kirkpatrick For Senate</td>\n",
       "      <td>Other</td>\n",
       "    </tr>\n",
       "  </tbody>\n",
       "</table>\n",
       "</div>"
      ],
      "text/plain": [
       "                              Sponsors Sponsor_Classification\n",
       "0                  Reform America Fund                  R_PAC\n",
       "1                  Hillary for America                Clinton\n",
       "2              Make America Number One                  R_PAC\n",
       "3               Rebuilding America Now                  R_PAC\n",
       "4  NextGen California Action Committee                  D_PAC\n",
       "5                          Women Vote!                  D_PAC\n",
       "6                  Reclaim America PAC                  Other\n",
       "7                Priorities USA Action                  D_PAC\n",
       "8         Donald J Trump For President                  Trump\n",
       "9               Kirkpatrick For Senate                  Other"
      ]
     },
     "execution_count": 140,
     "metadata": {},
     "output_type": "execute_result"
    }
   ],
   "source": [
    "sponsors_df_1 = pd.read_csv('data/sponsors_list_final.csv',header=None, \n",
    "                          names=['Sponsors', 'Sponsor_Classification'])\n",
    "sponsors_df_1.head(10)"
   ]
  },
  {
   "cell_type": "code",
   "execution_count": 141,
   "metadata": {
    "collapsed": true
   },
   "outputs": [],
   "source": [
    "#Setting sponsor as index\n",
    "\n",
    "sponsors_df_1.set_index('Sponsors', inplace=True)"
   ]
  },
  {
   "cell_type": "code",
   "execution_count": null,
   "metadata": {
    "collapsed": true
   },
   "outputs": [],
   "source": []
  },
  {
   "cell_type": "code",
   "execution_count": 142,
   "metadata": {
    "collapsed": false
   },
   "outputs": [],
   "source": [
    "#get sponsor_class\n",
    "#Wrote a function to return sponsor class using get_value method\n",
    "def get_sponsor_class(sponsor):\n",
    "    return(sponsors_df_1.get_value(sponsor, 'Sponsor_Classification'))\n",
    "    "
   ]
  },
  {
   "cell_type": "code",
   "execution_count": 143,
   "metadata": {
    "collapsed": false
   },
   "outputs": [
    {
     "data": {
      "text/plain": [
       "'Hillary for America'"
      ]
     },
     "execution_count": 143,
     "metadata": {},
     "output_type": "execute_result"
    }
   ],
   "source": [
    "df_ad_state_metro_1['sponsors'][0]\n"
   ]
  },
  {
   "cell_type": "code",
   "execution_count": 144,
   "metadata": {
    "collapsed": false
   },
   "outputs": [
    {
     "data": {
      "text/plain": [
       "'Clinton'"
      ]
     },
     "execution_count": 144,
     "metadata": {},
     "output_type": "execute_result"
    }
   ],
   "source": [
    "#Test it with one value\n",
    "#proof of concept\n",
    "get_sponsor_class(df_ad_state_metro_1['sponsors'][0])"
   ]
  },
  {
   "cell_type": "code",
   "execution_count": 145,
   "metadata": {
    "collapsed": false
   },
   "outputs": [
    {
     "data": {
      "text/html": [
       "<div>\n",
       "<table border=\"1\" class=\"dataframe\">\n",
       "  <thead>\n",
       "    <tr style=\"text-align: right;\">\n",
       "      <th></th>\n",
       "      <th>Sponsor_Classification</th>\n",
       "    </tr>\n",
       "    <tr>\n",
       "      <th>Sponsors</th>\n",
       "      <th></th>\n",
       "    </tr>\n",
       "  </thead>\n",
       "  <tbody>\n",
       "    <tr>\n",
       "      <th>Reform America Fund</th>\n",
       "      <td>R_PAC</td>\n",
       "    </tr>\n",
       "    <tr>\n",
       "      <th>Hillary for America</th>\n",
       "      <td>Clinton</td>\n",
       "    </tr>\n",
       "    <tr>\n",
       "      <th>Make America Number One</th>\n",
       "      <td>R_PAC</td>\n",
       "    </tr>\n",
       "    <tr>\n",
       "      <th>Rebuilding America Now</th>\n",
       "      <td>R_PAC</td>\n",
       "    </tr>\n",
       "    <tr>\n",
       "      <th>NextGen California Action Committee</th>\n",
       "      <td>D_PAC</td>\n",
       "    </tr>\n",
       "  </tbody>\n",
       "</table>\n",
       "</div>"
      ],
      "text/plain": [
       "                                    Sponsor_Classification\n",
       "Sponsors                                                  \n",
       "Reform America Fund                                  R_PAC\n",
       "Hillary for America                                Clinton\n",
       "Make America Number One                              R_PAC\n",
       "Rebuilding America Now                               R_PAC\n",
       "NextGen California Action Committee                  D_PAC"
      ]
     },
     "execution_count": 145,
     "metadata": {},
     "output_type": "execute_result"
    }
   ],
   "source": [
    "sponsors_df_1.head(5)"
   ]
  },
  {
   "cell_type": "code",
   "execution_count": 146,
   "metadata": {
    "collapsed": false
   },
   "outputs": [],
   "source": [
    "#Adding a new column 'sponsor_class'\n",
    "df_ad_state_metro_2 = df_ad_state_metro_1.copy()\n",
    "df_ad_state_metro_2['sponsor_class'] = df_ad_state_metro_2['sponsors'].map(get_sponsor_class)"
   ]
  },
  {
   "cell_type": "code",
   "execution_count": 147,
   "metadata": {
    "collapsed": false
   },
   "outputs": [
    {
     "data": {
      "text/html": [
       "<div>\n",
       "<table border=\"1\" class=\"dataframe\">\n",
       "  <thead>\n",
       "    <tr style=\"text-align: right;\">\n",
       "      <th></th>\n",
       "      <th>id</th>\n",
       "      <th>wp_identifier</th>\n",
       "      <th>network</th>\n",
       "      <th>location</th>\n",
       "      <th>program</th>\n",
       "      <th>program_type</th>\n",
       "      <th>start_time</th>\n",
       "      <th>end_time</th>\n",
       "      <th>archive_id</th>\n",
       "      <th>embed_url</th>\n",
       "      <th>...</th>\n",
       "      <th>subjects</th>\n",
       "      <th>candidates</th>\n",
       "      <th>type</th>\n",
       "      <th>message</th>\n",
       "      <th>date_created</th>\n",
       "      <th>ad_duration_secs</th>\n",
       "      <th>metro_area_state</th>\n",
       "      <th>state</th>\n",
       "      <th>metro_area</th>\n",
       "      <th>sponsor_class</th>\n",
       "    </tr>\n",
       "  </thead>\n",
       "  <tbody>\n",
       "    <tr>\n",
       "      <th>0</th>\n",
       "      <td>1</td>\n",
       "      <td>5643</td>\n",
       "      <td>KLAS</td>\n",
       "      <td>Las Vegas, NV</td>\n",
       "      <td>8 News Now at 5 PM</td>\n",
       "      <td>news</td>\n",
       "      <td>2016-09-09 00:12:59</td>\n",
       "      <td>2016-09-09 00:13:29</td>\n",
       "      <td>PolAd_HillaryClinton_f1h3j</td>\n",
       "      <td>https://archive.org/embed/PolAd_HillaryClinton...</td>\n",
       "      <td>...</td>\n",
       "      <td>Energy, China, Jobs</td>\n",
       "      <td>Hillary Clinton</td>\n",
       "      <td>campaign</td>\n",
       "      <td>pro</td>\n",
       "      <td>2016-09-12 14:49:00</td>\n",
       "      <td>30.0</td>\n",
       "      <td>[Las Vegas,  NV]</td>\n",
       "      <td>NV</td>\n",
       "      <td>Las Vegas</td>\n",
       "      <td>Clinton</td>\n",
       "    </tr>\n",
       "    <tr>\n",
       "      <th>1</th>\n",
       "      <td>2</td>\n",
       "      <td>5643</td>\n",
       "      <td>WNCN</td>\n",
       "      <td>Raleigh-Durham-Fayetteville,  NC</td>\n",
       "      <td>North Carolina News at 500PM</td>\n",
       "      <td>news</td>\n",
       "      <td>2016-09-06 21:58:25</td>\n",
       "      <td>2016-09-06 21:58:55</td>\n",
       "      <td>PolAd_HillaryClinton_f1h3j</td>\n",
       "      <td>https://archive.org/embed/PolAd_HillaryClinton...</td>\n",
       "      <td>...</td>\n",
       "      <td>Energy, China, Jobs</td>\n",
       "      <td>Hillary Clinton</td>\n",
       "      <td>campaign</td>\n",
       "      <td>pro</td>\n",
       "      <td>2016-09-12 14:49:00</td>\n",
       "      <td>30.0</td>\n",
       "      <td>[Raleigh-Durham-Fayetteville,   NC]</td>\n",
       "      <td>NC</td>\n",
       "      <td>Raleigh-Durham-Fayetteville</td>\n",
       "      <td>Clinton</td>\n",
       "    </tr>\n",
       "    <tr>\n",
       "      <th>2</th>\n",
       "      <td>3</td>\n",
       "      <td>5643</td>\n",
       "      <td>KLAS</td>\n",
       "      <td>Las Vegas, NV</td>\n",
       "      <td>Face the Nation</td>\n",
       "      <td>news</td>\n",
       "      <td>2016-09-04 16:24:25</td>\n",
       "      <td>2016-09-04 16:24:55</td>\n",
       "      <td>PolAd_HillaryClinton_f1h3j</td>\n",
       "      <td>https://archive.org/embed/PolAd_HillaryClinton...</td>\n",
       "      <td>...</td>\n",
       "      <td>Energy, China, Jobs</td>\n",
       "      <td>Hillary Clinton</td>\n",
       "      <td>campaign</td>\n",
       "      <td>pro</td>\n",
       "      <td>2016-09-12 14:49:00</td>\n",
       "      <td>30.0</td>\n",
       "      <td>[Las Vegas,  NV]</td>\n",
       "      <td>NV</td>\n",
       "      <td>Las Vegas</td>\n",
       "      <td>Clinton</td>\n",
       "    </tr>\n",
       "    <tr>\n",
       "      <th>3</th>\n",
       "      <td>4</td>\n",
       "      <td>5643</td>\n",
       "      <td>WFLA</td>\n",
       "      <td>Tampa-St. Petersburg, FL</td>\n",
       "      <td>Days of Our Lives</td>\n",
       "      <td>not news</td>\n",
       "      <td>2016-08-30 17:59:20</td>\n",
       "      <td>2016-08-30 17:59:50</td>\n",
       "      <td>PolAd_HillaryClinton_f1h3j</td>\n",
       "      <td>https://archive.org/embed/PolAd_HillaryClinton...</td>\n",
       "      <td>...</td>\n",
       "      <td>Energy, China, Jobs</td>\n",
       "      <td>Hillary Clinton</td>\n",
       "      <td>campaign</td>\n",
       "      <td>pro</td>\n",
       "      <td>2016-09-12 14:49:00</td>\n",
       "      <td>30.0</td>\n",
       "      <td>[Tampa-St. Petersburg,  FL]</td>\n",
       "      <td>FL</td>\n",
       "      <td>Tampa-St. Petersburg</td>\n",
       "      <td>Clinton</td>\n",
       "    </tr>\n",
       "  </tbody>\n",
       "</table>\n",
       "<p>4 rows × 24 columns</p>\n",
       "</div>"
      ],
      "text/plain": [
       "   id  wp_identifier network                          location  \\\n",
       "0   1           5643    KLAS                     Las Vegas, NV   \n",
       "1   2           5643    WNCN  Raleigh-Durham-Fayetteville,  NC   \n",
       "2   3           5643    KLAS                     Las Vegas, NV   \n",
       "3   4           5643    WFLA          Tampa-St. Petersburg, FL   \n",
       "\n",
       "                        program program_type          start_time  \\\n",
       "0            8 News Now at 5 PM         news 2016-09-09 00:12:59   \n",
       "1  North Carolina News at 500PM         news 2016-09-06 21:58:25   \n",
       "2               Face the Nation         news 2016-09-04 16:24:25   \n",
       "3             Days of Our Lives     not news 2016-08-30 17:59:20   \n",
       "\n",
       "             end_time                  archive_id  \\\n",
       "0 2016-09-09 00:13:29  PolAd_HillaryClinton_f1h3j   \n",
       "1 2016-09-06 21:58:55  PolAd_HillaryClinton_f1h3j   \n",
       "2 2016-09-04 16:24:55  PolAd_HillaryClinton_f1h3j   \n",
       "3 2016-08-30 17:59:50  PolAd_HillaryClinton_f1h3j   \n",
       "\n",
       "                                           embed_url      ...        \\\n",
       "0  https://archive.org/embed/PolAd_HillaryClinton...      ...         \n",
       "1  https://archive.org/embed/PolAd_HillaryClinton...      ...         \n",
       "2  https://archive.org/embed/PolAd_HillaryClinton...      ...         \n",
       "3  https://archive.org/embed/PolAd_HillaryClinton...      ...         \n",
       "\n",
       "              subjects       candidates      type  message  \\\n",
       "0  Energy, China, Jobs  Hillary Clinton  campaign      pro   \n",
       "1  Energy, China, Jobs  Hillary Clinton  campaign      pro   \n",
       "2  Energy, China, Jobs  Hillary Clinton  campaign      pro   \n",
       "3  Energy, China, Jobs  Hillary Clinton  campaign      pro   \n",
       "\n",
       "         date_created ad_duration_secs                     metro_area_state  \\\n",
       "0 2016-09-12 14:49:00             30.0                     [Las Vegas,  NV]   \n",
       "1 2016-09-12 14:49:00             30.0  [Raleigh-Durham-Fayetteville,   NC]   \n",
       "2 2016-09-12 14:49:00             30.0                     [Las Vegas,  NV]   \n",
       "3 2016-09-12 14:49:00             30.0          [Tampa-St. Petersburg,  FL]   \n",
       "\n",
       "  state                   metro_area  sponsor_class  \n",
       "0    NV                    Las Vegas        Clinton  \n",
       "1    NC  Raleigh-Durham-Fayetteville        Clinton  \n",
       "2    NV                    Las Vegas        Clinton  \n",
       "3    FL         Tampa-St. Petersburg        Clinton  \n",
       "\n",
       "[4 rows x 24 columns]"
      ]
     },
     "execution_count": 147,
     "metadata": {},
     "output_type": "execute_result"
    }
   ],
   "source": [
    "df_ad_state_metro_2.head(4)"
   ]
  },
  {
   "cell_type": "code",
   "execution_count": 148,
   "metadata": {
    "collapsed": false
   },
   "outputs": [
    {
     "data": {
      "text/plain": [
       "Clinton    37555\n",
       "Trump      22913\n",
       "D_PAC      14870\n",
       "R_PAC       7602\n",
       "Other       1777\n",
       "D_COM        206\n",
       "Johnson       82\n",
       "R_COM         72\n",
       "Stein          3\n",
       "Name: sponsor_class, dtype: int64"
      ]
     },
     "execution_count": 148,
     "metadata": {},
     "output_type": "execute_result"
    }
   ],
   "source": [
    "#Checking the Sponsor_class column\n",
    "df_ad_state_metro_2['sponsor_class'].value_counts()"
   ]
  },
  {
   "cell_type": "markdown",
   "metadata": {},
   "source": [
    "Looking at the values above, we need to further clssify the sponsor as \n",
    "\"Republican' or 'Democratic\" to figure out who the ad is supporting."
   ]
  },
  {
   "cell_type": "code",
   "execution_count": 149,
   "metadata": {
    "collapsed": false
   },
   "outputs": [],
   "source": [
    "#Getting rid of rows with sponsor_type = 'Other'\n",
    "df_ad_state_metro_2 = df_ad_state_metro_2[df_ad_state_metro_2['sponsor_class'] != 'Other']"
   ]
  },
  {
   "cell_type": "code",
   "execution_count": 38,
   "metadata": {
    "collapsed": false
   },
   "outputs": [
    {
     "data": {
      "text/plain": [
       "(83303, 24)"
      ]
     },
     "execution_count": 38,
     "metadata": {},
     "output_type": "execute_result"
    }
   ],
   "source": [
    "df_ad_state_metro_2.shape"
   ]
  },
  {
   "cell_type": "code",
   "execution_count": 150,
   "metadata": {
    "collapsed": true
   },
   "outputs": [],
   "source": [
    "#Creating a dictionary to identify sponsor_party\n",
    "party_dict = {'Clinton': 'D',\n",
    "              'Trump': 'R',\n",
    "              'D_PAC': 'D',\n",
    "              'R_PAC': 'R',\n",
    "              'D_COM': 'D',\n",
    "              'Johnson': 'I',\n",
    "              'R_COM': 'R',\n",
    "              'Stein': 'I'\n",
    "             }"
   ]
  },
  {
   "cell_type": "code",
   "execution_count": 151,
   "metadata": {
    "collapsed": false
   },
   "outputs": [],
   "source": [
    "#map spnsor_class to dixtionary to get sponsor_party\n",
    "df_ad_state_metro_2['sponsor_party'] = df_ad_state_metro_2['sponsor_class'].map(party_dict)"
   ]
  },
  {
   "cell_type": "code",
   "execution_count": 152,
   "metadata": {
    "collapsed": false
   },
   "outputs": [
    {
     "data": {
      "text/html": [
       "<div>\n",
       "<table border=\"1\" class=\"dataframe\">\n",
       "  <thead>\n",
       "    <tr style=\"text-align: right;\">\n",
       "      <th></th>\n",
       "      <th>id</th>\n",
       "      <th>wp_identifier</th>\n",
       "      <th>network</th>\n",
       "      <th>location</th>\n",
       "      <th>program</th>\n",
       "      <th>program_type</th>\n",
       "      <th>start_time</th>\n",
       "      <th>end_time</th>\n",
       "      <th>archive_id</th>\n",
       "      <th>embed_url</th>\n",
       "      <th>...</th>\n",
       "      <th>candidates</th>\n",
       "      <th>type</th>\n",
       "      <th>message</th>\n",
       "      <th>date_created</th>\n",
       "      <th>ad_duration_secs</th>\n",
       "      <th>metro_area_state</th>\n",
       "      <th>state</th>\n",
       "      <th>metro_area</th>\n",
       "      <th>sponsor_class</th>\n",
       "      <th>sponsor_party</th>\n",
       "    </tr>\n",
       "  </thead>\n",
       "  <tbody>\n",
       "    <tr>\n",
       "      <th>0</th>\n",
       "      <td>1</td>\n",
       "      <td>5643</td>\n",
       "      <td>KLAS</td>\n",
       "      <td>Las Vegas, NV</td>\n",
       "      <td>8 News Now at 5 PM</td>\n",
       "      <td>news</td>\n",
       "      <td>2016-09-09 00:12:59</td>\n",
       "      <td>2016-09-09 00:13:29</td>\n",
       "      <td>PolAd_HillaryClinton_f1h3j</td>\n",
       "      <td>https://archive.org/embed/PolAd_HillaryClinton...</td>\n",
       "      <td>...</td>\n",
       "      <td>Hillary Clinton</td>\n",
       "      <td>campaign</td>\n",
       "      <td>pro</td>\n",
       "      <td>2016-09-12 14:49:00</td>\n",
       "      <td>30.0</td>\n",
       "      <td>[Las Vegas,  NV]</td>\n",
       "      <td>NV</td>\n",
       "      <td>Las Vegas</td>\n",
       "      <td>Clinton</td>\n",
       "      <td>D</td>\n",
       "    </tr>\n",
       "    <tr>\n",
       "      <th>1</th>\n",
       "      <td>2</td>\n",
       "      <td>5643</td>\n",
       "      <td>WNCN</td>\n",
       "      <td>Raleigh-Durham-Fayetteville,  NC</td>\n",
       "      <td>North Carolina News at 500PM</td>\n",
       "      <td>news</td>\n",
       "      <td>2016-09-06 21:58:25</td>\n",
       "      <td>2016-09-06 21:58:55</td>\n",
       "      <td>PolAd_HillaryClinton_f1h3j</td>\n",
       "      <td>https://archive.org/embed/PolAd_HillaryClinton...</td>\n",
       "      <td>...</td>\n",
       "      <td>Hillary Clinton</td>\n",
       "      <td>campaign</td>\n",
       "      <td>pro</td>\n",
       "      <td>2016-09-12 14:49:00</td>\n",
       "      <td>30.0</td>\n",
       "      <td>[Raleigh-Durham-Fayetteville,   NC]</td>\n",
       "      <td>NC</td>\n",
       "      <td>Raleigh-Durham-Fayetteville</td>\n",
       "      <td>Clinton</td>\n",
       "      <td>D</td>\n",
       "    </tr>\n",
       "    <tr>\n",
       "      <th>2</th>\n",
       "      <td>3</td>\n",
       "      <td>5643</td>\n",
       "      <td>KLAS</td>\n",
       "      <td>Las Vegas, NV</td>\n",
       "      <td>Face the Nation</td>\n",
       "      <td>news</td>\n",
       "      <td>2016-09-04 16:24:25</td>\n",
       "      <td>2016-09-04 16:24:55</td>\n",
       "      <td>PolAd_HillaryClinton_f1h3j</td>\n",
       "      <td>https://archive.org/embed/PolAd_HillaryClinton...</td>\n",
       "      <td>...</td>\n",
       "      <td>Hillary Clinton</td>\n",
       "      <td>campaign</td>\n",
       "      <td>pro</td>\n",
       "      <td>2016-09-12 14:49:00</td>\n",
       "      <td>30.0</td>\n",
       "      <td>[Las Vegas,  NV]</td>\n",
       "      <td>NV</td>\n",
       "      <td>Las Vegas</td>\n",
       "      <td>Clinton</td>\n",
       "      <td>D</td>\n",
       "    </tr>\n",
       "    <tr>\n",
       "      <th>3</th>\n",
       "      <td>4</td>\n",
       "      <td>5643</td>\n",
       "      <td>WFLA</td>\n",
       "      <td>Tampa-St. Petersburg, FL</td>\n",
       "      <td>Days of Our Lives</td>\n",
       "      <td>not news</td>\n",
       "      <td>2016-08-30 17:59:20</td>\n",
       "      <td>2016-08-30 17:59:50</td>\n",
       "      <td>PolAd_HillaryClinton_f1h3j</td>\n",
       "      <td>https://archive.org/embed/PolAd_HillaryClinton...</td>\n",
       "      <td>...</td>\n",
       "      <td>Hillary Clinton</td>\n",
       "      <td>campaign</td>\n",
       "      <td>pro</td>\n",
       "      <td>2016-09-12 14:49:00</td>\n",
       "      <td>30.0</td>\n",
       "      <td>[Tampa-St. Petersburg,  FL]</td>\n",
       "      <td>FL</td>\n",
       "      <td>Tampa-St. Petersburg</td>\n",
       "      <td>Clinton</td>\n",
       "      <td>D</td>\n",
       "    </tr>\n",
       "    <tr>\n",
       "      <th>4</th>\n",
       "      <td>5</td>\n",
       "      <td>5643</td>\n",
       "      <td>KSNV</td>\n",
       "      <td>Las Vegas, NV</td>\n",
       "      <td>The Tonight Show Starring Jimmy Fallon</td>\n",
       "      <td>news</td>\n",
       "      <td>2016-09-06 07:02:22</td>\n",
       "      <td>2016-09-06 07:02:52</td>\n",
       "      <td>PolAd_HillaryClinton_f1h3j</td>\n",
       "      <td>https://archive.org/embed/PolAd_HillaryClinton...</td>\n",
       "      <td>...</td>\n",
       "      <td>Hillary Clinton</td>\n",
       "      <td>campaign</td>\n",
       "      <td>pro</td>\n",
       "      <td>2016-09-12 14:49:00</td>\n",
       "      <td>30.0</td>\n",
       "      <td>[Las Vegas,  NV]</td>\n",
       "      <td>NV</td>\n",
       "      <td>Las Vegas</td>\n",
       "      <td>Clinton</td>\n",
       "      <td>D</td>\n",
       "    </tr>\n",
       "  </tbody>\n",
       "</table>\n",
       "<p>5 rows × 25 columns</p>\n",
       "</div>"
      ],
      "text/plain": [
       "   id  wp_identifier network                          location  \\\n",
       "0   1           5643    KLAS                     Las Vegas, NV   \n",
       "1   2           5643    WNCN  Raleigh-Durham-Fayetteville,  NC   \n",
       "2   3           5643    KLAS                     Las Vegas, NV   \n",
       "3   4           5643    WFLA          Tampa-St. Petersburg, FL   \n",
       "4   5           5643    KSNV                     Las Vegas, NV   \n",
       "\n",
       "                                  program program_type          start_time  \\\n",
       "0                      8 News Now at 5 PM         news 2016-09-09 00:12:59   \n",
       "1            North Carolina News at 500PM         news 2016-09-06 21:58:25   \n",
       "2                         Face the Nation         news 2016-09-04 16:24:25   \n",
       "3                       Days of Our Lives     not news 2016-08-30 17:59:20   \n",
       "4  The Tonight Show Starring Jimmy Fallon         news 2016-09-06 07:02:22   \n",
       "\n",
       "             end_time                  archive_id  \\\n",
       "0 2016-09-09 00:13:29  PolAd_HillaryClinton_f1h3j   \n",
       "1 2016-09-06 21:58:55  PolAd_HillaryClinton_f1h3j   \n",
       "2 2016-09-04 16:24:55  PolAd_HillaryClinton_f1h3j   \n",
       "3 2016-08-30 17:59:50  PolAd_HillaryClinton_f1h3j   \n",
       "4 2016-09-06 07:02:52  PolAd_HillaryClinton_f1h3j   \n",
       "\n",
       "                                           embed_url      ...        \\\n",
       "0  https://archive.org/embed/PolAd_HillaryClinton...      ...         \n",
       "1  https://archive.org/embed/PolAd_HillaryClinton...      ...         \n",
       "2  https://archive.org/embed/PolAd_HillaryClinton...      ...         \n",
       "3  https://archive.org/embed/PolAd_HillaryClinton...      ...         \n",
       "4  https://archive.org/embed/PolAd_HillaryClinton...      ...         \n",
       "\n",
       "        candidates      type message        date_created ad_duration_secs  \\\n",
       "0  Hillary Clinton  campaign     pro 2016-09-12 14:49:00             30.0   \n",
       "1  Hillary Clinton  campaign     pro 2016-09-12 14:49:00             30.0   \n",
       "2  Hillary Clinton  campaign     pro 2016-09-12 14:49:00             30.0   \n",
       "3  Hillary Clinton  campaign     pro 2016-09-12 14:49:00             30.0   \n",
       "4  Hillary Clinton  campaign     pro 2016-09-12 14:49:00             30.0   \n",
       "\n",
       "                      metro_area_state state                   metro_area  \\\n",
       "0                     [Las Vegas,  NV]    NV                    Las Vegas   \n",
       "1  [Raleigh-Durham-Fayetteville,   NC]    NC  Raleigh-Durham-Fayetteville   \n",
       "2                     [Las Vegas,  NV]    NV                    Las Vegas   \n",
       "3          [Tampa-St. Petersburg,  FL]    FL         Tampa-St. Petersburg   \n",
       "4                     [Las Vegas,  NV]    NV                    Las Vegas   \n",
       "\n",
       "  sponsor_class  sponsor_party  \n",
       "0       Clinton              D  \n",
       "1       Clinton              D  \n",
       "2       Clinton              D  \n",
       "3       Clinton              D  \n",
       "4       Clinton              D  \n",
       "\n",
       "[5 rows x 25 columns]"
      ]
     },
     "execution_count": 152,
     "metadata": {},
     "output_type": "execute_result"
    }
   ],
   "source": [
    "df_ad_state_metro_2.head(5)\n",
    "#Checked that sponsor type is populated properly"
   ]
  },
  {
   "cell_type": "code",
   "execution_count": 153,
   "metadata": {
    "collapsed": false
   },
   "outputs": [
    {
     "data": {
      "text/html": [
       "<div>\n",
       "<table border=\"1\" class=\"dataframe\">\n",
       "  <thead>\n",
       "    <tr style=\"text-align: right;\">\n",
       "      <th></th>\n",
       "      <th>id</th>\n",
       "      <th>wp_identifier</th>\n",
       "      <th>network</th>\n",
       "      <th>location</th>\n",
       "      <th>program</th>\n",
       "      <th>program_type</th>\n",
       "      <th>start_time</th>\n",
       "      <th>end_time</th>\n",
       "      <th>archive_id</th>\n",
       "      <th>embed_url</th>\n",
       "      <th>...</th>\n",
       "      <th>candidates</th>\n",
       "      <th>type</th>\n",
       "      <th>message</th>\n",
       "      <th>date_created</th>\n",
       "      <th>ad_duration_secs</th>\n",
       "      <th>metro_area_state</th>\n",
       "      <th>state</th>\n",
       "      <th>metro_area</th>\n",
       "      <th>sponsor_class</th>\n",
       "      <th>sponsor_party</th>\n",
       "    </tr>\n",
       "  </thead>\n",
       "  <tbody>\n",
       "    <tr>\n",
       "      <th>2628</th>\n",
       "      <td>3767</td>\n",
       "      <td>5495</td>\n",
       "      <td>FOXNEWSW</td>\n",
       "      <td>San Francisco-Oakland-San Jose, CA</td>\n",
       "      <td>Americas Newsroom With Bill Hemmer and Martha ...</td>\n",
       "      <td>news</td>\n",
       "      <td>2016-08-02 13:46:27</td>\n",
       "      <td>2016-08-02 13:47:47</td>\n",
       "      <td>PolAd_HillaryClinton_ao5qw</td>\n",
       "      <td>https://archive.org/embed/PolAd_HillaryClinton...</td>\n",
       "      <td>...</td>\n",
       "      <td>Hillary Clinton</td>\n",
       "      <td>campaign</td>\n",
       "      <td>con</td>\n",
       "      <td>2016-09-12 14:49:00</td>\n",
       "      <td>80.0</td>\n",
       "      <td>[San Francisco-Oakland-San Jose,  CA]</td>\n",
       "      <td>National</td>\n",
       "      <td>San Francisco-Oakland-San Jose</td>\n",
       "      <td>Trump</td>\n",
       "      <td>R</td>\n",
       "    </tr>\n",
       "    <tr>\n",
       "      <th>4226</th>\n",
       "      <td>5538</td>\n",
       "      <td>5183</td>\n",
       "      <td>KFXA</td>\n",
       "      <td>Ceder Rapids-Waterloo-Iowa City-Dublin, Iowa</td>\n",
       "      <td>Panther Sports Talk</td>\n",
       "      <td>not news</td>\n",
       "      <td>2016-09-10 03:29:45</td>\n",
       "      <td>2016-09-10 03:30:15</td>\n",
       "      <td>PolAd_HillaryClinton_DonaldTrump_o5dtl</td>\n",
       "      <td>https://archive.org/embed/PolAd_HillaryClinton...</td>\n",
       "      <td>...</td>\n",
       "      <td>Donald Trump, Hillary Clinton</td>\n",
       "      <td>campaign</td>\n",
       "      <td>mixed</td>\n",
       "      <td>2016-09-12 14:49:00</td>\n",
       "      <td>30.0</td>\n",
       "      <td>[Ceder Rapids-Waterloo-Iowa City-Dublin,  Iowa]</td>\n",
       "      <td>IA</td>\n",
       "      <td>Ceder Rapids-Waterloo-Iowa City-Dublin</td>\n",
       "      <td>Trump</td>\n",
       "      <td>R</td>\n",
       "    </tr>\n",
       "    <tr>\n",
       "      <th>4227</th>\n",
       "      <td>5539</td>\n",
       "      <td>5183</td>\n",
       "      <td>KSNV</td>\n",
       "      <td>Las Vegas, NV</td>\n",
       "      <td>Today</td>\n",
       "      <td>news</td>\n",
       "      <td>2016-09-09 09:40:47</td>\n",
       "      <td>2016-09-09 09:41:17</td>\n",
       "      <td>PolAd_HillaryClinton_DonaldTrump_o5dtl</td>\n",
       "      <td>https://archive.org/embed/PolAd_HillaryClinton...</td>\n",
       "      <td>...</td>\n",
       "      <td>Donald Trump, Hillary Clinton</td>\n",
       "      <td>campaign</td>\n",
       "      <td>mixed</td>\n",
       "      <td>2016-09-12 14:49:00</td>\n",
       "      <td>30.0</td>\n",
       "      <td>[Las Vegas,  NV]</td>\n",
       "      <td>NV</td>\n",
       "      <td>Las Vegas</td>\n",
       "      <td>Trump</td>\n",
       "      <td>R</td>\n",
       "    </tr>\n",
       "    <tr>\n",
       "      <th>4228</th>\n",
       "      <td>5540</td>\n",
       "      <td>5183</td>\n",
       "      <td>KTNV</td>\n",
       "      <td>Las Vegas, NV</td>\n",
       "      <td>World News Now</td>\n",
       "      <td>news</td>\n",
       "      <td>2016-09-09 09:59:13</td>\n",
       "      <td>2016-09-09 09:59:43</td>\n",
       "      <td>PolAd_HillaryClinton_DonaldTrump_o5dtl</td>\n",
       "      <td>https://archive.org/embed/PolAd_HillaryClinton...</td>\n",
       "      <td>...</td>\n",
       "      <td>Donald Trump, Hillary Clinton</td>\n",
       "      <td>campaign</td>\n",
       "      <td>mixed</td>\n",
       "      <td>2016-09-12 14:49:00</td>\n",
       "      <td>30.0</td>\n",
       "      <td>[Las Vegas,  NV]</td>\n",
       "      <td>NV</td>\n",
       "      <td>Las Vegas</td>\n",
       "      <td>Trump</td>\n",
       "      <td>R</td>\n",
       "    </tr>\n",
       "    <tr>\n",
       "      <th>4229</th>\n",
       "      <td>5541</td>\n",
       "      <td>5183</td>\n",
       "      <td>WNCN</td>\n",
       "      <td>Raleigh-Durham-Fayetteville,  NC</td>\n",
       "      <td>North Carolina News at 500PM</td>\n",
       "      <td>news</td>\n",
       "      <td>2016-08-30 21:49:29</td>\n",
       "      <td>2016-08-30 21:49:59</td>\n",
       "      <td>PolAd_HillaryClinton_DonaldTrump_o5dtl</td>\n",
       "      <td>https://archive.org/embed/PolAd_HillaryClinton...</td>\n",
       "      <td>...</td>\n",
       "      <td>Donald Trump, Hillary Clinton</td>\n",
       "      <td>campaign</td>\n",
       "      <td>mixed</td>\n",
       "      <td>2016-09-12 14:49:00</td>\n",
       "      <td>30.0</td>\n",
       "      <td>[Raleigh-Durham-Fayetteville,   NC]</td>\n",
       "      <td>NC</td>\n",
       "      <td>Raleigh-Durham-Fayetteville</td>\n",
       "      <td>Trump</td>\n",
       "      <td>R</td>\n",
       "    </tr>\n",
       "  </tbody>\n",
       "</table>\n",
       "<p>5 rows × 25 columns</p>\n",
       "</div>"
      ],
      "text/plain": [
       "        id  wp_identifier   network  \\\n",
       "2628  3767           5495  FOXNEWSW   \n",
       "4226  5538           5183      KFXA   \n",
       "4227  5539           5183      KSNV   \n",
       "4228  5540           5183      KTNV   \n",
       "4229  5541           5183      WNCN   \n",
       "\n",
       "                                          location  \\\n",
       "2628            San Francisco-Oakland-San Jose, CA   \n",
       "4226  Ceder Rapids-Waterloo-Iowa City-Dublin, Iowa   \n",
       "4227                                 Las Vegas, NV   \n",
       "4228                                 Las Vegas, NV   \n",
       "4229              Raleigh-Durham-Fayetteville,  NC   \n",
       "\n",
       "                                                program program_type  \\\n",
       "2628  Americas Newsroom With Bill Hemmer and Martha ...         news   \n",
       "4226                                Panther Sports Talk     not news   \n",
       "4227                                              Today         news   \n",
       "4228                                     World News Now         news   \n",
       "4229                       North Carolina News at 500PM         news   \n",
       "\n",
       "              start_time            end_time  \\\n",
       "2628 2016-08-02 13:46:27 2016-08-02 13:47:47   \n",
       "4226 2016-09-10 03:29:45 2016-09-10 03:30:15   \n",
       "4227 2016-09-09 09:40:47 2016-09-09 09:41:17   \n",
       "4228 2016-09-09 09:59:13 2016-09-09 09:59:43   \n",
       "4229 2016-08-30 21:49:29 2016-08-30 21:49:59   \n",
       "\n",
       "                                  archive_id  \\\n",
       "2628              PolAd_HillaryClinton_ao5qw   \n",
       "4226  PolAd_HillaryClinton_DonaldTrump_o5dtl   \n",
       "4227  PolAd_HillaryClinton_DonaldTrump_o5dtl   \n",
       "4228  PolAd_HillaryClinton_DonaldTrump_o5dtl   \n",
       "4229  PolAd_HillaryClinton_DonaldTrump_o5dtl   \n",
       "\n",
       "                                              embed_url      ...        \\\n",
       "2628  https://archive.org/embed/PolAd_HillaryClinton...      ...         \n",
       "4226  https://archive.org/embed/PolAd_HillaryClinton...      ...         \n",
       "4227  https://archive.org/embed/PolAd_HillaryClinton...      ...         \n",
       "4228  https://archive.org/embed/PolAd_HillaryClinton...      ...         \n",
       "4229  https://archive.org/embed/PolAd_HillaryClinton...      ...         \n",
       "\n",
       "                         candidates      type message        date_created  \\\n",
       "2628                Hillary Clinton  campaign     con 2016-09-12 14:49:00   \n",
       "4226  Donald Trump, Hillary Clinton  campaign   mixed 2016-09-12 14:49:00   \n",
       "4227  Donald Trump, Hillary Clinton  campaign   mixed 2016-09-12 14:49:00   \n",
       "4228  Donald Trump, Hillary Clinton  campaign   mixed 2016-09-12 14:49:00   \n",
       "4229  Donald Trump, Hillary Clinton  campaign   mixed 2016-09-12 14:49:00   \n",
       "\n",
       "     ad_duration_secs                                 metro_area_state  \\\n",
       "2628             80.0            [San Francisco-Oakland-San Jose,  CA]   \n",
       "4226             30.0  [Ceder Rapids-Waterloo-Iowa City-Dublin,  Iowa]   \n",
       "4227             30.0                                 [Las Vegas,  NV]   \n",
       "4228             30.0                                 [Las Vegas,  NV]   \n",
       "4229             30.0              [Raleigh-Durham-Fayetteville,   NC]   \n",
       "\n",
       "         state                              metro_area sponsor_class  \\\n",
       "2628  National          San Francisco-Oakland-San Jose         Trump   \n",
       "4226        IA  Ceder Rapids-Waterloo-Iowa City-Dublin         Trump   \n",
       "4227        NV                               Las Vegas         Trump   \n",
       "4228        NV                               Las Vegas         Trump   \n",
       "4229        NC             Raleigh-Durham-Fayetteville         Trump   \n",
       "\n",
       "      sponsor_party  \n",
       "2628              R  \n",
       "4226              R  \n",
       "4227              R  \n",
       "4228              R  \n",
       "4229              R  \n",
       "\n",
       "[5 rows x 25 columns]"
      ]
     },
     "execution_count": 153,
     "metadata": {},
     "output_type": "execute_result"
    }
   ],
   "source": [
    "#Checking for Trump\n",
    "df_ad_state_metro_2[df_ad_state_metro_2['sponsor_class'] == 'Trump'].head(5)"
   ]
  },
  {
   "cell_type": "code",
   "execution_count": 43,
   "metadata": {
    "collapsed": false
   },
   "outputs": [],
   "source": [
    "#Saving the dataframe to a pickle file\n",
    "df_ad_state_metro_2.to_pickle('./data/TV_AD_AIRINGS_SPONSOR_CLASS_DATASET_6.pkl')"
   ]
  },
  {
   "cell_type": "code",
   "execution_count": 154,
   "metadata": {
    "collapsed": true
   },
   "outputs": [],
   "source": [
    "df_ad_state_party_3 = pd.read_pickle('./data/TV_AD_AIRINGS_SPONSOR_CLASS_DATASET_6.pkl')"
   ]
  },
  {
   "cell_type": "code",
   "execution_count": 165,
   "metadata": {
    "collapsed": false
   },
   "outputs": [
    {
     "data": {
      "text/html": [
       "<div>\n",
       "<table border=\"1\" class=\"dataframe\">\n",
       "  <thead>\n",
       "    <tr style=\"text-align: right;\">\n",
       "      <th></th>\n",
       "      <th>id</th>\n",
       "      <th>wp_identifier</th>\n",
       "      <th>network</th>\n",
       "      <th>location</th>\n",
       "      <th>program</th>\n",
       "      <th>program_type</th>\n",
       "      <th>start_time</th>\n",
       "      <th>end_time</th>\n",
       "      <th>archive_id</th>\n",
       "      <th>embed_url</th>\n",
       "      <th>...</th>\n",
       "      <th>candidates</th>\n",
       "      <th>type</th>\n",
       "      <th>message</th>\n",
       "      <th>date_created</th>\n",
       "      <th>ad_duration_secs</th>\n",
       "      <th>metro_area_state</th>\n",
       "      <th>state</th>\n",
       "      <th>metro_area</th>\n",
       "      <th>sponsor_class</th>\n",
       "      <th>sponsor_party</th>\n",
       "    </tr>\n",
       "  </thead>\n",
       "  <tbody>\n",
       "    <tr>\n",
       "      <th>0</th>\n",
       "      <td>1</td>\n",
       "      <td>5643</td>\n",
       "      <td>KLAS</td>\n",
       "      <td>Las Vegas, NV</td>\n",
       "      <td>8 News Now at 5 PM</td>\n",
       "      <td>news</td>\n",
       "      <td>2016-09-09 00:12:59</td>\n",
       "      <td>2016-09-09 00:13:29</td>\n",
       "      <td>PolAd_HillaryClinton_f1h3j</td>\n",
       "      <td>https://archive.org/embed/PolAd_HillaryClinton...</td>\n",
       "      <td>...</td>\n",
       "      <td>Hillary Clinton</td>\n",
       "      <td>campaign</td>\n",
       "      <td>pro</td>\n",
       "      <td>2016-09-12 14:49:00</td>\n",
       "      <td>30.0</td>\n",
       "      <td>[Las Vegas,  NV]</td>\n",
       "      <td>NV</td>\n",
       "      <td>Las Vegas</td>\n",
       "      <td>Clinton</td>\n",
       "      <td>D</td>\n",
       "    </tr>\n",
       "    <tr>\n",
       "      <th>1</th>\n",
       "      <td>2</td>\n",
       "      <td>5643</td>\n",
       "      <td>WNCN</td>\n",
       "      <td>Raleigh-Durham-Fayetteville,  NC</td>\n",
       "      <td>North Carolina News at 500PM</td>\n",
       "      <td>news</td>\n",
       "      <td>2016-09-06 21:58:25</td>\n",
       "      <td>2016-09-06 21:58:55</td>\n",
       "      <td>PolAd_HillaryClinton_f1h3j</td>\n",
       "      <td>https://archive.org/embed/PolAd_HillaryClinton...</td>\n",
       "      <td>...</td>\n",
       "      <td>Hillary Clinton</td>\n",
       "      <td>campaign</td>\n",
       "      <td>pro</td>\n",
       "      <td>2016-09-12 14:49:00</td>\n",
       "      <td>30.0</td>\n",
       "      <td>[Raleigh-Durham-Fayetteville,   NC]</td>\n",
       "      <td>NC</td>\n",
       "      <td>Raleigh-Durham-Fayetteville</td>\n",
       "      <td>Clinton</td>\n",
       "      <td>D</td>\n",
       "    </tr>\n",
       "    <tr>\n",
       "      <th>2</th>\n",
       "      <td>3</td>\n",
       "      <td>5643</td>\n",
       "      <td>KLAS</td>\n",
       "      <td>Las Vegas, NV</td>\n",
       "      <td>Face the Nation</td>\n",
       "      <td>news</td>\n",
       "      <td>2016-09-04 16:24:25</td>\n",
       "      <td>2016-09-04 16:24:55</td>\n",
       "      <td>PolAd_HillaryClinton_f1h3j</td>\n",
       "      <td>https://archive.org/embed/PolAd_HillaryClinton...</td>\n",
       "      <td>...</td>\n",
       "      <td>Hillary Clinton</td>\n",
       "      <td>campaign</td>\n",
       "      <td>pro</td>\n",
       "      <td>2016-09-12 14:49:00</td>\n",
       "      <td>30.0</td>\n",
       "      <td>[Las Vegas,  NV]</td>\n",
       "      <td>NV</td>\n",
       "      <td>Las Vegas</td>\n",
       "      <td>Clinton</td>\n",
       "      <td>D</td>\n",
       "    </tr>\n",
       "    <tr>\n",
       "      <th>3</th>\n",
       "      <td>4</td>\n",
       "      <td>5643</td>\n",
       "      <td>WFLA</td>\n",
       "      <td>Tampa-St. Petersburg, FL</td>\n",
       "      <td>Days of Our Lives</td>\n",
       "      <td>not news</td>\n",
       "      <td>2016-08-30 17:59:20</td>\n",
       "      <td>2016-08-30 17:59:50</td>\n",
       "      <td>PolAd_HillaryClinton_f1h3j</td>\n",
       "      <td>https://archive.org/embed/PolAd_HillaryClinton...</td>\n",
       "      <td>...</td>\n",
       "      <td>Hillary Clinton</td>\n",
       "      <td>campaign</td>\n",
       "      <td>pro</td>\n",
       "      <td>2016-09-12 14:49:00</td>\n",
       "      <td>30.0</td>\n",
       "      <td>[Tampa-St. Petersburg,  FL]</td>\n",
       "      <td>FL</td>\n",
       "      <td>Tampa-St. Petersburg</td>\n",
       "      <td>Clinton</td>\n",
       "      <td>D</td>\n",
       "    </tr>\n",
       "    <tr>\n",
       "      <th>4</th>\n",
       "      <td>5</td>\n",
       "      <td>5643</td>\n",
       "      <td>KSNV</td>\n",
       "      <td>Las Vegas, NV</td>\n",
       "      <td>The Tonight Show Starring Jimmy Fallon</td>\n",
       "      <td>news</td>\n",
       "      <td>2016-09-06 07:02:22</td>\n",
       "      <td>2016-09-06 07:02:52</td>\n",
       "      <td>PolAd_HillaryClinton_f1h3j</td>\n",
       "      <td>https://archive.org/embed/PolAd_HillaryClinton...</td>\n",
       "      <td>...</td>\n",
       "      <td>Hillary Clinton</td>\n",
       "      <td>campaign</td>\n",
       "      <td>pro</td>\n",
       "      <td>2016-09-12 14:49:00</td>\n",
       "      <td>30.0</td>\n",
       "      <td>[Las Vegas,  NV]</td>\n",
       "      <td>NV</td>\n",
       "      <td>Las Vegas</td>\n",
       "      <td>Clinton</td>\n",
       "      <td>D</td>\n",
       "    </tr>\n",
       "  </tbody>\n",
       "</table>\n",
       "<p>5 rows × 25 columns</p>\n",
       "</div>"
      ],
      "text/plain": [
       "   id  wp_identifier network                          location  \\\n",
       "0   1           5643    KLAS                     Las Vegas, NV   \n",
       "1   2           5643    WNCN  Raleigh-Durham-Fayetteville,  NC   \n",
       "2   3           5643    KLAS                     Las Vegas, NV   \n",
       "3   4           5643    WFLA          Tampa-St. Petersburg, FL   \n",
       "4   5           5643    KSNV                     Las Vegas, NV   \n",
       "\n",
       "                                  program program_type          start_time  \\\n",
       "0                      8 News Now at 5 PM         news 2016-09-09 00:12:59   \n",
       "1            North Carolina News at 500PM         news 2016-09-06 21:58:25   \n",
       "2                         Face the Nation         news 2016-09-04 16:24:25   \n",
       "3                       Days of Our Lives     not news 2016-08-30 17:59:20   \n",
       "4  The Tonight Show Starring Jimmy Fallon         news 2016-09-06 07:02:22   \n",
       "\n",
       "             end_time                  archive_id  \\\n",
       "0 2016-09-09 00:13:29  PolAd_HillaryClinton_f1h3j   \n",
       "1 2016-09-06 21:58:55  PolAd_HillaryClinton_f1h3j   \n",
       "2 2016-09-04 16:24:55  PolAd_HillaryClinton_f1h3j   \n",
       "3 2016-08-30 17:59:50  PolAd_HillaryClinton_f1h3j   \n",
       "4 2016-09-06 07:02:52  PolAd_HillaryClinton_f1h3j   \n",
       "\n",
       "                                           embed_url      ...        \\\n",
       "0  https://archive.org/embed/PolAd_HillaryClinton...      ...         \n",
       "1  https://archive.org/embed/PolAd_HillaryClinton...      ...         \n",
       "2  https://archive.org/embed/PolAd_HillaryClinton...      ...         \n",
       "3  https://archive.org/embed/PolAd_HillaryClinton...      ...         \n",
       "4  https://archive.org/embed/PolAd_HillaryClinton...      ...         \n",
       "\n",
       "        candidates      type message        date_created ad_duration_secs  \\\n",
       "0  Hillary Clinton  campaign     pro 2016-09-12 14:49:00             30.0   \n",
       "1  Hillary Clinton  campaign     pro 2016-09-12 14:49:00             30.0   \n",
       "2  Hillary Clinton  campaign     pro 2016-09-12 14:49:00             30.0   \n",
       "3  Hillary Clinton  campaign     pro 2016-09-12 14:49:00             30.0   \n",
       "4  Hillary Clinton  campaign     pro 2016-09-12 14:49:00             30.0   \n",
       "\n",
       "                      metro_area_state state                   metro_area  \\\n",
       "0                     [Las Vegas,  NV]    NV                    Las Vegas   \n",
       "1  [Raleigh-Durham-Fayetteville,   NC]    NC  Raleigh-Durham-Fayetteville   \n",
       "2                     [Las Vegas,  NV]    NV                    Las Vegas   \n",
       "3          [Tampa-St. Petersburg,  FL]    FL         Tampa-St. Petersburg   \n",
       "4                     [Las Vegas,  NV]    NV                    Las Vegas   \n",
       "\n",
       "  sponsor_class  sponsor_party  \n",
       "0       Clinton              D  \n",
       "1       Clinton              D  \n",
       "2       Clinton              D  \n",
       "3       Clinton              D  \n",
       "4       Clinton              D  \n",
       "\n",
       "[5 rows x 25 columns]"
      ]
     },
     "execution_count": 165,
     "metadata": {},
     "output_type": "execute_result"
    }
   ],
   "source": [
    "df_ad_state_party_3.head()"
   ]
  },
  {
   "cell_type": "code",
   "execution_count": 155,
   "metadata": {
    "collapsed": false
   },
   "outputs": [],
   "source": [
    "#Pivoting data on party to see number of ads\n",
    "df_ad_state_party_4 = df_ad_state_party_3.copy().\\\n",
    "    groupby(['sponsor_party', 'message'])['message'].count()"
   ]
  },
  {
   "cell_type": "code",
   "execution_count": 156,
   "metadata": {
    "collapsed": false
   },
   "outputs": [
    {
     "data": {
      "text/plain": [
       "sponsor_party  message\n",
       "D              con        34016\n",
       "               mixed       8600\n",
       "               pro         8882\n",
       "               unknown     1133\n",
       "I              mixed          5\n",
       "Name: message, dtype: int64"
      ]
     },
     "execution_count": 156,
     "metadata": {},
     "output_type": "execute_result"
    }
   ],
   "source": [
    "df_ad_state_party_4.head()"
   ]
  },
  {
   "cell_type": "code",
   "execution_count": 176,
   "metadata": {
    "collapsed": false
   },
   "outputs": [],
   "source": [
    "#Pivoting data on party to see the total ad volume\n",
    "df_ad_state_party_5 = df_ad_state_party_3.copy().\\\n",
    "    groupby(['state', 'sponsor_party'])['ad_duration_secs'].sum()"
   ]
  },
  {
   "cell_type": "code",
   "execution_count": 177,
   "metadata": {
    "collapsed": false
   },
   "outputs": [
    {
     "data": {
      "text/plain": [
       "pandas.core.series.Series"
      ]
     },
     "execution_count": 177,
     "metadata": {},
     "output_type": "execute_result"
    }
   ],
   "source": [
    "type(df_ad_state_party_5)"
   ]
  },
  {
   "cell_type": "code",
   "execution_count": 178,
   "metadata": {
    "collapsed": false
   },
   "outputs": [],
   "source": [
    "#Converting data into hours\n",
    "df_ad_state_party_5 = round(df_ad_state_party_5/3600,2)"
   ]
  },
  {
   "cell_type": "code",
   "execution_count": 179,
   "metadata": {
    "collapsed": false
   },
   "outputs": [
    {
     "data": {
      "text/html": [
       "<div>\n",
       "<table border=\"1\" class=\"dataframe\">\n",
       "  <thead>\n",
       "    <tr style=\"text-align: right;\">\n",
       "      <th>sponsor_party</th>\n",
       "      <th>D</th>\n",
       "      <th>I</th>\n",
       "      <th>R</th>\n",
       "    </tr>\n",
       "    <tr>\n",
       "      <th>state</th>\n",
       "      <th></th>\n",
       "      <th></th>\n",
       "      <th></th>\n",
       "    </tr>\n",
       "  </thead>\n",
       "  <tbody>\n",
       "    <tr>\n",
       "      <th>AZ</th>\n",
       "      <td>24.98</td>\n",
       "      <td>NaN</td>\n",
       "      <td>4.21</td>\n",
       "    </tr>\n",
       "    <tr>\n",
       "      <th>CO</th>\n",
       "      <td>15.96</td>\n",
       "      <td>NaN</td>\n",
       "      <td>25.82</td>\n",
       "    </tr>\n",
       "    <tr>\n",
       "      <th>FL</th>\n",
       "      <td>76.49</td>\n",
       "      <td>NaN</td>\n",
       "      <td>36.25</td>\n",
       "    </tr>\n",
       "    <tr>\n",
       "      <th>IA</th>\n",
       "      <td>36.76</td>\n",
       "      <td>0.77</td>\n",
       "      <td>12.17</td>\n",
       "    </tr>\n",
       "    <tr>\n",
       "      <th>NC</th>\n",
       "      <td>45.05</td>\n",
       "      <td>NaN</td>\n",
       "      <td>14.42</td>\n",
       "    </tr>\n",
       "    <tr>\n",
       "      <th>NH</th>\n",
       "      <td>25.16</td>\n",
       "      <td>NaN</td>\n",
       "      <td>18.73</td>\n",
       "    </tr>\n",
       "    <tr>\n",
       "      <th>NV</th>\n",
       "      <td>76.54</td>\n",
       "      <td>0.50</td>\n",
       "      <td>25.40</td>\n",
       "    </tr>\n",
       "    <tr>\n",
       "      <th>National</th>\n",
       "      <td>46.04</td>\n",
       "      <td>0.20</td>\n",
       "      <td>23.53</td>\n",
       "    </tr>\n",
       "    <tr>\n",
       "      <th>OH</th>\n",
       "      <td>62.76</td>\n",
       "      <td>0.01</td>\n",
       "      <td>32.06</td>\n",
       "    </tr>\n",
       "    <tr>\n",
       "      <th>PA</th>\n",
       "      <td>73.25</td>\n",
       "      <td>NaN</td>\n",
       "      <td>33.51</td>\n",
       "    </tr>\n",
       "    <tr>\n",
       "      <th>VA</th>\n",
       "      <td>4.62</td>\n",
       "      <td>NaN</td>\n",
       "      <td>9.77</td>\n",
       "    </tr>\n",
       "    <tr>\n",
       "      <th>WI</th>\n",
       "      <td>12.40</td>\n",
       "      <td>NaN</td>\n",
       "      <td>23.64</td>\n",
       "    </tr>\n",
       "  </tbody>\n",
       "</table>\n",
       "</div>"
      ],
      "text/plain": [
       "sponsor_party      D     I      R\n",
       "state                            \n",
       "AZ             24.98   NaN   4.21\n",
       "CO             15.96   NaN  25.82\n",
       "FL             76.49   NaN  36.25\n",
       "IA             36.76  0.77  12.17\n",
       "NC             45.05   NaN  14.42\n",
       "NH             25.16   NaN  18.73\n",
       "NV             76.54  0.50  25.40\n",
       "National       46.04  0.20  23.53\n",
       "OH             62.76  0.01  32.06\n",
       "PA             73.25   NaN  33.51\n",
       "VA              4.62   NaN   9.77\n",
       "WI             12.40   NaN  23.64"
      ]
     },
     "execution_count": 179,
     "metadata": {},
     "output_type": "execute_result"
    }
   ],
   "source": [
    "#unstack to convert into a df and set index to state\n",
    "df_ad_state_party_5.unstack()"
   ]
  },
  {
   "cell_type": "code",
   "execution_count": 180,
   "metadata": {
    "collapsed": false
   },
   "outputs": [],
   "source": [
    "df_ad_state_party_6 = df_ad_state_party_5.unstack()"
   ]
  },
  {
   "cell_type": "code",
   "execution_count": 181,
   "metadata": {
    "collapsed": false
   },
   "outputs": [
    {
     "data": {
      "image/png": "[encoded data removed]",
      "text/plain": [
       "<matplotlib.figure.Figure at 0x121ecc860>"
      ]
     },
     "metadata": {},
     "output_type": "display_data"
    }
   ],
   "source": [
    "#Non object oriented way of plotting--not recommended\n",
    "df_ad_state_party_6.plot(kind='bar', color='bgrm')\n",
    "plt.title(\"Ad Volume by Party\")\n",
    "plt.ylabel('Total Ad volume in Hours')\n",
    "#plt.savefig('ana_final_pics/ad_volume_by_part_without_diff.png')"
   ]
  },
  {
   "cell_type": "code",
   "execution_count": 191,
   "metadata": {
    "collapsed": false
   },
   "outputs": [
    {
     "data": {
      "image/png": "[encoded data removed]",
      "text/plain": [
       "<matplotlib.figure.Figure at 0x121fefb38>"
      ]
     },
     "metadata": {},
     "output_type": "display_data"
    }
   ],
   "source": [
    "#Right way to plot with fig,ax --gives more control\n",
    "fig, ax = plt.subplots(figsize=(10, 8))\n",
    "ax = df_ad_state_party_6.plot.bar(ax=ax,color='byrm')\n",
    "\n",
    "ax.set(ylabel= 'Ad Volume in Hours',\n",
    "       title = 'Ad volume comparison for battleground states')\n",
    "plt.savefig('ana_final_pics/ad_volume_by_part_without_diff.png')"
   ]
  },
  {
   "cell_type": "code",
   "execution_count": 184,
   "metadata": {
    "collapsed": false
   },
   "outputs": [
    {
     "data": {
      "text/plain": [
       "state     message\n",
       "AZ        con        1802\n",
       "          mixed       464\n",
       "          pro         484\n",
       "CO        con        1565\n",
       "          mixed        26\n",
       "          pro          35\n",
       "FL        con        5020\n",
       "          mixed      1644\n",
       "          pro        1358\n",
       "IA        con        2179\n",
       "          mixed       807\n",
       "          pro         828\n",
       "NC        con        3006\n",
       "          mixed       789\n",
       "          pro        1128\n",
       "NH        con        1939\n",
       "          mixed       441\n",
       "          pro         364\n",
       "NV        con        4872\n",
       "          mixed      1579\n",
       "          pro        1445\n",
       "National  con        2528\n",
       "          mixed       425\n",
       "          pro         540\n",
       "          unknown    1132\n",
       "OH        con        4253\n",
       "          mixed      1061\n",
       "          pro        1226\n",
       "          unknown       1\n",
       "PA        con        5306\n",
       "          mixed      1209\n",
       "          pro        1367\n",
       "VA        con         485\n",
       "          mixed        25\n",
       "          pro          27\n",
       "WI        con        1061\n",
       "          mixed       130\n",
       "          pro          80\n",
       "Name: id, dtype: int64"
      ]
     },
     "execution_count": 184,
     "metadata": {},
     "output_type": "execute_result"
    }
   ],
   "source": [
    "df_ad_state_party_3[df_ad_state_party_3['sponsor_party'] == 'D'].groupby(['state', 'message'])['id'].count()"
   ]
  },
  {
   "cell_type": "code",
   "execution_count": 185,
   "metadata": {
    "collapsed": false
   },
   "outputs": [
    {
     "data": {
      "text/plain": [
       "pandas.core.frame.DataFrame"
      ]
     },
     "execution_count": 185,
     "metadata": {},
     "output_type": "execute_result"
    }
   ],
   "source": [
    "#Using unstack to flatten the data and convert to dataframe\n",
    "type(df_ad_state_party_3[df_ad_state_party_3['sponsor_party'] == 'D'].\\\n",
    "            groupby(['state', 'message'])['id'].count().unstack())"
   ]
  },
  {
   "cell_type": "code",
   "execution_count": 205,
   "metadata": {
    "collapsed": false
   },
   "outputs": [],
   "source": [
    "df_ad_state_party_7 = df_ad_state_party_3[df_ad_state_party_3['sponsor_party'] == 'D'].\\\n",
    "                        groupby(['state', 'message'])['id'].count().unstack()"
   ]
  },
  {
   "cell_type": "code",
   "execution_count": 206,
   "metadata": {
    "collapsed": false
   },
   "outputs": [
    {
     "data": {
      "text/html": [
       "<div>\n",
       "<table border=\"1\" class=\"dataframe\">\n",
       "  <thead>\n",
       "    <tr style=\"text-align: right;\">\n",
       "      <th>message</th>\n",
       "      <th>con</th>\n",
       "      <th>mixed</th>\n",
       "      <th>pro</th>\n",
       "      <th>unknown</th>\n",
       "    </tr>\n",
       "    <tr>\n",
       "      <th>state</th>\n",
       "      <th></th>\n",
       "      <th></th>\n",
       "      <th></th>\n",
       "      <th></th>\n",
       "    </tr>\n",
       "  </thead>\n",
       "  <tbody>\n",
       "    <tr>\n",
       "      <th>AZ</th>\n",
       "      <td>1802.0</td>\n",
       "      <td>464.0</td>\n",
       "      <td>484.0</td>\n",
       "      <td>NaN</td>\n",
       "    </tr>\n",
       "    <tr>\n",
       "      <th>CO</th>\n",
       "      <td>1565.0</td>\n",
       "      <td>26.0</td>\n",
       "      <td>35.0</td>\n",
       "      <td>NaN</td>\n",
       "    </tr>\n",
       "    <tr>\n",
       "      <th>FL</th>\n",
       "      <td>5020.0</td>\n",
       "      <td>1644.0</td>\n",
       "      <td>1358.0</td>\n",
       "      <td>NaN</td>\n",
       "    </tr>\n",
       "    <tr>\n",
       "      <th>IA</th>\n",
       "      <td>2179.0</td>\n",
       "      <td>807.0</td>\n",
       "      <td>828.0</td>\n",
       "      <td>NaN</td>\n",
       "    </tr>\n",
       "    <tr>\n",
       "      <th>NC</th>\n",
       "      <td>3006.0</td>\n",
       "      <td>789.0</td>\n",
       "      <td>1128.0</td>\n",
       "      <td>NaN</td>\n",
       "    </tr>\n",
       "    <tr>\n",
       "      <th>NH</th>\n",
       "      <td>1939.0</td>\n",
       "      <td>441.0</td>\n",
       "      <td>364.0</td>\n",
       "      <td>NaN</td>\n",
       "    </tr>\n",
       "    <tr>\n",
       "      <th>NV</th>\n",
       "      <td>4872.0</td>\n",
       "      <td>1579.0</td>\n",
       "      <td>1445.0</td>\n",
       "      <td>NaN</td>\n",
       "    </tr>\n",
       "    <tr>\n",
       "      <th>National</th>\n",
       "      <td>2528.0</td>\n",
       "      <td>425.0</td>\n",
       "      <td>540.0</td>\n",
       "      <td>1132.0</td>\n",
       "    </tr>\n",
       "    <tr>\n",
       "      <th>OH</th>\n",
       "      <td>4253.0</td>\n",
       "      <td>1061.0</td>\n",
       "      <td>1226.0</td>\n",
       "      <td>1.0</td>\n",
       "    </tr>\n",
       "    <tr>\n",
       "      <th>PA</th>\n",
       "      <td>5306.0</td>\n",
       "      <td>1209.0</td>\n",
       "      <td>1367.0</td>\n",
       "      <td>NaN</td>\n",
       "    </tr>\n",
       "    <tr>\n",
       "      <th>VA</th>\n",
       "      <td>485.0</td>\n",
       "      <td>25.0</td>\n",
       "      <td>27.0</td>\n",
       "      <td>NaN</td>\n",
       "    </tr>\n",
       "    <tr>\n",
       "      <th>WI</th>\n",
       "      <td>1061.0</td>\n",
       "      <td>130.0</td>\n",
       "      <td>80.0</td>\n",
       "      <td>NaN</td>\n",
       "    </tr>\n",
       "  </tbody>\n",
       "</table>\n",
       "</div>"
      ],
      "text/plain": [
       "message      con   mixed     pro  unknown\n",
       "state                                    \n",
       "AZ        1802.0   464.0   484.0      NaN\n",
       "CO        1565.0    26.0    35.0      NaN\n",
       "FL        5020.0  1644.0  1358.0      NaN\n",
       "IA        2179.0   807.0   828.0      NaN\n",
       "NC        3006.0   789.0  1128.0      NaN\n",
       "NH        1939.0   441.0   364.0      NaN\n",
       "NV        4872.0  1579.0  1445.0      NaN\n",
       "National  2528.0   425.0   540.0   1132.0\n",
       "OH        4253.0  1061.0  1226.0      1.0\n",
       "PA        5306.0  1209.0  1367.0      NaN\n",
       "VA         485.0    25.0    27.0      NaN\n",
       "WI        1061.0   130.0    80.0      NaN"
      ]
     },
     "execution_count": 206,
     "metadata": {},
     "output_type": "execute_result"
    }
   ],
   "source": [
    "df_ad_state_party_7"
   ]
  },
  {
   "cell_type": "code",
   "execution_count": 207,
   "metadata": {
    "collapsed": false
   },
   "outputs": [
    {
     "data": {
      "text/plain": [
       "<matplotlib.text.Text at 0x125959e48>"
      ]
     },
     "execution_count": 207,
     "metadata": {},
     "output_type": "execute_result"
    },
    {
     "data": {
      "image/png": "[encoded data removed]",
      "text/plain": [
       "<matplotlib.figure.Figure at 0x1258cc438>"
      ]
     },
     "metadata": {},
     "output_type": "display_data"
    }
   ],
   "source": [
    "df_ad_state_party_7.plot(kind='bar')\n",
    "plt.ylabel('Total Number of Ads')\n",
    "plt.title(\"Count of Positive and Negative Ads for Democratic party\")"
   ]
  },
  {
   "cell_type": "code",
   "execution_count": 208,
   "metadata": {
    "collapsed": false
   },
   "outputs": [
    {
     "data": {
      "image/png": "[encoded data removed]",
      "text/plain": [
       "<matplotlib.figure.Figure at 0x12548d3c8>"
      ]
     },
     "metadata": {},
     "output_type": "display_data"
    }
   ],
   "source": [
    "fig, ax = plt.subplots(figsize=(10, 8))\n",
    "ax = df_ad_state_party_7.plot.bar(ax=ax,color='rbgy')\n",
    "\n",
    "ax.set(ylabel= 'Total number of ads',\n",
    "       title = 'Count of Positive and Negative Ads for Democratic party') \n",
    "plt.savefig('ana_final_pics/count_pos_vs_neg_ads_for_Democratic_party')"
   ]
  },
  {
   "cell_type": "code",
   "execution_count": 209,
   "metadata": {
    "collapsed": false
   },
   "outputs": [],
   "source": [
    "df_ad_state_party_8 = df_ad_state_party_3[df_ad_state_party_3['sponsor_party'] == 'R']\\\n",
    "      .groupby(['state', 'message'])['id'].count().unstack()"
   ]
  },
  {
   "cell_type": "code",
   "execution_count": 210,
   "metadata": {
    "collapsed": false
   },
   "outputs": [
    {
     "data": {
      "text/plain": [
       "<matplotlib.text.Text at 0x1257bd128>"
      ]
     },
     "execution_count": 210,
     "metadata": {},
     "output_type": "execute_result"
    },
    {
     "data": {
      "image/png": "[encoded data removed]",
      "text/plain": [
       "<matplotlib.figure.Figure at 0x125985940>"
      ]
     },
     "metadata": {},
     "output_type": "display_data"
    }
   ],
   "source": [
    "df_ad_state_party_8.plot(kind='bar')\n",
    "plt.ylabel('Total Number of Ads')\n",
    "plt.title(\"Count of Positive and Negative Ads for Republican party\")"
   ]
  },
  {
   "cell_type": "code",
   "execution_count": 211,
   "metadata": {
    "collapsed": false
   },
   "outputs": [
    {
     "data": {
      "image/png": "[encoded data removed]",
      "text/plain": [
       "<matplotlib.figure.Figure at 0x123e06f60>"
      ]
     },
     "metadata": {},
     "output_type": "display_data"
    }
   ],
   "source": [
    "fig, ax = plt.subplots(figsize=(10, 8))\n",
    "ax = df_ad_state_party_8.plot.bar(ax=ax,color='rbgy')\n",
    "\n",
    "ax.set(ylabel= 'Total number of hours',\n",
    "       title = 'Count of Positive and Negative Ads for Republican party')\n",
    "plt.savefig('ana_final_pics/count_pos_vs_neg_ads_for_Republican_party')\n"
   ]
  },
  {
   "cell_type": "code",
   "execution_count": 212,
   "metadata": {
    "collapsed": false
   },
   "outputs": [],
   "source": [
    "df_ad_state_party_9 = df_ad_state_party_3[df_ad_state_party_3['sponsor_party'] == 'D'].groupby(['state', 'message'])['ad_duration_secs'].sum().unstack()"
   ]
  },
  {
   "cell_type": "code",
   "execution_count": 213,
   "metadata": {
    "collapsed": true
   },
   "outputs": [],
   "source": [
    "df_ad_state_party_9 = df_ad_state_party_9/3600"
   ]
  },
  {
   "cell_type": "code",
   "execution_count": 214,
   "metadata": {
    "collapsed": false
   },
   "outputs": [
    {
     "data": {
      "text/html": [
       "<div>\n",
       "<table border=\"1\" class=\"dataframe\">\n",
       "  <thead>\n",
       "    <tr style=\"text-align: right;\">\n",
       "      <th>message</th>\n",
       "      <th>con</th>\n",
       "      <th>mixed</th>\n",
       "      <th>pro</th>\n",
       "      <th>unknown</th>\n",
       "    </tr>\n",
       "    <tr>\n",
       "      <th>state</th>\n",
       "      <th></th>\n",
       "      <th></th>\n",
       "      <th></th>\n",
       "      <th></th>\n",
       "    </tr>\n",
       "  </thead>\n",
       "  <tbody>\n",
       "    <tr>\n",
       "      <th>AZ</th>\n",
       "      <td>16.401667</td>\n",
       "      <td>4.165556</td>\n",
       "      <td>4.408333</td>\n",
       "      <td>NaN</td>\n",
       "    </tr>\n",
       "    <tr>\n",
       "      <th>CO</th>\n",
       "      <td>15.318611</td>\n",
       "      <td>0.291944</td>\n",
       "      <td>0.353333</td>\n",
       "      <td>NaN</td>\n",
       "    </tr>\n",
       "    <tr>\n",
       "      <th>FL</th>\n",
       "      <td>46.702222</td>\n",
       "      <td>16.306389</td>\n",
       "      <td>13.476944</td>\n",
       "      <td>NaN</td>\n",
       "    </tr>\n",
       "    <tr>\n",
       "      <th>IA</th>\n",
       "      <td>19.743889</td>\n",
       "      <td>8.226667</td>\n",
       "      <td>8.785278</td>\n",
       "      <td>NaN</td>\n",
       "    </tr>\n",
       "    <tr>\n",
       "      <th>NC</th>\n",
       "      <td>26.575000</td>\n",
       "      <td>7.385833</td>\n",
       "      <td>11.088611</td>\n",
       "      <td>NaN</td>\n",
       "    </tr>\n",
       "    <tr>\n",
       "      <th>NH</th>\n",
       "      <td>17.878889</td>\n",
       "      <td>4.102222</td>\n",
       "      <td>3.177500</td>\n",
       "      <td>NaN</td>\n",
       "    </tr>\n",
       "    <tr>\n",
       "      <th>NV</th>\n",
       "      <td>44.909722</td>\n",
       "      <td>16.131667</td>\n",
       "      <td>15.497500</td>\n",
       "      <td>NaN</td>\n",
       "    </tr>\n",
       "    <tr>\n",
       "      <th>National</th>\n",
       "      <td>24.990278</td>\n",
       "      <td>4.818611</td>\n",
       "      <td>6.393056</td>\n",
       "      <td>9.833333</td>\n",
       "    </tr>\n",
       "    <tr>\n",
       "      <th>OH</th>\n",
       "      <td>39.273333</td>\n",
       "      <td>11.038056</td>\n",
       "      <td>12.433333</td>\n",
       "      <td>0.019444</td>\n",
       "    </tr>\n",
       "    <tr>\n",
       "      <th>PA</th>\n",
       "      <td>47.542222</td>\n",
       "      <td>11.749444</td>\n",
       "      <td>13.958056</td>\n",
       "      <td>NaN</td>\n",
       "    </tr>\n",
       "    <tr>\n",
       "      <th>VA</th>\n",
       "      <td>4.046944</td>\n",
       "      <td>0.241944</td>\n",
       "      <td>0.328333</td>\n",
       "      <td>NaN</td>\n",
       "    </tr>\n",
       "    <tr>\n",
       "      <th>WI</th>\n",
       "      <td>10.133889</td>\n",
       "      <td>1.131111</td>\n",
       "      <td>1.138611</td>\n",
       "      <td>NaN</td>\n",
       "    </tr>\n",
       "  </tbody>\n",
       "</table>\n",
       "</div>"
      ],
      "text/plain": [
       "message         con      mixed        pro   unknown\n",
       "state                                              \n",
       "AZ        16.401667   4.165556   4.408333       NaN\n",
       "CO        15.318611   0.291944   0.353333       NaN\n",
       "FL        46.702222  16.306389  13.476944       NaN\n",
       "IA        19.743889   8.226667   8.785278       NaN\n",
       "NC        26.575000   7.385833  11.088611       NaN\n",
       "NH        17.878889   4.102222   3.177500       NaN\n",
       "NV        44.909722  16.131667  15.497500       NaN\n",
       "National  24.990278   4.818611   6.393056  9.833333\n",
       "OH        39.273333  11.038056  12.433333  0.019444\n",
       "PA        47.542222  11.749444  13.958056       NaN\n",
       "VA         4.046944   0.241944   0.328333       NaN\n",
       "WI        10.133889   1.131111   1.138611       NaN"
      ]
     },
     "execution_count": 214,
     "metadata": {},
     "output_type": "execute_result"
    }
   ],
   "source": [
    "df_ad_state_party_9"
   ]
  },
  {
   "cell_type": "code",
   "execution_count": 65,
   "metadata": {
    "collapsed": false
   },
   "outputs": [
    {
     "data": {
      "text/plain": [
       "<matplotlib.text.Text at 0x11c7db828>"
      ]
     },
     "execution_count": 65,
     "metadata": {},
     "output_type": "execute_result"
    },
    {
     "data": {
      "image/png": "[encoded data removed]",
      "text/plain": [
       "<matplotlib.figure.Figure at 0x119e0e438>"
      ]
     },
     "metadata": {},
     "output_type": "display_data"
    }
   ],
   "source": [
    "df_ad_state_party_9.plot(kind='bar')\n",
    "plt.ylabel('Total Ad Volume in Hours')\n",
    "plt.title(\"Volume of Positive and Negative Ads for Democratic party\")"
   ]
  },
  {
   "cell_type": "code",
   "execution_count": 215,
   "metadata": {
    "collapsed": false
   },
   "outputs": [
    {
     "data": {
      "image/png": "[encoded data removed]",
      "text/plain": [
       "<matplotlib.figure.Figure at 0x123aea470>"
      ]
     },
     "metadata": {},
     "output_type": "display_data"
    }
   ],
   "source": [
    "fig, ax = plt.subplots(figsize=(10, 8))\n",
    "ax = df_ad_state_party_9.plot.bar(ax=ax,color='rbgy')\n",
    "\n",
    "ax.set(ylabel= 'Total Ad Volume in Hours',\n",
    "       title = 'Volume of Positive and Negative Ads for Democratic party')  \n",
    "plt.savefig('ana_final_pics/Vol_pos_vs_neg_ads_for_Democratic_party')"
   ]
  },
  {
   "cell_type": "code",
   "execution_count": null,
   "metadata": {
    "collapsed": true
   },
   "outputs": [],
   "source": []
  },
  {
   "cell_type": "code",
   "execution_count": 216,
   "metadata": {
    "collapsed": false
   },
   "outputs": [],
   "source": [
    "df_ad_state_party_10 = df_ad_state_party_3[df_ad_state_party_3['sponsor_party'] == 'R'].groupby(['state', 'message'])['ad_duration_secs'].sum().unstack()"
   ]
  },
  {
   "cell_type": "code",
   "execution_count": 217,
   "metadata": {
    "collapsed": true
   },
   "outputs": [],
   "source": [
    "#Convert seconds into hours\n",
    "df_ad_state_party_10 = df_ad_state_party_10/3600"
   ]
  },
  {
   "cell_type": "code",
   "execution_count": 218,
   "metadata": {
    "collapsed": false
   },
   "outputs": [
    {
     "data": {
      "text/plain": [
       "<matplotlib.text.Text at 0x1225eb7b8>"
      ]
     },
     "execution_count": 218,
     "metadata": {},
     "output_type": "execute_result"
    },
    {
     "data": {
      "image/png": "[encoded data removed]",
      "text/plain": [
       "<matplotlib.figure.Figure at 0x118f3fb00>"
      ]
     },
     "metadata": {},
     "output_type": "display_data"
    }
   ],
   "source": [
    "df_ad_state_party_10.plot(kind='bar')\n",
    "plt.ylabel('Total Ad Volume in Hours')\n",
    "plt.title(\"Volume of Positive and Negative Ads for Republican party\")"
   ]
  },
  {
   "cell_type": "code",
   "execution_count": 219,
   "metadata": {
    "collapsed": false
   },
   "outputs": [
    {
     "data": {
      "image/png": "[encoded data removed]",
      "text/plain": [
       "<matplotlib.figure.Figure at 0x1220520f0>"
      ]
     },
     "metadata": {},
     "output_type": "display_data"
    }
   ],
   "source": [
    "fig, ax = plt.subplots(figsize=(10, 8))\n",
    "ax = df_ad_state_party_10.plot.bar(ax=ax,color='rbgy')\n",
    "\n",
    "ax.set(ylabel= 'Total Ad Volume in Hours',\n",
    "       title = 'Volume of Positive and Negative Ads for Republican party')  \n",
    "plt.savefig('ana_final_pics/vol_pos_vs_neg_ads_for_Rep_party')"
   ]
  },
  {
   "cell_type": "code",
   "execution_count": 102,
   "metadata": {
    "collapsed": true
   },
   "outputs": [],
   "source": [
    "#Pulling in state victory margins data \n",
    "#df_state_victory_margins = pd.read_csv('./state_victory_margins_data.csv')\n",
    "df_Trump_2016_margins = pd.read_csv('./data/state_victory_margins_data1.csv')\n"
   ]
  },
  {
   "cell_type": "code",
   "execution_count": 103,
   "metadata": {
    "collapsed": false
   },
   "outputs": [],
   "source": [
    "df_Trump_2016_margins.sort_values('Net Trump Margins', ascending=False, inplace=True)"
   ]
  },
  {
   "cell_type": "code",
   "execution_count": 104,
   "metadata": {
    "collapsed": false
   },
   "outputs": [
    {
     "data": {
      "text/html": [
       "<div>\n",
       "<table border=\"1\" class=\"dataframe\">\n",
       "  <thead>\n",
       "    <tr style=\"text-align: right;\">\n",
       "      <th></th>\n",
       "      <th>state</th>\n",
       "      <th>2012 Percent margin</th>\n",
       "      <th>2012 Winner</th>\n",
       "      <th>2016 Percent margin</th>\n",
       "      <th>2016 Winner</th>\n",
       "      <th>Net Trump Margins</th>\n",
       "      <th>Comments</th>\n",
       "    </tr>\n",
       "  </thead>\n",
       "  <tbody>\n",
       "    <tr>\n",
       "      <th>4</th>\n",
       "      <td>IA</td>\n",
       "      <td>5.81</td>\n",
       "      <td>D</td>\n",
       "      <td>9.41</td>\n",
       "      <td>R</td>\n",
       "      <td>15.22</td>\n",
       "      <td>changed D to R</td>\n",
       "    </tr>\n",
       "    <tr>\n",
       "      <th>3</th>\n",
       "      <td>OH</td>\n",
       "      <td>2.97</td>\n",
       "      <td>D</td>\n",
       "      <td>8.07</td>\n",
       "      <td>R</td>\n",
       "      <td>11.04</td>\n",
       "      <td>changed D to R</td>\n",
       "    </tr>\n",
       "    <tr>\n",
       "      <th>7</th>\n",
       "      <td>WI</td>\n",
       "      <td>6.94</td>\n",
       "      <td>D</td>\n",
       "      <td>0.76</td>\n",
       "      <td>R</td>\n",
       "      <td>7.70</td>\n",
       "      <td>changed D to R</td>\n",
       "    </tr>\n",
       "    <tr>\n",
       "      <th>5</th>\n",
       "      <td>PA</td>\n",
       "      <td>5.38</td>\n",
       "      <td>D</td>\n",
       "      <td>0.72</td>\n",
       "      <td>R</td>\n",
       "      <td>6.10</td>\n",
       "      <td>changed D to R</td>\n",
       "    </tr>\n",
       "    <tr>\n",
       "      <th>9</th>\n",
       "      <td>NH</td>\n",
       "      <td>5.58</td>\n",
       "      <td>D</td>\n",
       "      <td>0.37</td>\n",
       "      <td>D</td>\n",
       "      <td>5.21</td>\n",
       "      <td>fell for D</td>\n",
       "    </tr>\n",
       "    <tr>\n",
       "      <th>0</th>\n",
       "      <td>NV</td>\n",
       "      <td>6.68</td>\n",
       "      <td>D</td>\n",
       "      <td>2.42</td>\n",
       "      <td>D</td>\n",
       "      <td>4.26</td>\n",
       "      <td>margin fell for D</td>\n",
       "    </tr>\n",
       "    <tr>\n",
       "      <th>1</th>\n",
       "      <td>NC</td>\n",
       "      <td>2.04</td>\n",
       "      <td>R</td>\n",
       "      <td>3.66</td>\n",
       "      <td>R</td>\n",
       "      <td>1.62</td>\n",
       "      <td>increased for R</td>\n",
       "    </tr>\n",
       "    <tr>\n",
       "      <th>6</th>\n",
       "      <td>CO</td>\n",
       "      <td>5.36</td>\n",
       "      <td>D</td>\n",
       "      <td>4.91</td>\n",
       "      <td>D</td>\n",
       "      <td>0.45</td>\n",
       "      <td>margin fell for D</td>\n",
       "    </tr>\n",
       "    <tr>\n",
       "      <th>2</th>\n",
       "      <td>FL</td>\n",
       "      <td>0.88</td>\n",
       "      <td>D</td>\n",
       "      <td>1.19</td>\n",
       "      <td>R</td>\n",
       "      <td>0.31</td>\n",
       "      <td>increased for R</td>\n",
       "    </tr>\n",
       "    <tr>\n",
       "      <th>10</th>\n",
       "      <td>VA</td>\n",
       "      <td>3.86</td>\n",
       "      <td>D</td>\n",
       "      <td>5.32</td>\n",
       "      <td>D</td>\n",
       "      <td>-1.46</td>\n",
       "      <td>fell for R</td>\n",
       "    </tr>\n",
       "    <tr>\n",
       "      <th>8</th>\n",
       "      <td>AZ</td>\n",
       "      <td>9.04</td>\n",
       "      <td>R</td>\n",
       "      <td>3.50</td>\n",
       "      <td>R</td>\n",
       "      <td>-5.54</td>\n",
       "      <td>fel for R</td>\n",
       "    </tr>\n",
       "  </tbody>\n",
       "</table>\n",
       "</div>"
      ],
      "text/plain": [
       "   state  2012 Percent margin  2012 Winner  2016 Percent margin 2016 Winner  \\\n",
       "4     IA                  5.81           D                 9.41           R   \n",
       "3     OH                  2.97           D                 8.07           R   \n",
       "7     WI                  6.94           D                 0.76           R   \n",
       "5     PA                  5.38           D                 0.72           R   \n",
       "9     NH                  5.58           D                 0.37           D   \n",
       "0     NV                  6.68           D                 2.42           D   \n",
       "1     NC                  2.04           R                 3.66           R   \n",
       "6     CO                  5.36           D                 4.91           D   \n",
       "2     FL                  0.88           D                 1.19           R   \n",
       "10    VA                  3.86           D                 5.32           D   \n",
       "8     AZ                  9.04           R                 3.50           R   \n",
       "\n",
       "    Net Trump Margins           Comments  \n",
       "4               15.22     changed D to R  \n",
       "3               11.04     changed D to R  \n",
       "7                7.70     changed D to R  \n",
       "5                6.10     changed D to R  \n",
       "9                5.21         fell for D  \n",
       "0                4.26  margin fell for D  \n",
       "1                1.62    increased for R  \n",
       "6                0.45  margin fell for D  \n",
       "2                0.31    increased for R  \n",
       "10              -1.46         fell for R  \n",
       "8               -5.54          fel for R  "
      ]
     },
     "execution_count": 104,
     "metadata": {},
     "output_type": "execute_result"
    }
   ],
   "source": [
    "df_Trump_2016_margins"
   ]
  },
  {
   "cell_type": "code",
   "execution_count": 74,
   "metadata": {
    "collapsed": false
   },
   "outputs": [
    {
     "data": {
      "text/plain": [
       "Index(['state', '2012 Percent margin ', '2012 Winner', '2016 Percent margin',\n",
       "       '2016 Winner', 'Net Trump Margins', 'Comments'],\n",
       "      dtype='object')"
      ]
     },
     "execution_count": 74,
     "metadata": {},
     "output_type": "execute_result"
    }
   ],
   "source": [
    "df_Trump_2016_margins.columns"
   ]
  },
  {
   "cell_type": "code",
   "execution_count": 75,
   "metadata": {
    "collapsed": false
   },
   "outputs": [
    {
     "data": {
      "text/plain": [
       "Int64Index([4, 3, 7, 5, 9, 0, 1, 6, 2, 10, 8], dtype='int64')"
      ]
     },
     "execution_count": 75,
     "metadata": {},
     "output_type": "execute_result"
    }
   ],
   "source": [
    "df_Trump_2016_margins.index"
   ]
  },
  {
   "cell_type": "code",
   "execution_count": 109,
   "metadata": {
    "collapsed": false
   },
   "outputs": [
    {
     "data": {
      "text/plain": [
       "Index(['D', 'I', 'R'], dtype='object', name='sponsor_party')"
      ]
     },
     "execution_count": 109,
     "metadata": {},
     "output_type": "execute_result"
    }
   ],
   "source": [
    "df_ad_state_party_6.columns"
   ]
  },
  {
   "cell_type": "code",
   "execution_count": 200,
   "metadata": {
    "collapsed": false
   },
   "outputs": [],
   "source": [
    "df_ad_state_party_6['Diff between R & D'] = df_ad_state_party_6['R']- df_ad_state_party_6['D']"
   ]
  },
  {
   "cell_type": "code",
   "execution_count": 201,
   "metadata": {
    "collapsed": false
   },
   "outputs": [],
   "source": [
    "df_ad_state_party_6.sort_values('Diff between R & D', ascending=False, inplace=True)"
   ]
  },
  {
   "cell_type": "code",
   "execution_count": 202,
   "metadata": {
    "collapsed": false
   },
   "outputs": [
    {
     "data": {
      "text/html": [
       "<div>\n",
       "<table border=\"1\" class=\"dataframe\">\n",
       "  <thead>\n",
       "    <tr style=\"text-align: right;\">\n",
       "      <th>sponsor_party</th>\n",
       "      <th>D</th>\n",
       "      <th>I</th>\n",
       "      <th>R</th>\n",
       "      <th>Diff between R &amp; D</th>\n",
       "    </tr>\n",
       "    <tr>\n",
       "      <th>state</th>\n",
       "      <th></th>\n",
       "      <th></th>\n",
       "      <th></th>\n",
       "      <th></th>\n",
       "    </tr>\n",
       "  </thead>\n",
       "  <tbody>\n",
       "    <tr>\n",
       "      <th>WI</th>\n",
       "      <td>12.40</td>\n",
       "      <td>NaN</td>\n",
       "      <td>23.64</td>\n",
       "      <td>11.24</td>\n",
       "    </tr>\n",
       "    <tr>\n",
       "      <th>CO</th>\n",
       "      <td>15.96</td>\n",
       "      <td>NaN</td>\n",
       "      <td>25.82</td>\n",
       "      <td>9.86</td>\n",
       "    </tr>\n",
       "    <tr>\n",
       "      <th>VA</th>\n",
       "      <td>4.62</td>\n",
       "      <td>NaN</td>\n",
       "      <td>9.77</td>\n",
       "      <td>5.15</td>\n",
       "    </tr>\n",
       "    <tr>\n",
       "      <th>NH</th>\n",
       "      <td>25.16</td>\n",
       "      <td>NaN</td>\n",
       "      <td>18.73</td>\n",
       "      <td>-6.43</td>\n",
       "    </tr>\n",
       "    <tr>\n",
       "      <th>AZ</th>\n",
       "      <td>24.98</td>\n",
       "      <td>NaN</td>\n",
       "      <td>4.21</td>\n",
       "      <td>-20.77</td>\n",
       "    </tr>\n",
       "    <tr>\n",
       "      <th>National</th>\n",
       "      <td>46.04</td>\n",
       "      <td>0.20</td>\n",
       "      <td>23.53</td>\n",
       "      <td>-22.51</td>\n",
       "    </tr>\n",
       "    <tr>\n",
       "      <th>IA</th>\n",
       "      <td>36.76</td>\n",
       "      <td>0.77</td>\n",
       "      <td>12.17</td>\n",
       "      <td>-24.59</td>\n",
       "    </tr>\n",
       "    <tr>\n",
       "      <th>NC</th>\n",
       "      <td>45.05</td>\n",
       "      <td>NaN</td>\n",
       "      <td>14.42</td>\n",
       "      <td>-30.63</td>\n",
       "    </tr>\n",
       "    <tr>\n",
       "      <th>OH</th>\n",
       "      <td>62.76</td>\n",
       "      <td>0.01</td>\n",
       "      <td>32.06</td>\n",
       "      <td>-30.70</td>\n",
       "    </tr>\n",
       "    <tr>\n",
       "      <th>PA</th>\n",
       "      <td>73.25</td>\n",
       "      <td>NaN</td>\n",
       "      <td>33.51</td>\n",
       "      <td>-39.74</td>\n",
       "    </tr>\n",
       "    <tr>\n",
       "      <th>FL</th>\n",
       "      <td>76.49</td>\n",
       "      <td>NaN</td>\n",
       "      <td>36.25</td>\n",
       "      <td>-40.24</td>\n",
       "    </tr>\n",
       "    <tr>\n",
       "      <th>NV</th>\n",
       "      <td>76.54</td>\n",
       "      <td>0.50</td>\n",
       "      <td>25.40</td>\n",
       "      <td>-51.14</td>\n",
       "    </tr>\n",
       "  </tbody>\n",
       "</table>\n",
       "</div>"
      ],
      "text/plain": [
       "sponsor_party      D     I      R  Diff between R & D\n",
       "state                                                \n",
       "WI             12.40   NaN  23.64               11.24\n",
       "CO             15.96   NaN  25.82                9.86\n",
       "VA              4.62   NaN   9.77                5.15\n",
       "NH             25.16   NaN  18.73               -6.43\n",
       "AZ             24.98   NaN   4.21              -20.77\n",
       "National       46.04  0.20  23.53              -22.51\n",
       "IA             36.76  0.77  12.17              -24.59\n",
       "NC             45.05   NaN  14.42              -30.63\n",
       "OH             62.76  0.01  32.06              -30.70\n",
       "PA             73.25   NaN  33.51              -39.74\n",
       "FL             76.49   NaN  36.25              -40.24\n",
       "NV             76.54  0.50  25.40              -51.14"
      ]
     },
     "execution_count": 202,
     "metadata": {},
     "output_type": "execute_result"
    }
   ],
   "source": [
    "df_ad_state_party_6"
   ]
  },
  {
   "cell_type": "code",
   "execution_count": 80,
   "metadata": {
    "collapsed": false
   },
   "outputs": [
    {
     "data": {
      "text/plain": [
       "Index(['WI', 'CO', 'VA', 'NH', 'AZ', 'National', 'IA', 'NC', 'OH', 'PA', 'FL',\n",
       "       'NV'],\n",
       "      dtype='object', name='state')"
      ]
     },
     "execution_count": 80,
     "metadata": {},
     "output_type": "execute_result"
    }
   ],
   "source": [
    "df_ad_state_party_6.index"
   ]
  },
  {
   "cell_type": "code",
   "execution_count": 203,
   "metadata": {
    "collapsed": false
   },
   "outputs": [
    {
     "data": {
      "text/plain": [
       "<matplotlib.axes._subplots.AxesSubplot at 0x123b4a5f8>"
      ]
     },
     "execution_count": 203,
     "metadata": {},
     "output_type": "execute_result"
    },
    {
     "data": {
      "image/png": "[encoded data removed]",
      "text/plain": [
       "<matplotlib.figure.Figure at 0x11afd9cc0>"
      ]
     },
     "metadata": {},
     "output_type": "display_data"
    }
   ],
   "source": [
    "#This is a repeat of the plot earlier\n",
    "df_ad_state_party_6.plot(kind='bar')"
   ]
  },
  {
   "cell_type": "code",
   "execution_count": 204,
   "metadata": {
    "collapsed": false
   },
   "outputs": [
    {
     "data": {
      "image/png": "[encoded data removed]",
      "text/plain": [
       "<matplotlib.figure.Figure at 0x123e6ddd8>"
      ]
     },
     "metadata": {},
     "output_type": "display_data"
    }
   ],
   "source": [
    "fig, ax = plt.subplots(figsize=(10, 6))\n",
    "ax = df_ad_state_party_6.plot.bar(ax=ax,color='byrg')\n",
    "\n",
    "ax.set(ylabel= 'Total Ad Volume in Hours',\n",
    "       title = 'Comparison of Ad volume between parties')\n",
    "plt.savefig('ana_final_pics/Ad volume comparison between parties.png')"
   ]
  },
  {
   "cell_type": "code",
   "execution_count": 82,
   "metadata": {
    "collapsed": false
   },
   "outputs": [],
   "source": [
    "df_Trump_2016_margins.set_index('state', inplace=True)"
   ]
  },
  {
   "cell_type": "code",
   "execution_count": 83,
   "metadata": {
    "collapsed": false
   },
   "outputs": [
    {
     "data": {
      "text/html": [
       "<div>\n",
       "<table border=\"1\" class=\"dataframe\">\n",
       "  <thead>\n",
       "    <tr style=\"text-align: right;\">\n",
       "      <th></th>\n",
       "      <th>2012 Percent margin</th>\n",
       "      <th>2012 Winner</th>\n",
       "      <th>2016 Percent margin</th>\n",
       "      <th>2016 Winner</th>\n",
       "      <th>Net Trump Margins</th>\n",
       "      <th>Comments</th>\n",
       "    </tr>\n",
       "    <tr>\n",
       "      <th>state</th>\n",
       "      <th></th>\n",
       "      <th></th>\n",
       "      <th></th>\n",
       "      <th></th>\n",
       "      <th></th>\n",
       "      <th></th>\n",
       "    </tr>\n",
       "  </thead>\n",
       "  <tbody>\n",
       "    <tr>\n",
       "      <th>IA</th>\n",
       "      <td>5.81</td>\n",
       "      <td>D</td>\n",
       "      <td>9.41</td>\n",
       "      <td>R</td>\n",
       "      <td>15.22</td>\n",
       "      <td>changed D to R</td>\n",
       "    </tr>\n",
       "    <tr>\n",
       "      <th>OH</th>\n",
       "      <td>2.97</td>\n",
       "      <td>D</td>\n",
       "      <td>8.07</td>\n",
       "      <td>R</td>\n",
       "      <td>11.04</td>\n",
       "      <td>changed D to R</td>\n",
       "    </tr>\n",
       "    <tr>\n",
       "      <th>WI</th>\n",
       "      <td>6.94</td>\n",
       "      <td>D</td>\n",
       "      <td>0.76</td>\n",
       "      <td>R</td>\n",
       "      <td>7.70</td>\n",
       "      <td>changed D to R</td>\n",
       "    </tr>\n",
       "    <tr>\n",
       "      <th>PA</th>\n",
       "      <td>5.38</td>\n",
       "      <td>D</td>\n",
       "      <td>0.72</td>\n",
       "      <td>R</td>\n",
       "      <td>6.10</td>\n",
       "      <td>changed D to R</td>\n",
       "    </tr>\n",
       "    <tr>\n",
       "      <th>NH</th>\n",
       "      <td>5.58</td>\n",
       "      <td>D</td>\n",
       "      <td>0.37</td>\n",
       "      <td>D</td>\n",
       "      <td>5.21</td>\n",
       "      <td>fell for D</td>\n",
       "    </tr>\n",
       "    <tr>\n",
       "      <th>NV</th>\n",
       "      <td>6.68</td>\n",
       "      <td>D</td>\n",
       "      <td>2.42</td>\n",
       "      <td>D</td>\n",
       "      <td>4.26</td>\n",
       "      <td>margin fell for D</td>\n",
       "    </tr>\n",
       "    <tr>\n",
       "      <th>NC</th>\n",
       "      <td>2.04</td>\n",
       "      <td>R</td>\n",
       "      <td>3.66</td>\n",
       "      <td>R</td>\n",
       "      <td>1.62</td>\n",
       "      <td>increased for R</td>\n",
       "    </tr>\n",
       "    <tr>\n",
       "      <th>CO</th>\n",
       "      <td>5.36</td>\n",
       "      <td>D</td>\n",
       "      <td>4.91</td>\n",
       "      <td>D</td>\n",
       "      <td>0.45</td>\n",
       "      <td>margin fell for D</td>\n",
       "    </tr>\n",
       "    <tr>\n",
       "      <th>FL</th>\n",
       "      <td>0.88</td>\n",
       "      <td>D</td>\n",
       "      <td>1.19</td>\n",
       "      <td>R</td>\n",
       "      <td>0.31</td>\n",
       "      <td>increased for R</td>\n",
       "    </tr>\n",
       "    <tr>\n",
       "      <th>VA</th>\n",
       "      <td>3.86</td>\n",
       "      <td>D</td>\n",
       "      <td>5.32</td>\n",
       "      <td>D</td>\n",
       "      <td>-1.46</td>\n",
       "      <td>fell for R</td>\n",
       "    </tr>\n",
       "    <tr>\n",
       "      <th>AZ</th>\n",
       "      <td>9.04</td>\n",
       "      <td>R</td>\n",
       "      <td>3.50</td>\n",
       "      <td>R</td>\n",
       "      <td>-5.54</td>\n",
       "      <td>fel for R</td>\n",
       "    </tr>\n",
       "  </tbody>\n",
       "</table>\n",
       "</div>"
      ],
      "text/plain": [
       "       2012 Percent margin  2012 Winner  2016 Percent margin 2016 Winner  \\\n",
       "state                                                                      \n",
       "IA                     5.81           D                 9.41           R   \n",
       "OH                     2.97           D                 8.07           R   \n",
       "WI                     6.94           D                 0.76           R   \n",
       "PA                     5.38           D                 0.72           R   \n",
       "NH                     5.58           D                 0.37           D   \n",
       "NV                     6.68           D                 2.42           D   \n",
       "NC                     2.04           R                 3.66           R   \n",
       "CO                     5.36           D                 4.91           D   \n",
       "FL                     0.88           D                 1.19           R   \n",
       "VA                     3.86           D                 5.32           D   \n",
       "AZ                     9.04           R                 3.50           R   \n",
       "\n",
       "       Net Trump Margins           Comments  \n",
       "state                                        \n",
       "IA                 15.22     changed D to R  \n",
       "OH                 11.04     changed D to R  \n",
       "WI                  7.70     changed D to R  \n",
       "PA                  6.10     changed D to R  \n",
       "NH                  5.21         fell for D  \n",
       "NV                  4.26  margin fell for D  \n",
       "NC                  1.62    increased for R  \n",
       "CO                  0.45  margin fell for D  \n",
       "FL                  0.31    increased for R  \n",
       "VA                 -1.46         fell for R  \n",
       "AZ                 -5.54          fel for R  "
      ]
     },
     "execution_count": 83,
     "metadata": {},
     "output_type": "execute_result"
    }
   ],
   "source": [
    "df_Trump_2016_margins"
   ]
  },
  {
   "cell_type": "code",
   "execution_count": 84,
   "metadata": {
    "collapsed": true
   },
   "outputs": [],
   "source": [
    "merged_df = df_Trump_2016_margins.join(df_ad_state_party_6)"
   ]
  },
  {
   "cell_type": "code",
   "execution_count": 85,
   "metadata": {
    "collapsed": false
   },
   "outputs": [
    {
     "data": {
      "text/html": [
       "<div>\n",
       "<table border=\"1\" class=\"dataframe\">\n",
       "  <thead>\n",
       "    <tr style=\"text-align: right;\">\n",
       "      <th></th>\n",
       "      <th>2012 Percent margin</th>\n",
       "      <th>2012 Winner</th>\n",
       "      <th>2016 Percent margin</th>\n",
       "      <th>2016 Winner</th>\n",
       "      <th>Net Trump Margins</th>\n",
       "      <th>Comments</th>\n",
       "      <th>D</th>\n",
       "      <th>I</th>\n",
       "      <th>R</th>\n",
       "      <th>Trump Ad Difference</th>\n",
       "    </tr>\n",
       "    <tr>\n",
       "      <th>state</th>\n",
       "      <th></th>\n",
       "      <th></th>\n",
       "      <th></th>\n",
       "      <th></th>\n",
       "      <th></th>\n",
       "      <th></th>\n",
       "      <th></th>\n",
       "      <th></th>\n",
       "      <th></th>\n",
       "      <th></th>\n",
       "    </tr>\n",
       "  </thead>\n",
       "  <tbody>\n",
       "    <tr>\n",
       "      <th>IA</th>\n",
       "      <td>5.81</td>\n",
       "      <td>D</td>\n",
       "      <td>9.41</td>\n",
       "      <td>R</td>\n",
       "      <td>15.22</td>\n",
       "      <td>changed D to R</td>\n",
       "      <td>36.76</td>\n",
       "      <td>0.77</td>\n",
       "      <td>12.17</td>\n",
       "      <td>-24.59</td>\n",
       "    </tr>\n",
       "    <tr>\n",
       "      <th>OH</th>\n",
       "      <td>2.97</td>\n",
       "      <td>D</td>\n",
       "      <td>8.07</td>\n",
       "      <td>R</td>\n",
       "      <td>11.04</td>\n",
       "      <td>changed D to R</td>\n",
       "      <td>62.76</td>\n",
       "      <td>0.01</td>\n",
       "      <td>32.06</td>\n",
       "      <td>-30.70</td>\n",
       "    </tr>\n",
       "    <tr>\n",
       "      <th>WI</th>\n",
       "      <td>6.94</td>\n",
       "      <td>D</td>\n",
       "      <td>0.76</td>\n",
       "      <td>R</td>\n",
       "      <td>7.70</td>\n",
       "      <td>changed D to R</td>\n",
       "      <td>12.40</td>\n",
       "      <td>NaN</td>\n",
       "      <td>23.64</td>\n",
       "      <td>11.24</td>\n",
       "    </tr>\n",
       "    <tr>\n",
       "      <th>PA</th>\n",
       "      <td>5.38</td>\n",
       "      <td>D</td>\n",
       "      <td>0.72</td>\n",
       "      <td>R</td>\n",
       "      <td>6.10</td>\n",
       "      <td>changed D to R</td>\n",
       "      <td>73.25</td>\n",
       "      <td>NaN</td>\n",
       "      <td>33.51</td>\n",
       "      <td>-39.74</td>\n",
       "    </tr>\n",
       "    <tr>\n",
       "      <th>NH</th>\n",
       "      <td>5.58</td>\n",
       "      <td>D</td>\n",
       "      <td>0.37</td>\n",
       "      <td>D</td>\n",
       "      <td>5.21</td>\n",
       "      <td>fell for D</td>\n",
       "      <td>25.16</td>\n",
       "      <td>NaN</td>\n",
       "      <td>18.73</td>\n",
       "      <td>-6.43</td>\n",
       "    </tr>\n",
       "  </tbody>\n",
       "</table>\n",
       "</div>"
      ],
      "text/plain": [
       "       2012 Percent margin  2012 Winner  2016 Percent margin 2016 Winner  \\\n",
       "state                                                                      \n",
       "IA                     5.81           D                 9.41           R   \n",
       "OH                     2.97           D                 8.07           R   \n",
       "WI                     6.94           D                 0.76           R   \n",
       "PA                     5.38           D                 0.72           R   \n",
       "NH                     5.58           D                 0.37           D   \n",
       "\n",
       "       Net Trump Margins        Comments      D     I      R  \\\n",
       "state                                                          \n",
       "IA                 15.22  changed D to R  36.76  0.77  12.17   \n",
       "OH                 11.04  changed D to R  62.76  0.01  32.06   \n",
       "WI                  7.70  changed D to R  12.40   NaN  23.64   \n",
       "PA                  6.10  changed D to R  73.25   NaN  33.51   \n",
       "NH                  5.21      fell for D  25.16   NaN  18.73   \n",
       "\n",
       "       Trump Ad Difference  \n",
       "state                       \n",
       "IA                  -24.59  \n",
       "OH                  -30.70  \n",
       "WI                   11.24  \n",
       "PA                  -39.74  \n",
       "NH                   -6.43  "
      ]
     },
     "execution_count": 85,
     "metadata": {},
     "output_type": "execute_result"
    }
   ],
   "source": [
    "merged_df.head()"
   ]
  },
  {
   "cell_type": "code",
   "execution_count": 86,
   "metadata": {
    "collapsed": true
   },
   "outputs": [],
   "source": [
    "#Save dataframe to pickle file\n",
    "merged_df.to_pickle('./data/TV_AD_TRUMP_VOLUME_VICTORY_MARGINES_7.pkl')"
   ]
  },
  {
   "cell_type": "code",
   "execution_count": 87,
   "metadata": {
    "collapsed": false
   },
   "outputs": [
    {
     "data": {
      "text/plain": [
       "<matplotlib.axes._subplots.AxesSubplot at 0x122c9e9e8>"
      ]
     },
     "execution_count": 87,
     "metadata": {},
     "output_type": "execute_result"
    },
    {
     "data": {
      "image/png": "[encoded data removed]",
      "text/plain": [
       "<matplotlib.figure.Figure at 0x122c78ef0>"
      ]
     },
     "metadata": {},
     "output_type": "display_data"
    }
   ],
   "source": [
    "merged_df.plot(x='Net Trump Margins', y='Trump Ad Difference', kind='scatter')"
   ]
  }
 ],
 "metadata": {
  "kernelspec": {
   "display_name": "Python 3",
   "language": "python",
   "name": "python3"
  },
  "language_info": {
   "codemirror_mode": {
    "name": "ipython",
    "version": 3
   },
   "file_extension": ".py",
   "mimetype": "text/x-python",
   "name": "python",
   "nbconvert_exporter": "python",
   "pygments_lexer": "ipython3",
   "version": "3.6.0"
  }
 },
 "nbformat": 4,
 "nbformat_minor": 2
}
