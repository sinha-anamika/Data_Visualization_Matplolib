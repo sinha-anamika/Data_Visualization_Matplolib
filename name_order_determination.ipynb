{
 "cells": [
  {
   "cell_type": "markdown",
   "metadata": {},
   "source": [
    "## Project 2 - Name Order Determination\n",
    "Instead of going with alphabetical order by last name, I thought we could have a little fun with this and use Python to help determine the order in which we list our names on the proposal, report, and presentation. Initially I had us listed alphabetically by last name: Chet Gutwein, Anamika Sinha, Nathaniel Velarde."
   ]
  },
  {
   "cell_type": "code",
   "execution_count": 1,
   "metadata": {
    "collapsed": true
   },
   "outputs": [],
   "source": [
    "import numpy as np\n",
    "from random import shuffle\n",
    "np.random.seed()"
   ]
  },
  {
   "cell_type": "code",
   "execution_count": 2,
   "metadata": {
    "collapsed": false
   },
   "outputs": [
    {
     "name": "stdout",
     "output_type": "stream",
     "text": [
      "['Anamika Sinha', 'Chet Gutwein', 'Nathaniel Velarde']\n"
     ]
    }
   ],
   "source": [
    "## list of names\n",
    "group_names = ['Chet Gutwein', 'Anamika Sinha', 'Nathaniel Velarde'] ## alphabetical by last name\n",
    "shuffle(group_names)\n",
    "print(group_names)"
   ]
  }
 ],
 "metadata": {
  "kernelspec": {
   "display_name": "Python [conda root]",
   "language": "python",
   "name": "conda-root-py"
  },
  "language_info": {
   "codemirror_mode": {
    "name": "ipython",
    "version": 3
   },
   "file_extension": ".py",
   "mimetype": "text/x-python",
   "name": "python",
   "nbconvert_exporter": "python",
   "pygments_lexer": "ipython3",
   "version": "3.5.2"
  }
 },
 "nbformat": 4,
 "nbformat_minor": 1
}
